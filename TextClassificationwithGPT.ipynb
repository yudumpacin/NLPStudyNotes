{
  "nbformat": 4,
  "nbformat_minor": 0,
  "metadata": {
    "colab": {
      "provenance": [],
      "gpuType": "A100",
      "machine_shape": "hm",
      "include_colab_link": true
    },
    "kernelspec": {
      "name": "python3",
      "display_name": "Python 3"
    },
    "language_info": {
      "name": "python"
    },
    "accelerator": "GPU"
  },
  "cells": [
    {
      "cell_type": "markdown",
      "metadata": {
        "id": "view-in-github",
        "colab_type": "text"
      },
      "source": [
        "<a href=\"https://colab.research.google.com/github/yudumpacin/NLPStudyNotes/blob/main/TextClassificationwithGPT.ipynb\" target=\"_parent\"><img src=\"https://colab.research.google.com/assets/colab-badge.svg\" alt=\"Open In Colab\"/></a>"
      ]
    },
    {
      "cell_type": "markdown",
      "source": [
        "This code is heavily inspired from [Sebastian Raschka](https://x.com/rasbt)'s excellent book, \"[Build a Large Language Model (From Scratch)](https://www.manning.com/books/build-a-large-language-model-from-scratch)\".\n",
        "\n",
        " Moreover inspired by [viraat](https://x.com/virattt)'s [spam classificationcolab notebook](https://colab.research.google.com/gist/virattt/ddb43fc3d6c0c66abe29a158fe79aa85/finetuned-spam-classifier.ipynb)\n",
        "\n",
        "I changed this notebook to a multiclass classification training model with Turkish new classification dataset\n"
      ],
      "metadata": {
        "id": "trJ-72cdxUrk"
      }
    },
    {
      "cell_type": "code",
      "execution_count": 1,
      "metadata": {
        "id": "JjUMuuOVcwUu"
      },
      "outputs": [],
      "source": [
        "!pip install tensorflow>=2.15.0  tqdm>=4.66 tiktoken --quiet"
      ]
    },
    {
      "cell_type": "markdown",
      "source": [
        "## 1. Download GPT-2 weights"
      ],
      "metadata": {
        "id": "SRp6rGQUdBaE"
      }
    },
    {
      "cell_type": "code",
      "source": [
        "import urllib.request\n",
        "url = (\n",
        "    \"https://raw.githubusercontent.com/rasbt/\"\n",
        "    \"LLMs-from-scratch/main/ch05/\"\n",
        "    \"01_main-chapter-code/gpt_download.py\"\n",
        ")\n",
        "filename = url.split('/')[-1]\n",
        "urllib.request.urlretrieve(url, filename)"
      ],
      "metadata": {
        "id": "BQn6sVAUc0PA",
        "colab": {
          "base_uri": "https://localhost:8080/"
        },
        "outputId": "244ad494-e43c-4a3f-8ecb-b543e759368a"
      },
      "execution_count": 1,
      "outputs": [
        {
          "output_type": "execute_result",
          "data": {
            "text/plain": [
              "('gpt_download.py', <http.client.HTTPMessage at 0x7c406c1a6170>)"
            ]
          },
          "metadata": {},
          "execution_count": 1
        }
      ]
    },
    {
      "cell_type": "code",
      "source": [
        "from gpt_download import download_and_load_gpt2\n",
        "settings, params = download_and_load_gpt2(\n",
        "    model_size=\"124M\", models_dir=\"gpt2\"\n",
        ")"
      ],
      "metadata": {
        "id": "ADC-bKmkc88N",
        "colab": {
          "base_uri": "https://localhost:8080/"
        },
        "outputId": "806d38d9-304c-4d26-f539-fdacdfa1f63e"
      },
      "execution_count": 2,
      "outputs": [
        {
          "output_type": "stream",
          "name": "stdout",
          "text": [
            "File already exists and is up-to-date: gpt2/124M/checkpoint\n",
            "File already exists and is up-to-date: gpt2/124M/encoder.json\n",
            "File already exists and is up-to-date: gpt2/124M/hparams.json\n",
            "File already exists and is up-to-date: gpt2/124M/model.ckpt.data-00000-of-00001\n",
            "File already exists and is up-to-date: gpt2/124M/model.ckpt.index\n",
            "File already exists and is up-to-date: gpt2/124M/model.ckpt.meta\n",
            "File already exists and is up-to-date: gpt2/124M/vocab.bpe\n"
          ]
        }
      ]
    },
    {
      "cell_type": "markdown",
      "source": [
        "## 2. Inspect the model"
      ],
      "metadata": {
        "id": "pMubTP-zdDu7"
      }
    },
    {
      "cell_type": "code",
      "source": [
        "print(\"Settings:\", settings)\n",
        "print(\"Parameter dictionary keys:\", params.keys())"
      ],
      "metadata": {
        "id": "6-TYTYUsdOl-",
        "colab": {
          "base_uri": "https://localhost:8080/"
        },
        "outputId": "7f1d04b8-946b-46f5-dfc3-6cef9fc836e3"
      },
      "execution_count": 3,
      "outputs": [
        {
          "output_type": "stream",
          "name": "stdout",
          "text": [
            "Settings: {'n_vocab': 50257, 'n_ctx': 1024, 'n_embd': 768, 'n_head': 12, 'n_layer': 12}\n",
            "Parameter dictionary keys: dict_keys(['blocks', 'b', 'g', 'wpe', 'wte'])\n"
          ]
        }
      ]
    },
    {
      "cell_type": "markdown",
      "source": [
        "## 3. Set model configuration"
      ],
      "metadata": {
        "id": "xAdzxZLFhpVi"
      }
    },
    {
      "cell_type": "code",
      "source": [
        "model_configs = {\n",
        "    \"gpt2-small (124M)\": {\"emb_dim\": 768, \"n_layers\": 12, \"n_heads\": 12},\n",
        "    \"gpt2-medium (355M)\": {\"emb_dim\": 1024, \"n_layers\": 24, \"n_heads\": 16},\n",
        "    \"gpt2-large (774M)\": {\"emb_dim\": 1280, \"n_layers\": 36, \"n_heads\": 20},\n",
        "    \"gpt2-xl (1558M)\": {\"emb_dim\": 1600, \"n_layers\": 48, \"n_heads\": 25},\n",
        "}"
      ],
      "metadata": {
        "id": "bl9gJlAFh0U_"
      },
      "execution_count": 4,
      "outputs": []
    },
    {
      "cell_type": "code",
      "source": [
        "GPT_CONFIG_124M = {\n",
        "    \"vocab_size\": 50257,\n",
        "    \"context_length\": 1024,\n",
        "    \"emb_dim\": 768,\n",
        "    \"n_heads\": 12,\n",
        "    \"n_layers\": 12,\n",
        "    \"drop_rate\": 0.1,\n",
        "    \"qkv_bias\": False\n",
        "}"
      ],
      "metadata": {
        "id": "RL1V2iHIiDHs"
      },
      "execution_count": 5,
      "outputs": []
    },
    {
      "cell_type": "code",
      "source": [
        "model_name = \"gpt2-small (124M)\"\n",
        "NEW_CONFIG = GPT_CONFIG_124M.copy()\n",
        "NEW_CONFIG.update(model_configs[model_name])"
      ],
      "metadata": {
        "id": "zvm7vlLTh2N5"
      },
      "execution_count": 6,
      "outputs": []
    },
    {
      "cell_type": "code",
      "source": [
        "NEW_CONFIG.update({\"context_length\": 1024})\n",
        "NEW_CONFIG.update({\"qkv_bias\": True})"
      ],
      "metadata": {
        "id": "xS9QwTbph4oa"
      },
      "execution_count": 7,
      "outputs": []
    },
    {
      "cell_type": "markdown",
      "source": [
        "## 4. Implement layer normalization module"
      ],
      "metadata": {
        "id": "egGH8ZTDiFe3"
      }
    },
    {
      "cell_type": "code",
      "source": [
        "import torch\n",
        "import torch.nn as nn\n",
        "\n",
        "class LayerNorm(nn.Module):\n",
        "  def __init__(self, emb_dim):\n",
        "    super().__init__()\n",
        "    self.eps = 1e-5\n",
        "    self.scale = nn.Parameter(torch.ones(emb_dim))\n",
        "    self.shift = nn.Parameter(torch.zeros(emb_dim))\n",
        "\n",
        "  def forward(self, x):\n",
        "    mean = x.mean(dim=-1, keepdim=True)\n",
        "    var = x.var(dim=-1, keepdim=True, unbiased=False)\n",
        "    normalized_x = (x - mean) / torch.sqrt(var + self.eps)\n",
        "    return self.scale * normalized_x + self.shift"
      ],
      "metadata": {
        "id": "jGoHg0GZiaLE"
      },
      "execution_count": 8,
      "outputs": []
    },
    {
      "cell_type": "markdown",
      "source": [
        "## 5. Define multi-head attention block"
      ],
      "metadata": {
        "id": "99VI0N4qifuq"
      }
    },
    {
      "cell_type": "code",
      "source": [
        "class MultiHeadAttention(nn.Module):\n",
        "  def __init__(self, d_in, d_out, context_length, dropout, num_heads, qkv_bias=False):\n",
        "    super().__init__()\n",
        "\n",
        "    assert d_out % num_heads == 0, \"d_out must be divisible by num_heads\"\n",
        "\n",
        "    self.d_out = d_out                  # 768\n",
        "    self.num_heads = num_heads          # 12\n",
        "    self.head_dim = d_out // num_heads  # 64\n",
        "    self.W_query = nn.Linear(d_in, d_out, bias=qkv_bias)\n",
        "    self.W_key = nn.Linear(d_in, d_out, bias=qkv_bias)\n",
        "    self.W_value = nn.Linear(d_in, d_out, bias=qkv_bias)\n",
        "    self.out_proj = nn.Linear(d_out, d_out)\n",
        "    self.dropout = nn.Dropout(dropout)\n",
        "    self.register_buffer(\n",
        "        'mask',\n",
        "        torch.triu(torch.ones(\n",
        "            context_length,             # 1024\n",
        "            context_length,             # 1024\n",
        "          ), diagonal=1)\n",
        "    )\n",
        "\n",
        "  def forward(self, x):\n",
        "    batch_size, num_tokens, embedding_length = x.shape\n",
        "    keys = self.W_key(x)\n",
        "    queries = self.W_query(x)\n",
        "    values = self.W_value(x)\n",
        "\n",
        "    # Add the num_heads and head_dim dimensions\n",
        "    keys = keys.view(batch_size, num_tokens, self.num_heads, self.head_dim)       # Transform to a tensor of dimensions: 2 x 1024 x 12 x 64\n",
        "    queries = queries.view(batch_size, num_tokens, self.num_heads, self.head_dim) # Transform to a tensor of dimensions: 2 x 1024 x 12 x 64\n",
        "    values = values.view(batch_size, num_tokens, self.num_heads, self.head_dim)   # Transform to a tensor of dimensions: 2 x 1024 x 12 x 64\n",
        "\n",
        "    # Transpose from (batch_size, num_tokens, num_heads, head_dim) to (batch_size, num_heads, num_tokens, head_dim)\n",
        "    queries = queries.transpose(1, 2)\n",
        "    keys = keys.transpose(1, 2)\n",
        "    values = values.transpose(1, 2)\n",
        "\n",
        "    # Calculate attention scores\n",
        "    attention_scores = queries @ keys.transpose(2, 3)\n",
        "    mask_bool = self.mask.bool()[:num_tokens, :num_tokens]\n",
        "\n",
        "    # Mask the attention scores\n",
        "    attention_scores.masked_fill_(mask_bool, -torch.inf)\n",
        "\n",
        "    # Calculate attention weights\n",
        "    attention_weights = torch.softmax(attention_scores / keys.shape[-1]**0.5, dim=-1)\n",
        "\n",
        "    # Apply dropout to attention weights\n",
        "    attention_weights = self.dropout(attention_weights)\n",
        "\n",
        "    # Calculate context vectors\n",
        "    context_vectors = (attention_weights @ values).transpose(1, 2)\n",
        "\n",
        "    # Concatenate the context vectors\n",
        "    context_vectors = context_vectors.contiguous().view(batch_size, num_tokens, self.d_out)\n",
        "    return self.out_proj(context_vectors)"
      ],
      "metadata": {
        "id": "D5Li6QkJiie_"
      },
      "execution_count": 9,
      "outputs": []
    },
    {
      "cell_type": "markdown",
      "source": [
        "## 6. Implement feed-forward network"
      ],
      "metadata": {
        "id": "g38IxAeYitXn"
      }
    },
    {
      "cell_type": "code",
      "source": [
        "class GELU(nn.Module):\n",
        "    def __init__(self):\n",
        "        super().__init__()\n",
        "\n",
        "    def forward(self, x):\n",
        "        return 0.5 * x * (1 + torch.tanh(\n",
        "            torch.sqrt(torch.tensor(2.0 / torch.pi)) *\n",
        "            (x + 0.044715 * torch.pow(x, 3))\n",
        "        ))"
      ],
      "metadata": {
        "id": "u_L6RgkFiy0X"
      },
      "execution_count": 10,
      "outputs": []
    },
    {
      "cell_type": "code",
      "source": [
        "# Implement feed-forward neural network\n",
        "class FeedForward(nn.Module):\n",
        "  def __init__(self, config):\n",
        "    super().__init__()\n",
        "    self.layers = nn.Sequential(\n",
        "        nn.Linear(config[\"emb_dim\"], 4 * config[\"emb_dim\"]),\n",
        "        GELU(),\n",
        "        nn.Linear(4 * config[\"emb_dim\"], config[\"emb_dim\"]),\n",
        "    )\n",
        "\n",
        "  def forward(self, x):\n",
        "    return self.layers(x)"
      ],
      "metadata": {
        "id": "IQmM8nM-iwsK"
      },
      "execution_count": 11,
      "outputs": []
    },
    {
      "cell_type": "markdown",
      "source": [
        "## 7. Implement transformer block"
      ],
      "metadata": {
        "id": "gEOT4ja6i7Tv"
      }
    },
    {
      "cell_type": "code",
      "source": [
        "class TransformerBlock(nn.Module):\n",
        "  def __init__(self, config):\n",
        "    super().__init__()\n",
        "\n",
        "    self.attention = MultiHeadAttention(\n",
        "        d_in=config[\"emb_dim\"],\n",
        "        d_out=config[\"emb_dim\"],\n",
        "        context_length=config[\"context_length\"],\n",
        "        dropout=config[\"drop_rate\"],\n",
        "        num_heads=config[\"n_heads\"],\n",
        "        qkv_bias=config[\"qkv_bias\"]\n",
        "    )\n",
        "\n",
        "    self.ff = FeedForward(config)\n",
        "    self.norm1 = LayerNorm(config[\"emb_dim\"])\n",
        "    self.norm2 = LayerNorm(config[\"emb_dim\"])\n",
        "    self.drop_shortcut = nn.Dropout(config[\"drop_rate\"])\n",
        "\n",
        "  def forward(self, x):\n",
        "    shortcut = x\n",
        "\n",
        "    # Attention layer\n",
        "    x = self.norm1(x)\n",
        "    x = self.attention(x)\n",
        "    x = self.drop_shortcut(x)\n",
        "    x = x + shortcut         # Add the original input back\n",
        "\n",
        "    # Feedforward layer\n",
        "    shortcut = x\n",
        "    x = self.norm2(x)\n",
        "    x = self.ff(x)\n",
        "    x = self.drop_shortcut(x)\n",
        "    x = x + shortcut         # Add the original input back\n",
        "    return x"
      ],
      "metadata": {
        "id": "LCQuk35siTma"
      },
      "execution_count": 12,
      "outputs": []
    },
    {
      "cell_type": "markdown",
      "source": [
        "## 8. Implement GPT model"
      ],
      "metadata": {
        "id": "QD5GFwbOi9sJ"
      }
    },
    {
      "cell_type": "code",
      "source": [
        "class GPTModel(nn.Module):\n",
        "  def __init__(self, config):\n",
        "    super().__init__()\n",
        "\n",
        "    self.token_embedding = nn.Embedding(config[\"vocab_size\"], config[\"emb_dim\"])\n",
        "    self.positional_embedding = nn.Embedding(config[\"context_length\"], config[\"emb_dim\"])\n",
        "    self.drop_embedding = nn.Dropout(config[\"drop_rate\"])\n",
        "\n",
        "    self.trf_blocks = nn.Sequential(\n",
        "        *[TransformerBlock(config) for _ in range(config[\"n_layers\"])]\n",
        "    )\n",
        "\n",
        "    self.final_norm = LayerNorm(config[\"emb_dim\"])\n",
        "    self.out_head = nn.Linear(config[\"emb_dim\"], config[\"vocab_size\"], bias=False)\n",
        "\n",
        "  def forward(self, in_idx):\n",
        "    batch_size, sequence_length = in_idx.shape\n",
        "    token_embeddings = self.token_embedding(in_idx)\n",
        "    positional_embeddings = self.positional_embedding(\n",
        "        torch.arange(sequence_length, device=in_idx.device)\n",
        "    )\n",
        "    x = token_embeddings + positional_embeddings\n",
        "    x = self.drop_embedding(x)\n",
        "\n",
        "    x = self.trf_blocks(x)\n",
        "    x = self.final_norm(x)\n",
        "    logits = self.out_head(x)\n",
        "    return logits"
      ],
      "metadata": {
        "id": "ih6Drsn1iMdi"
      },
      "execution_count": 13,
      "outputs": []
    },
    {
      "cell_type": "markdown",
      "source": [
        "## 9. Implement function for loading weights"
      ],
      "metadata": {
        "id": "pd7CHVANkLQK"
      }
    },
    {
      "cell_type": "code",
      "source": [
        "# Load the weights\n",
        "def assign(left, right):\n",
        "    if left.shape != right.shape:\n",
        "        raise ValueError(f\"Shape mismatch. Left: {left.shape}, \"\n",
        "                          \"Right: {right.shape}\")\n",
        "    return torch.nn.Parameter(torch.tensor(right))\n",
        "\n",
        "import numpy as np\n",
        "\n",
        "def load_weights_into_gpt(gpt, params):\n",
        "    gpt.positional_embedding.weight = assign(gpt.positional_embedding.weight, params['wpe'])\n",
        "    gpt.token_embedding.weight = assign(gpt.token_embedding.weight, params['wte'])\n",
        "\n",
        "    for b in range(len(params[\"blocks\"])):\n",
        "        q_w, k_w, v_w = np.split(\n",
        "            (params[\"blocks\"][b][\"attn\"][\"c_attn\"])[\"w\"], 3, axis=-1)\n",
        "        gpt.trf_blocks[b].attention.W_query.weight = assign(\n",
        "            gpt.trf_blocks[b].attention.W_query.weight, q_w.T)\n",
        "        gpt.trf_blocks[b].attention.W_key.weight = assign(\n",
        "            gpt.trf_blocks[b].attention.W_key.weight, k_w.T)\n",
        "        gpt.trf_blocks[b].attention.W_value.weight = assign(\n",
        "            gpt.trf_blocks[b].attention.W_value.weight, v_w.T)\n",
        "\n",
        "        q_b, k_b, v_b = np.split(\n",
        "            (params[\"blocks\"][b][\"attn\"][\"c_attn\"])[\"b\"], 3, axis=-1)\n",
        "        gpt.trf_blocks[b].attention.W_query.bias = assign(\n",
        "            gpt.trf_blocks[b].attention.W_query.bias, q_b)\n",
        "        gpt.trf_blocks[b].attention.W_key.bias = assign(\n",
        "            gpt.trf_blocks[b].attention.W_key.bias, k_b)\n",
        "        gpt.trf_blocks[b].attention.W_value.bias = assign(\n",
        "            gpt.trf_blocks[b].attention.W_value.bias, v_b)\n",
        "\n",
        "        gpt.trf_blocks[b].attention.out_proj.weight = assign(\n",
        "            gpt.trf_blocks[b].attention.out_proj.weight,\n",
        "            params[\"blocks\"][b][\"attn\"][\"c_proj\"][\"w\"].T)\n",
        "        gpt.trf_blocks[b].attention.out_proj.bias = assign(\n",
        "            gpt.trf_blocks[b].attention.out_proj.bias,\n",
        "            params[\"blocks\"][b][\"attn\"][\"c_proj\"][\"b\"])\n",
        "\n",
        "        gpt.trf_blocks[b].ff.layers[0].weight = assign(\n",
        "            gpt.trf_blocks[b].ff.layers[0].weight,\n",
        "            params[\"blocks\"][b][\"mlp\"][\"c_fc\"][\"w\"].T)\n",
        "        gpt.trf_blocks[b].ff.layers[0].bias = assign(\n",
        "            gpt.trf_blocks[b].ff.layers[0].bias,\n",
        "            params[\"blocks\"][b][\"mlp\"][\"c_fc\"][\"b\"])\n",
        "        gpt.trf_blocks[b].ff.layers[2].weight = assign(\n",
        "            gpt.trf_blocks[b].ff.layers[2].weight,\n",
        "            params[\"blocks\"][b][\"mlp\"][\"c_proj\"][\"w\"].T)\n",
        "        gpt.trf_blocks[b].ff.layers[2].bias = assign(\n",
        "            gpt.trf_blocks[b].ff.layers[2].bias,\n",
        "            params[\"blocks\"][b][\"mlp\"][\"c_proj\"][\"b\"])\n",
        "\n",
        "        gpt.trf_blocks[b].norm1.scale = assign(\n",
        "            gpt.trf_blocks[b].norm1.scale,\n",
        "            params[\"blocks\"][b][\"ln_1\"][\"g\"])\n",
        "        gpt.trf_blocks[b].norm1.shift = assign(\n",
        "            gpt.trf_blocks[b].norm1.shift,\n",
        "            params[\"blocks\"][b][\"ln_1\"][\"b\"])\n",
        "        gpt.trf_blocks[b].norm2.scale = assign(\n",
        "            gpt.trf_blocks[b].norm2.scale,\n",
        "            params[\"blocks\"][b][\"ln_2\"][\"g\"])\n",
        "        gpt.trf_blocks[b].norm2.shift = assign(\n",
        "            gpt.trf_blocks[b].norm2.shift,\n",
        "            params[\"blocks\"][b][\"ln_2\"][\"b\"])\n",
        "\n",
        "    gpt.final_norm.scale = assign(gpt.final_norm.scale, params[\"g\"])\n",
        "    gpt.final_norm.shift = assign(gpt.final_norm.shift, params[\"b\"])\n",
        "    gpt.out_head.weight = assign(gpt.out_head.weight, params[\"wte\"])"
      ],
      "metadata": {
        "id": "LoErPaJxi4UT"
      },
      "execution_count": 14,
      "outputs": []
    },
    {
      "cell_type": "markdown",
      "source": [
        "## 10. Implement model helper functions"
      ],
      "metadata": {
        "id": "yrD5GGKkjVBT"
      }
    },
    {
      "cell_type": "code",
      "source": [
        "def generate(model, idx, max_new_tokens, context_size, temperature=0.0, top_k=None, eos_id=None):\n",
        "    for _ in range(max_new_tokens):\n",
        "        idx_cond = idx[:, -context_size:]\n",
        "        with torch.no_grad():\n",
        "            logits = model(idx_cond)\n",
        "        logits = logits[:, -1, :]\n",
        "        if top_k is not None:\n",
        "            top_logits, _ = torch.topk(logits, top_k)\n",
        "            min_val = top_logits[:, -1]\n",
        "            logits = torch.where(\n",
        "                logits < min_val,\n",
        "                torch.tensor(float('-inf')).to(logits.device),\n",
        "                logits\n",
        "            )\n",
        "        if temperature > 0.0:\n",
        "            logits = logits / temperature\n",
        "            probs = torch.softmax(logits, dim=-1)\n",
        "            idx_next = torch.multinomial(probs, num_samples=1)\n",
        "        else:\n",
        "            idx_next = torch.argmax(logits, dim=-1, keepdim=True)\n",
        "        if idx_next == eos_id:\n",
        "            break\n",
        "        idx = torch.cat((idx, idx_next), dim=1)\n",
        "    return idx"
      ],
      "metadata": {
        "id": "NiCZNuCMkT6D"
      },
      "execution_count": 15,
      "outputs": []
    },
    {
      "cell_type": "code",
      "source": [
        "import tiktoken\n",
        "\n",
        "def text_to_token_ids(text, tokenizer):\n",
        "    encoded = tokenizer.encode(text, allowed_special={'<|endoftext|>'})\n",
        "    encoded_tensor = torch.tensor(encoded).unsqueeze(0)\n",
        "    # .unsqueeze(0) adds the batch dimension\n",
        "    return encoded_tensor\n",
        "\n",
        "def token_ids_to_text(token_ids, tokenizer):\n",
        "    flat = token_ids.squeeze(0) # Remove batch dimension\n",
        "    return tokenizer.decode(flat.tolist())\n",
        "\n",
        "tokenizer = tiktoken.get_encoding(\"gpt2\")"
      ],
      "metadata": {
        "id": "SyAv1bU4kYHv"
      },
      "execution_count": 16,
      "outputs": []
    },
    {
      "cell_type": "markdown",
      "source": [
        "## 11. Download finetuning dataset"
      ],
      "metadata": {
        "id": "Py-r3i7WqiAb"
      }
    },
    {
      "cell_type": "code",
      "source": [
        "\n",
        "import pandas as pd"
      ],
      "metadata": {
        "id": "zOeox-30gwpV"
      },
      "execution_count": 17,
      "outputs": []
    },
    {
      "cell_type": "code",
      "source": [
        "!pip install -q kaggle\n",
        "!mkdir -p ~/.kaggle\n",
        "\n",
        "!cp kaggle.json ~/.kaggle\n",
        "\n",
        "\n",
        "!chmod 600 /root/.kaggle/kaggle.json\n",
        "!kaggle datasets download -d savasy/ttc4900\n",
        "\n",
        "!unzip /content/ttc4900"
      ],
      "metadata": {
        "colab": {
          "base_uri": "https://localhost:8080/"
        },
        "id": "9Z7Lbv7YqkJg",
        "outputId": "4e615add-4fda-4f6b-f10e-72c86bcafccf"
      },
      "execution_count": 18,
      "outputs": [
        {
          "output_type": "stream",
          "name": "stdout",
          "text": [
            "cp: cannot stat 'kaggle.json': No such file or directory\n",
            "chmod: cannot access '/root/.kaggle/kaggle.json': No such file or directory\n",
            "Dataset URL: https://www.kaggle.com/datasets/savasy/ttc4900\n",
            "License(s): CC0-1.0\n",
            "ttc4900.zip: Skipping, found more recently modified local copy (use --force to force download)\n",
            "Archive:  /content/ttc4900.zip\n",
            "replace 7allV03.csv? [y]es, [n]o, [A]ll, [N]one, [r]ename: y\n",
            "  inflating: 7allV03.csv             \n"
          ]
        }
      ]
    },
    {
      "cell_type": "code",
      "source": [
        "\n",
        "df = pd.read_csv(\"/content/7allV03.csv\")\n",
        "df"
      ],
      "metadata": {
        "colab": {
          "base_uri": "https://localhost:8080/",
          "height": 423
        },
        "id": "z72ffzX3rIWe",
        "outputId": "f5dfc2ed-eacf-46bc-d502-4fd41ea30341"
      },
      "execution_count": 19,
      "outputs": [
        {
          "output_type": "execute_result",
          "data": {
            "text/plain": [
              "        category                                               text\n",
              "0       siyaset    3 milyon ile ön seçim vaadi mhp nin 10 olağan...\n",
              "1       siyaset    mesut_yılmaz yüce_divan da ceza alabilirdi pr...\n",
              "2       siyaset    disko lar kaldırılıyor başbakan_yardımcısı ar...\n",
              "3       siyaset    sarıgül anayasa_mahkemesi ne gidiyor mustafa_...\n",
              "4       siyaset    erdoğan idamın bir haklılık sebebi var demek ...\n",
              "...          ...                                                ...\n",
              "4895  teknoloji    iphone lara geri dönüyor ios 6 sürümüyle tele...\n",
              "4896  teknoloji    muslukta devrim sadece elimizi yıkadığımız mu...\n",
              "4897  teknoloji    halka iyi anlatılmalı bilgi_teknolojileri ile...\n",
              "4898  teknoloji    çöpe gidiyorlar apple 775 bin uygulamayla app...\n",
              "4899  teknoloji    google bu kez edward_gorey dedi ! google bu k...\n",
              "\n",
              "[4900 rows x 2 columns]"
            ],
            "text/html": [
              "\n",
              "  <div id=\"df-44052979-0ac8-405a-9854-ac5ba24f5c64\" class=\"colab-df-container\">\n",
              "    <div>\n",
              "<style scoped>\n",
              "    .dataframe tbody tr th:only-of-type {\n",
              "        vertical-align: middle;\n",
              "    }\n",
              "\n",
              "    .dataframe tbody tr th {\n",
              "        vertical-align: top;\n",
              "    }\n",
              "\n",
              "    .dataframe thead th {\n",
              "        text-align: right;\n",
              "    }\n",
              "</style>\n",
              "<table border=\"1\" class=\"dataframe\">\n",
              "  <thead>\n",
              "    <tr style=\"text-align: right;\">\n",
              "      <th></th>\n",
              "      <th>category</th>\n",
              "      <th>text</th>\n",
              "    </tr>\n",
              "  </thead>\n",
              "  <tbody>\n",
              "    <tr>\n",
              "      <th>0</th>\n",
              "      <td>siyaset</td>\n",
              "      <td>3 milyon ile ön seçim vaadi mhp nin 10 olağan...</td>\n",
              "    </tr>\n",
              "    <tr>\n",
              "      <th>1</th>\n",
              "      <td>siyaset</td>\n",
              "      <td>mesut_yılmaz yüce_divan da ceza alabilirdi pr...</td>\n",
              "    </tr>\n",
              "    <tr>\n",
              "      <th>2</th>\n",
              "      <td>siyaset</td>\n",
              "      <td>disko lar kaldırılıyor başbakan_yardımcısı ar...</td>\n",
              "    </tr>\n",
              "    <tr>\n",
              "      <th>3</th>\n",
              "      <td>siyaset</td>\n",
              "      <td>sarıgül anayasa_mahkemesi ne gidiyor mustafa_...</td>\n",
              "    </tr>\n",
              "    <tr>\n",
              "      <th>4</th>\n",
              "      <td>siyaset</td>\n",
              "      <td>erdoğan idamın bir haklılık sebebi var demek ...</td>\n",
              "    </tr>\n",
              "    <tr>\n",
              "      <th>...</th>\n",
              "      <td>...</td>\n",
              "      <td>...</td>\n",
              "    </tr>\n",
              "    <tr>\n",
              "      <th>4895</th>\n",
              "      <td>teknoloji</td>\n",
              "      <td>iphone lara geri dönüyor ios 6 sürümüyle tele...</td>\n",
              "    </tr>\n",
              "    <tr>\n",
              "      <th>4896</th>\n",
              "      <td>teknoloji</td>\n",
              "      <td>muslukta devrim sadece elimizi yıkadığımız mu...</td>\n",
              "    </tr>\n",
              "    <tr>\n",
              "      <th>4897</th>\n",
              "      <td>teknoloji</td>\n",
              "      <td>halka iyi anlatılmalı bilgi_teknolojileri ile...</td>\n",
              "    </tr>\n",
              "    <tr>\n",
              "      <th>4898</th>\n",
              "      <td>teknoloji</td>\n",
              "      <td>çöpe gidiyorlar apple 775 bin uygulamayla app...</td>\n",
              "    </tr>\n",
              "    <tr>\n",
              "      <th>4899</th>\n",
              "      <td>teknoloji</td>\n",
              "      <td>google bu kez edward_gorey dedi ! google bu k...</td>\n",
              "    </tr>\n",
              "  </tbody>\n",
              "</table>\n",
              "<p>4900 rows × 2 columns</p>\n",
              "</div>\n",
              "    <div class=\"colab-df-buttons\">\n",
              "\n",
              "  <div class=\"colab-df-container\">\n",
              "    <button class=\"colab-df-convert\" onclick=\"convertToInteractive('df-44052979-0ac8-405a-9854-ac5ba24f5c64')\"\n",
              "            title=\"Convert this dataframe to an interactive table.\"\n",
              "            style=\"display:none;\">\n",
              "\n",
              "  <svg xmlns=\"http://www.w3.org/2000/svg\" height=\"24px\" viewBox=\"0 -960 960 960\">\n",
              "    <path d=\"M120-120v-720h720v720H120Zm60-500h600v-160H180v160Zm220 220h160v-160H400v160Zm0 220h160v-160H400v160ZM180-400h160v-160H180v160Zm440 0h160v-160H620v160ZM180-180h160v-160H180v160Zm440 0h160v-160H620v160Z\"/>\n",
              "  </svg>\n",
              "    </button>\n",
              "\n",
              "  <style>\n",
              "    .colab-df-container {\n",
              "      display:flex;\n",
              "      gap: 12px;\n",
              "    }\n",
              "\n",
              "    .colab-df-convert {\n",
              "      background-color: #E8F0FE;\n",
              "      border: none;\n",
              "      border-radius: 50%;\n",
              "      cursor: pointer;\n",
              "      display: none;\n",
              "      fill: #1967D2;\n",
              "      height: 32px;\n",
              "      padding: 0 0 0 0;\n",
              "      width: 32px;\n",
              "    }\n",
              "\n",
              "    .colab-df-convert:hover {\n",
              "      background-color: #E2EBFA;\n",
              "      box-shadow: 0px 1px 2px rgba(60, 64, 67, 0.3), 0px 1px 3px 1px rgba(60, 64, 67, 0.15);\n",
              "      fill: #174EA6;\n",
              "    }\n",
              "\n",
              "    .colab-df-buttons div {\n",
              "      margin-bottom: 4px;\n",
              "    }\n",
              "\n",
              "    [theme=dark] .colab-df-convert {\n",
              "      background-color: #3B4455;\n",
              "      fill: #D2E3FC;\n",
              "    }\n",
              "\n",
              "    [theme=dark] .colab-df-convert:hover {\n",
              "      background-color: #434B5C;\n",
              "      box-shadow: 0px 1px 3px 1px rgba(0, 0, 0, 0.15);\n",
              "      filter: drop-shadow(0px 1px 2px rgba(0, 0, 0, 0.3));\n",
              "      fill: #FFFFFF;\n",
              "    }\n",
              "  </style>\n",
              "\n",
              "    <script>\n",
              "      const buttonEl =\n",
              "        document.querySelector('#df-44052979-0ac8-405a-9854-ac5ba24f5c64 button.colab-df-convert');\n",
              "      buttonEl.style.display =\n",
              "        google.colab.kernel.accessAllowed ? 'block' : 'none';\n",
              "\n",
              "      async function convertToInteractive(key) {\n",
              "        const element = document.querySelector('#df-44052979-0ac8-405a-9854-ac5ba24f5c64');\n",
              "        const dataTable =\n",
              "          await google.colab.kernel.invokeFunction('convertToInteractive',\n",
              "                                                    [key], {});\n",
              "        if (!dataTable) return;\n",
              "\n",
              "        const docLinkHtml = 'Like what you see? Visit the ' +\n",
              "          '<a target=\"_blank\" href=https://colab.research.google.com/notebooks/data_table.ipynb>data table notebook</a>'\n",
              "          + ' to learn more about interactive tables.';\n",
              "        element.innerHTML = '';\n",
              "        dataTable['output_type'] = 'display_data';\n",
              "        await google.colab.output.renderOutput(dataTable, element);\n",
              "        const docLink = document.createElement('div');\n",
              "        docLink.innerHTML = docLinkHtml;\n",
              "        element.appendChild(docLink);\n",
              "      }\n",
              "    </script>\n",
              "  </div>\n",
              "\n",
              "\n",
              "<div id=\"df-b7411980-52b0-4a99-a878-6deb17e30590\">\n",
              "  <button class=\"colab-df-quickchart\" onclick=\"quickchart('df-b7411980-52b0-4a99-a878-6deb17e30590')\"\n",
              "            title=\"Suggest charts\"\n",
              "            style=\"display:none;\">\n",
              "\n",
              "<svg xmlns=\"http://www.w3.org/2000/svg\" height=\"24px\"viewBox=\"0 0 24 24\"\n",
              "     width=\"24px\">\n",
              "    <g>\n",
              "        <path d=\"M19 3H5c-1.1 0-2 .9-2 2v14c0 1.1.9 2 2 2h14c1.1 0 2-.9 2-2V5c0-1.1-.9-2-2-2zM9 17H7v-7h2v7zm4 0h-2V7h2v10zm4 0h-2v-4h2v4z\"/>\n",
              "    </g>\n",
              "</svg>\n",
              "  </button>\n",
              "\n",
              "<style>\n",
              "  .colab-df-quickchart {\n",
              "      --bg-color: #E8F0FE;\n",
              "      --fill-color: #1967D2;\n",
              "      --hover-bg-color: #E2EBFA;\n",
              "      --hover-fill-color: #174EA6;\n",
              "      --disabled-fill-color: #AAA;\n",
              "      --disabled-bg-color: #DDD;\n",
              "  }\n",
              "\n",
              "  [theme=dark] .colab-df-quickchart {\n",
              "      --bg-color: #3B4455;\n",
              "      --fill-color: #D2E3FC;\n",
              "      --hover-bg-color: #434B5C;\n",
              "      --hover-fill-color: #FFFFFF;\n",
              "      --disabled-bg-color: #3B4455;\n",
              "      --disabled-fill-color: #666;\n",
              "  }\n",
              "\n",
              "  .colab-df-quickchart {\n",
              "    background-color: var(--bg-color);\n",
              "    border: none;\n",
              "    border-radius: 50%;\n",
              "    cursor: pointer;\n",
              "    display: none;\n",
              "    fill: var(--fill-color);\n",
              "    height: 32px;\n",
              "    padding: 0;\n",
              "    width: 32px;\n",
              "  }\n",
              "\n",
              "  .colab-df-quickchart:hover {\n",
              "    background-color: var(--hover-bg-color);\n",
              "    box-shadow: 0 1px 2px rgba(60, 64, 67, 0.3), 0 1px 3px 1px rgba(60, 64, 67, 0.15);\n",
              "    fill: var(--button-hover-fill-color);\n",
              "  }\n",
              "\n",
              "  .colab-df-quickchart-complete:disabled,\n",
              "  .colab-df-quickchart-complete:disabled:hover {\n",
              "    background-color: var(--disabled-bg-color);\n",
              "    fill: var(--disabled-fill-color);\n",
              "    box-shadow: none;\n",
              "  }\n",
              "\n",
              "  .colab-df-spinner {\n",
              "    border: 2px solid var(--fill-color);\n",
              "    border-color: transparent;\n",
              "    border-bottom-color: var(--fill-color);\n",
              "    animation:\n",
              "      spin 1s steps(1) infinite;\n",
              "  }\n",
              "\n",
              "  @keyframes spin {\n",
              "    0% {\n",
              "      border-color: transparent;\n",
              "      border-bottom-color: var(--fill-color);\n",
              "      border-left-color: var(--fill-color);\n",
              "    }\n",
              "    20% {\n",
              "      border-color: transparent;\n",
              "      border-left-color: var(--fill-color);\n",
              "      border-top-color: var(--fill-color);\n",
              "    }\n",
              "    30% {\n",
              "      border-color: transparent;\n",
              "      border-left-color: var(--fill-color);\n",
              "      border-top-color: var(--fill-color);\n",
              "      border-right-color: var(--fill-color);\n",
              "    }\n",
              "    40% {\n",
              "      border-color: transparent;\n",
              "      border-right-color: var(--fill-color);\n",
              "      border-top-color: var(--fill-color);\n",
              "    }\n",
              "    60% {\n",
              "      border-color: transparent;\n",
              "      border-right-color: var(--fill-color);\n",
              "    }\n",
              "    80% {\n",
              "      border-color: transparent;\n",
              "      border-right-color: var(--fill-color);\n",
              "      border-bottom-color: var(--fill-color);\n",
              "    }\n",
              "    90% {\n",
              "      border-color: transparent;\n",
              "      border-bottom-color: var(--fill-color);\n",
              "    }\n",
              "  }\n",
              "</style>\n",
              "\n",
              "  <script>\n",
              "    async function quickchart(key) {\n",
              "      const quickchartButtonEl =\n",
              "        document.querySelector('#' + key + ' button');\n",
              "      quickchartButtonEl.disabled = true;  // To prevent multiple clicks.\n",
              "      quickchartButtonEl.classList.add('colab-df-spinner');\n",
              "      try {\n",
              "        const charts = await google.colab.kernel.invokeFunction(\n",
              "            'suggestCharts', [key], {});\n",
              "      } catch (error) {\n",
              "        console.error('Error during call to suggestCharts:', error);\n",
              "      }\n",
              "      quickchartButtonEl.classList.remove('colab-df-spinner');\n",
              "      quickchartButtonEl.classList.add('colab-df-quickchart-complete');\n",
              "    }\n",
              "    (() => {\n",
              "      let quickchartButtonEl =\n",
              "        document.querySelector('#df-b7411980-52b0-4a99-a878-6deb17e30590 button');\n",
              "      quickchartButtonEl.style.display =\n",
              "        google.colab.kernel.accessAllowed ? 'block' : 'none';\n",
              "    })();\n",
              "  </script>\n",
              "</div>\n",
              "\n",
              "  <div id=\"id_c8292160-6ed5-46ad-a447-e79e76781acb\">\n",
              "    <style>\n",
              "      .colab-df-generate {\n",
              "        background-color: #E8F0FE;\n",
              "        border: none;\n",
              "        border-radius: 50%;\n",
              "        cursor: pointer;\n",
              "        display: none;\n",
              "        fill: #1967D2;\n",
              "        height: 32px;\n",
              "        padding: 0 0 0 0;\n",
              "        width: 32px;\n",
              "      }\n",
              "\n",
              "      .colab-df-generate:hover {\n",
              "        background-color: #E2EBFA;\n",
              "        box-shadow: 0px 1px 2px rgba(60, 64, 67, 0.3), 0px 1px 3px 1px rgba(60, 64, 67, 0.15);\n",
              "        fill: #174EA6;\n",
              "      }\n",
              "\n",
              "      [theme=dark] .colab-df-generate {\n",
              "        background-color: #3B4455;\n",
              "        fill: #D2E3FC;\n",
              "      }\n",
              "\n",
              "      [theme=dark] .colab-df-generate:hover {\n",
              "        background-color: #434B5C;\n",
              "        box-shadow: 0px 1px 3px 1px rgba(0, 0, 0, 0.15);\n",
              "        filter: drop-shadow(0px 1px 2px rgba(0, 0, 0, 0.3));\n",
              "        fill: #FFFFFF;\n",
              "      }\n",
              "    </style>\n",
              "    <button class=\"colab-df-generate\" onclick=\"generateWithVariable('df')\"\n",
              "            title=\"Generate code using this dataframe.\"\n",
              "            style=\"display:none;\">\n",
              "\n",
              "  <svg xmlns=\"http://www.w3.org/2000/svg\" height=\"24px\"viewBox=\"0 0 24 24\"\n",
              "       width=\"24px\">\n",
              "    <path d=\"M7,19H8.4L18.45,9,17,7.55,7,17.6ZM5,21V16.75L18.45,3.32a2,2,0,0,1,2.83,0l1.4,1.43a1.91,1.91,0,0,1,.58,1.4,1.91,1.91,0,0,1-.58,1.4L9.25,21ZM18.45,9,17,7.55Zm-12,3A5.31,5.31,0,0,0,4.9,8.1,5.31,5.31,0,0,0,1,6.5,5.31,5.31,0,0,0,4.9,4.9,5.31,5.31,0,0,0,6.5,1,5.31,5.31,0,0,0,8.1,4.9,5.31,5.31,0,0,0,12,6.5,5.46,5.46,0,0,0,6.5,12Z\"/>\n",
              "  </svg>\n",
              "    </button>\n",
              "    <script>\n",
              "      (() => {\n",
              "      const buttonEl =\n",
              "        document.querySelector('#id_c8292160-6ed5-46ad-a447-e79e76781acb button.colab-df-generate');\n",
              "      buttonEl.style.display =\n",
              "        google.colab.kernel.accessAllowed ? 'block' : 'none';\n",
              "\n",
              "      buttonEl.onclick = () => {\n",
              "        google.colab.notebook.generateWithVariable('df');\n",
              "      }\n",
              "      })();\n",
              "    </script>\n",
              "  </div>\n",
              "\n",
              "    </div>\n",
              "  </div>\n"
            ],
            "application/vnd.google.colaboratory.intrinsic+json": {
              "type": "dataframe",
              "variable_name": "df",
              "summary": "{\n  \"name\": \"df\",\n  \"rows\": 4900,\n  \"fields\": [\n    {\n      \"column\": \"category\",\n      \"properties\": {\n        \"dtype\": \"category\",\n        \"num_unique_values\": 7,\n        \"samples\": [\n          \"siyaset \",\n          \"dunya \",\n          \"spor \"\n        ],\n        \"semantic_type\": \"\",\n        \"description\": \"\"\n      }\n    },\n    {\n      \"column\": \"text\",\n      \"properties\": {\n        \"dtype\": \"string\",\n        \"num_unique_values\": 4539,\n        \"samples\": [\n          \" hollanda t\\u00fcrkiye \\u0092 nin b\\u00fcy\\u00fcmesini k\\u0131skan\\u0131yoruz hollanda_ba\\u015fbakan\\u0131_mark_rutte t\\u00fcrkiye \\u0092 nin hollanda \\u0092 n\\u0131n en \\u00f6nemli ticaret ve yat\\u0131r\\u0131m ortaklar\\u0131ndan birisi oldu\\u011funu belirterek \\u0093 son 10 y\\u0131l i\\u00e7inde t\\u00fcrkiye ekonomisi b\\u00fcy\\u00fck bir h\\u0131zla b\\u00fcy\\u00fcd\\u00fc ve bu b\\u00fcy\\u00fcme bizi k\\u0131skand\\u0131r\\u0131yor \\u0094 dedi t\\u00fcrkiye \\u0092 nin yumu\\u015fak ini\\u015fi ba\\u015fard\\u0131\\u011f\\u0131n\\u0131 aktaran rutte \\u0093 t\\u00fcrkiye halen y\\u00fczde 3 \\u0092 e yak\\u0131n bir b\\u00fcy\\u00fcme kaydedebiliyor \\u0094 dedi iki \\u00fclkenin y\\u0131ll\\u0131k toplam ticaret hacminin y\\u0131ll\\u0131k 7 milyar dolar\\u0131n \\u00fczerinde oldu\\u011funu anlatan rutte \\u0093 cumhurba\\u015fkan\\u0131_abdullah_g\\u00fcl ve ba\\u015fbakan_recep_tayyip_erdo\\u011fan ile g\\u00f6r\\u00fc\\u015fmeler yapt\\u0131k bu g\\u00f6r\\u00fc\\u015fmeler sadece politik meselelerden ibaret de\\u011fildi ayn\\u0131 zamanda iki \\u00fclke aras\\u0131ndaki ticari ve ekonomik ili\\u015fkileri nas\\u0131l art\\u0131rabilece\\u011fimizi de g\\u00f6r\\u00fc\\u015ft\\u00fck \\u0094 diye konu\\u015ftu rutte kredi derecelendirme kurulu\\u015fu fitch \\u0092 in t\\u00fcrkiye hakk\\u0131nda yapt\\u0131\\u011f\\u0131 not art\\u0131r\\u0131m\\u0131 dolay\\u0131s\\u0131yla ba\\u015fbakan_erdo\\u011fan \\u0092 \\u0131 da tebrik etti\\u011fini belirterek \\u0093 not art\\u0131r\\u0131m\\u0131 t\\u00fcrkiye i\\u00e7in \\u00e7ok g\\u00fczel bir haber t\\u00fcrkiye art\\u0131k istikrarl\\u0131 bir ortam sa\\u011fl\\u0131yor \\u0094 diye konu\\u015ftu 7 3 milyar_dolar ba\\u015fbakan_yard\\u0131mc\\u0131s\\u0131_ali_babacan ise bu y\\u0131l\\u0131n t\\u00fcrkiye ve hollanda \\u0092 n\\u0131n ikili ili\\u015fkisinin 400 y\\u0131l\\u0131 olmas\\u0131 sebebiyle \\u00f6nemli oldu\\u011funu belirterek ge\\u00e7en y\\u0131l\\u0131n sonu itibariyle toplam ticaret hacminin 7 3 milyar dolara ula\\u015ft\\u0131\\u011f\\u0131n\\u0131 kaydetti bu rakam\\u0131n potansiyelin alt\\u0131nda oldu\\u011funu vurgulayan babacan hollanda \\u0092 dan gelen do\\u011frudan yat\\u0131r\\u0131m\\u0131n y\\u0131l sonu itibariyle 16 milyar dolar\\u0131 ge\\u00e7mesinin beklendi\\u011fini ifade etti 2011 \\u0092 de toplam 1 2 milyondan fazla hollandal\\u0131 turistin t\\u00fcrkiye \\u0092 yi ziyaret etti\\u011fi bilgisini veren babacan krizin ba\\u015flad\\u0131\\u011f\\u0131 2008 2009 y\\u0131llar\\u0131 \\u00f6ncesinde kamu finansman kontrol\\u00fc sosyal g\\u00fcvenlik sa\\u011fl\\u0131k hizmetleri ve di\\u011fer t\\u00fcm alanlarda tedbirler al\\u0131nd\\u0131\\u011f\\u0131n\\u0131 an\\u0131msatt\\u0131\",\n          \" kom\\u015fu t\\u00fcrk turist \\u00e7ekmek i\\u00e7in camileri bile onaracak yunanistan turizm gelirlerinin d\\u00fc\\u015fmesinden sonra g\\u00f6z\\u00fcn\\u00fc t\\u00fcrklere \\u00e7evirdi yunanistan \\u00fclkenin kuzeyindeki cami medrese hamam ve saraylar\\u0131 yenileyerek t\\u00fcrk turistleri \\u00e7ekmeye \\u00e7al\\u0131\\u015facak yunan turizmciler kal\\u0131nt\\u0131lar\\u0131n yenilenmesi i\\u00e7in avrupa_birli\\u011fi deste\\u011fini de alarak 30 milyon euro para harcayacak kuzey yunanistan b\\u00f6lgesi \\u0092 nden kalabal\\u0131k bir heyetin kendisini sal\\u0131 g\\u00fcn\\u00fc ziyarete geldiklerini s\\u00f6yleyen t\\u00fcrkiye seyahat acentalar\\u0131 birli\\u011fi t\\u00fcrsab ba\\u015fkan\\u0131 ba\\u015faran ulusoy \\u015f\\u00f6yle konu\\u015ftu \\u0093 konitsa belediyesi pellas belediyesi ioannina belediyesi kastorias belediyesi ba\\u015fkanlar\\u0131 heyette bulunuyordu g\\u00f6r\\u00fc\\u015fmeler \\u00e7ok \\u00f6nemli i\\u00e7inde bulunduklar\\u0131 ekonomik krizden dolay\\u0131 turizm gelirleri de d\\u00fc\\u015ft\\u00fc bundan dolay\\u0131 farkl\\u0131 turizm alterntifleri yaratmaya \\u00e7al\\u0131\\u015f\\u0131yorlar bize \\u00f6nerdikleri \\u015fey t\\u00fcrk insanlar\\u0131 i\\u00e7in de g\\u00fczel neler yapacaklar bakaca\\u011f\\u0131z tarihi doku bozulmadan o b\\u00f6lgeler turizme a\\u00e7\\u0131k hale getirilecek iki \\u00fclke aras\\u0131ndaki turist ak\\u0131\\u015f\\u0131n\\u0131 art\\u0131rmak niyetindeyiz \\u0094 kom\\u015fu turlari ba\\u015flayacak ba\\u015faran ulusoy \\u0093 turizm art\\u0131k deniz kum g\\u00fcne\\u015f turizminden \\u00e7\\u0131kt\\u0131 t\\u00fcm d\\u00fcnyada k\\u00fclt\\u00fcr ve inan\\u00e7 turizminin yan\\u0131 s\\u0131ra yerel gastronomilerin \\u00f6nem kazand\\u0131\\u011f\\u0131 bir turizm anlay\\u0131\\u015f\\u0131 hakim oldu bu vesileyle kuzey yunanistan \\u0092 \\u0131n farkl\\u0131 b\\u00f6lgelerinde yer alan pek \\u00e7ok say\\u0131da osmanl\\u0131 eserinin k\\u00fclt\\u00fcr ve inan\\u00e7 turizmine kazand\\u0131r\\u0131lmas\\u0131 ad\\u0131na \\u0091 dostluk kom\\u015fu turlar\\u0131 \\u0092 ad\\u0131 alt\\u0131nda g\\u00fczergah olu\\u015fturulup kuzey yunanistan \\u0092 \\u0131n tarihi potansiyelinin de\\u011ferlendirilmesinde anla\\u015ft\\u0131k yunanl\\u0131 vatanda\\u015flar\\u0131n da t\\u00fcrkiye \\u0092 yi ziyaret rakamlar\\u0131n\\u0131 art\\u0131rmaya \\u00e7al\\u0131\\u015faca\\u011f\\u0131z \\u0094 dedi t\\u00fcrk turizmciler kontrole gidecek proje kapsam\\u0131nda t\\u00fcrk heyeti yunanistan \\u0092 \\u0131 ziyaret edecek ziyarette yunanistan \\u0092 \\u0131n yenilemeyi garanti etti\\u011fi mekanlar gezilerek tespitlerde bulunulacak t\\u00fcrsab ba\\u015fkan\\u0131 ba\\u015faran ulusoy tarihi ve k\\u00fclt\\u00fcrel de\\u011ferlerin sakl\\u0131 kalmamas\\u0131 gerekti\\u011fini belirterek \\u0093 b\\u00f6lgenin potansiyelinin en iyi \\u015fekilde su y\\u00fcz\\u00fcne \\u00e7\\u0131kart\\u0131lmas\\u0131 ve t\\u00fcrk turizmciye tan\\u0131t\\u0131lmas\\u0131 ad\\u0131na yunanistan ile i\\u015fbirli\\u011fine her zaman a\\u00e7\\u0131k \\u0094 dedi\",\n          \" \\u00fcnl\\u00fc eser sak\\u0131ncal\\u0131 bulundu izmir il milli_e\\u011fitim m\\u00fcd\\u00fcrl\\u00fc\\u011f\\u00fc kitaplar\\u0131 inceleme ve de\\u011ferlendirme_komisyonu john_steinbeck in fareler ve insanlar roman\\u0131n\\u0131 baz\\u0131 sayfalar\\u0131n\\u0131n ahlaki olmayan b\\u00f6l\\u00fcmler i\\u00e7erdi\\u011fine karar vererek sak\\u0131ncal\\u0131 buldu izmir il milli_e\\u011fitim m\\u00fcd\\u00fcrl\\u00fc\\u011f\\u00fc kitap inceleme ve de\\u011ferlendirme_komisyonu john_steinbeck in fareler ve insanlar adl\\u0131 kitab\\u0131n\\u0131n baz\\u0131 b\\u00f6l\\u00fcmlerini sak\\u0131ncal\\u0131 buldu 3 aral\\u0131k ta toplanan komisyon kitab\\u0131n baz\\u0131 sayfalar\\u0131n\\u0131n ahlaki olmayan b\\u00f6l\\u00fcmler i\\u00e7erdi\\u011fine karar verdi fareler ve insanlar milli_e\\u011fitim_bakanl\\u0131\\u011f\\u0131 n\\u0131n liselerde okutulmas\\u0131 i\\u00e7in \\u00f6nerdi\\u011fi 100 temel_eser aras\\u0131nda yer al\\u0131yor artik her eser sans\\u00fcrlenebilir kitab\\u0131n yay\\u0131nc\\u0131s\\u0131 sel_yay\\u0131nc\\u0131l\\u0131k tan yap\\u0131lan a\\u00e7\\u0131klamada ise bu art\\u0131k her eserin kitab\\u0131n filmin klasikle\\u015fmi\\u015f evrensel bir referans haline gelmi\\u015f insanlar\\u0131n zihinlerinde yer etmi\\u015f denmesine bakmadan herhangi birilerinin o tan\\u0131ms\\u0131z ve son derece \\u00f6znel ahlak kriterlerine uygunsuzluk nedeniyle yarg\\u0131lanabilece\\u011fi sans\\u00fcrlenebilece\\u011fi ya da yasaklanabilece\\u011finin son g\\u00f6stergesidir fazla s\\u00f6ze gerek yok denildi\"\n        ],\n        \"semantic_type\": \"\",\n        \"description\": \"\"\n      }\n    }\n  ]\n}"
            }
          },
          "metadata": {},
          "execution_count": 19
        }
      ]
    },
    {
      "cell_type": "code",
      "source": [
        "import re"
      ],
      "metadata": {
        "id": "EivdA4ENoOk3"
      },
      "execution_count": 20,
      "outputs": []
    },
    {
      "cell_type": "code",
      "source": [
        "def preprocess_for_training(text_data):\n",
        "  text_data = re.sub(\"[^a-zA-ZğüşöçıİĞÜŞÖÇ0-9.,;:!?'\\\" ]\",\" \",text_data)\n",
        "  return text_data"
      ],
      "metadata": {
        "id": "ftdzhyoooLIa"
      },
      "execution_count": 21,
      "outputs": []
    },
    {
      "cell_type": "code",
      "source": [
        "df[\"text\"]= df[\"text\"].apply(preprocess_for_training)"
      ],
      "metadata": {
        "id": "C2y2NnxZoUws"
      },
      "execution_count": 22,
      "outputs": []
    },
    {
      "cell_type": "code",
      "source": [
        "df[\"category\"]=df[\"category\"].str.strip()"
      ],
      "metadata": {
        "id": "SjFC-YZkg9ae"
      },
      "execution_count": 23,
      "outputs": []
    },
    {
      "cell_type": "code",
      "source": [
        "# Examine class distributions\n",
        "print(df[\"category\"].value_counts())"
      ],
      "metadata": {
        "colab": {
          "base_uri": "https://localhost:8080/"
        },
        "id": "98UtXUL5rbjT",
        "outputId": "a0e6fb3b-6e2a-4f6e-8b1f-a7f46b25226e"
      },
      "execution_count": 24,
      "outputs": [
        {
          "output_type": "stream",
          "name": "stdout",
          "text": [
            "category\n",
            "siyaset      700\n",
            "dunya        700\n",
            "ekonomi      700\n",
            "kultur       700\n",
            "saglik       700\n",
            "spor         700\n",
            "teknoloji    700\n",
            "Name: count, dtype: int64\n"
          ]
        }
      ]
    },
    {
      "cell_type": "code",
      "source": [
        "# Convert the \"Label\" column into 0 or 1 (for \"ham\" or \"spam\")\n",
        "df[\"category\"]=df[\"category\"].astype(\"category\")\n",
        "df[\"category_id\"] = df[\"category\"].cat.codes\n",
        "\n",
        "id_to_category = pd.Series(df.category.values,index=df.category_id).to_dict()\n",
        "\n",
        "category_to_id= {v:k for k,v in id_to_category.items()}"
      ],
      "metadata": {
        "id": "gXOHwjhqrjVd"
      },
      "execution_count": 25,
      "outputs": []
    },
    {
      "cell_type": "code",
      "source": [
        "# Split the dataset into train, test, val\n",
        "def random_split(df, train_frac, validation_frac):\n",
        "    df = df.sample(frac=1, random_state=123).reset_index(drop=True)\n",
        "\n",
        "    train_end = int(len(df) * train_frac)\n",
        "    validation_end = train_end + int(len(df) * validation_frac)\n",
        "\n",
        "\n",
        "    train_df = df[:train_end]\n",
        "    validation_df = df[train_end:validation_end]\n",
        "    test_df = df[validation_end:]\n",
        "\n",
        "    return train_df, validation_df, test_df\n",
        "\n",
        "train_df, validation_df, test_df = random_split(df, 0.7, 0.1)"
      ],
      "metadata": {
        "id": "gqw7es9WrqQa"
      },
      "execution_count": 26,
      "outputs": []
    },
    {
      "cell_type": "code",
      "source": [
        "# Save dataset as CSV for reuse later\n",
        "train_df.to_csv(\"train.csv\", index=None)\n",
        "validation_df.to_csv(\"validation.csv\", index=None)\n",
        "test_df.to_csv(\"test.csv\", index=None)"
      ],
      "metadata": {
        "id": "QQA24Z5urtey"
      },
      "execution_count": 27,
      "outputs": []
    },
    {
      "cell_type": "markdown",
      "source": [
        "## 12. Create dataloaders"
      ],
      "metadata": {
        "id": "PzGEOyHnr1Nn"
      }
    },
    {
      "cell_type": "code",
      "source": [
        "import tiktoken\n",
        "tokenizer = tiktoken.get_encoding(\"gpt2\")\n",
        "print(tokenizer.encode(\"<|endoftext|>\", allowed_special={\"<|endoftext|>\"}))"
      ],
      "metadata": {
        "colab": {
          "base_uri": "https://localhost:8080/"
        },
        "id": "qrHql7D2r46Y",
        "outputId": "e20b8198-3f97-409f-e15d-80e7c3aa26ce"
      },
      "execution_count": 28,
      "outputs": [
        {
          "output_type": "stream",
          "name": "stdout",
          "text": [
            "[50256]\n"
          ]
        }
      ]
    },
    {
      "cell_type": "code",
      "source": [
        "# Create the dataset\n",
        "\n",
        "import torch\n",
        "from torch.utils.data import Dataset\n",
        "\n",
        "class NewsDataset(Dataset):\n",
        "  def __init__(self, csv_file, tokenizer, max_length=1024, pad_token_id=50256):\n",
        "    self.data = pd.read_csv(csv_file)\n",
        "\n",
        "    # Encode the input text\n",
        "    self.encoded_texts = [tokenizer.encode(text) for text in self.data[\"text\"]]\n",
        "\n",
        "    # Determine max length of encoded texts\n",
        "    if max_length is None:\n",
        "      self.max_length = self._longest_encoded_length()\n",
        "    else:\n",
        "      self.max_length = max_length\n",
        "      # Truncate any texts longer than max_length\n",
        "      self.encoded_texts = [encoded_text[:self.max_length] for encoded_text in self.encoded_texts]\n",
        "\n",
        "    # Pad the encoded texts\n",
        "    self.encoded_texts = [\n",
        "        encoded_text + [pad_token_id] * (self.max_length - len(encoded_text))\n",
        "        for encoded_text in self.encoded_texts\n",
        "    ]\n",
        "\n",
        "  def __getitem__(self, index):\n",
        "     encoded_text = self.encoded_texts[index]\n",
        "     label = self.data.iloc[index][\"category_id\"]\n",
        "     return (\n",
        "         torch.tensor(encoded_text, dtype=torch.long),\n",
        "         torch.tensor(label, dtype=torch.long)\n",
        "     )\n",
        "\n",
        "  def __len__(self):\n",
        "    return len(self.data)\n",
        "\n",
        "  def _longest_encoded_length(self):\n",
        "    max_length = 0\n",
        "    for encoded_text in self.encoded_texts:\n",
        "      encoded_length = len(encoded_text)\n",
        "      max_length = max(max_length, encoded_length)\n",
        "    return max_length"
      ],
      "metadata": {
        "id": "pRR6IvyTsCdv"
      },
      "execution_count": 29,
      "outputs": []
    },
    {
      "cell_type": "code",
      "source": [
        "# Create a train dataset\n",
        "train_dataset = NewsDataset(\n",
        "    csv_file=\"train.csv\",\n",
        "    tokenizer=tokenizer,\n",
        "    max_length=1024\n",
        ")\n",
        "\n",
        "# Create a validation dataset\n",
        "validation_dataset = NewsDataset(\n",
        "    csv_file=\"validation.csv\",\n",
        "    tokenizer=tokenizer,\n",
        "    max_length=train_dataset.max_length\n",
        ")\n",
        "\n",
        "# Create a test dataset\n",
        "test_dataset = NewsDataset(\n",
        "    csv_file=\"test.csv\",\n",
        "    tokenizer=tokenizer,\n",
        "    max_length=train_dataset.max_length\n",
        ")"
      ],
      "metadata": {
        "id": "j0ZBGRgTuFLi"
      },
      "execution_count": 30,
      "outputs": []
    },
    {
      "cell_type": "code",
      "source": [
        "print(train_dataset.max_length)"
      ],
      "metadata": {
        "colab": {
          "base_uri": "https://localhost:8080/"
        },
        "id": "1tOtUDrHuNDU",
        "outputId": "eb79ba0e-8110-4f85-bf0f-e1e3c22f1984"
      },
      "execution_count": 31,
      "outputs": [
        {
          "output_type": "stream",
          "name": "stdout",
          "text": [
            "1024\n"
          ]
        }
      ]
    },
    {
      "cell_type": "code",
      "source": [
        "sequence_lengths = [len(text) for text in df['text']]\n",
        "import matplotlib.pyplot as plt"
      ],
      "metadata": {
        "id": "UMNbH1kBpTfk"
      },
      "execution_count": 32,
      "outputs": []
    },
    {
      "cell_type": "code",
      "source": [
        "# Plot the histogram\n",
        "plt.figure(figsize=(10, 6))\n",
        "plt.hist(sequence_lengths, bins=50, edgecolor='black')\n",
        "plt.title('Histogram of Sequence Lengths')\n",
        "plt.xlabel('Sequence Length')\n",
        "plt.ylabel('Frequency')\n",
        "plt.grid(True)\n",
        "plt.show()"
      ],
      "metadata": {
        "colab": {
          "base_uri": "https://localhost:8080/",
          "height": 564
        },
        "id": "cosDn31HpxW2",
        "outputId": "de4ca3af-8235-4a7e-c15b-683fbbfc2854"
      },
      "execution_count": 33,
      "outputs": [
        {
          "output_type": "display_data",
          "data": {
            "text/plain": [
              "<Figure size 1000x600 with 1 Axes>"
            ],
            "image/png": "[encoded data removed]"
          },
          "metadata": {}
        }
      ]
    },
    {
      "cell_type": "code",
      "source": [
        "len([s for s in sequence_lengths if s>2096])"
      ],
      "metadata": {
        "colab": {
          "base_uri": "https://localhost:8080/"
        },
        "id": "oWUre7NYqcgr",
        "outputId": "99a96c92-9c5e-4a9c-f282-514aa7294f9e"
      },
      "execution_count": 34,
      "outputs": [
        {
          "output_type": "execute_result",
          "data": {
            "text/plain": [
              "1703"
            ]
          },
          "metadata": {},
          "execution_count": 34
        }
      ]
    },
    {
      "cell_type": "code",
      "source": [
        "np.mean([s-2096 for s in sequence_lengths if s>2096])"
      ],
      "metadata": {
        "colab": {
          "base_uri": "https://localhost:8080/"
        },
        "id": "vAnNGXLeqxaA",
        "outputId": "c645c510-5116-48f1-8f36-f2e6e4ff073c"
      },
      "execution_count": 35,
      "outputs": [
        {
          "output_type": "execute_result",
          "data": {
            "text/plain": [
              "1489.3669994128009"
            ]
          },
          "metadata": {},
          "execution_count": 35
        }
      ]
    },
    {
      "cell_type": "code",
      "source": [
        "len([s for s in sequence_lengths if s<1024])"
      ],
      "metadata": {
        "colab": {
          "base_uri": "https://localhost:8080/"
        },
        "id": "-lqEXcnuqtlP",
        "outputId": "21ff5486-b8a4-4653-9840-fb92fd95a1a3"
      },
      "execution_count": 36,
      "outputs": [
        {
          "output_type": "execute_result",
          "data": {
            "text/plain": [
              "1500"
            ]
          },
          "metadata": {},
          "execution_count": 36
        }
      ]
    },
    {
      "cell_type": "code",
      "source": [
        "from torch.utils.data import DataLoader\n",
        "\n",
        "num_workers = 0\n",
        "batch_size = 8\n",
        "torch.manual_seed(123)\n",
        "\n",
        "# Create training set DataLoader\n",
        "train_loader = DataLoader(\n",
        "    dataset=train_dataset,\n",
        "    batch_size=batch_size,\n",
        "    shuffle=True,\n",
        "    num_workers=num_workers,\n",
        "    drop_last=True,\n",
        ")\n",
        "\n",
        "# Create validation set DataLoader\n",
        "val_loader = DataLoader(\n",
        "    dataset=validation_dataset,\n",
        "    batch_size=batch_size,\n",
        "    shuffle=False,\n",
        "    num_workers=num_workers,\n",
        "    drop_last=False,\n",
        ")\n",
        "\n",
        "# Create test set DataLoader\n",
        "test_loader = DataLoader(\n",
        "    dataset=test_dataset,\n",
        "    batch_size=batch_size,\n",
        "    shuffle=False,\n",
        "    num_workers=num_workers,\n",
        "    drop_last=False,\n",
        ")"
      ],
      "metadata": {
        "id": "80jtucfKuTMi"
      },
      "execution_count": 37,
      "outputs": []
    },
    {
      "cell_type": "code",
      "source": [
        "# Ensure DataLoaders are working as expected\n",
        "for input_batch, target_batch in train_loader:\n",
        "    pass\n",
        "print(\"Input batch dimensions:\", input_batch.shape)\n",
        "print(\"Label batch dimensions\", target_batch.shape)"
      ],
      "metadata": {
        "colab": {
          "base_uri": "https://localhost:8080/"
        },
        "id": "4ZD8vEI0vv1P",
        "outputId": "f6893f2f-e3fa-4645-b6d3-487280ac4ea3"
      },
      "execution_count": 38,
      "outputs": [
        {
          "output_type": "stream",
          "name": "stdout",
          "text": [
            "Input batch dimensions: torch.Size([8, 1024])\n",
            "Label batch dimensions torch.Size([8])\n"
          ]
        }
      ]
    },
    {
      "cell_type": "code",
      "source": [
        "# Check total number of batches in each dataset\n",
        "print(f\"{len(train_loader)} training batches\")\n",
        "print(f\"{len(val_loader)} validation batches\")\n",
        "print(f\"{len(test_loader)} test batches\")"
      ],
      "metadata": {
        "colab": {
          "base_uri": "https://localhost:8080/"
        },
        "id": "c1FEpbj4v3Gj",
        "outputId": "22ebdb3a-3f20-404f-a066-5f186f4d7df1"
      },
      "execution_count": 39,
      "outputs": [
        {
          "output_type": "stream",
          "name": "stdout",
          "text": [
            "428 training batches\n",
            "62 validation batches\n",
            "123 test batches\n"
          ]
        }
      ]
    },
    {
      "cell_type": "markdown",
      "source": [
        "## 13. Load the pretrained model"
      ],
      "metadata": {
        "id": "qQhlg041v8o7"
      }
    },
    {
      "cell_type": "code",
      "source": [
        "CHOOSE_MODEL = \"gpt2-small (124M)\"\n",
        "INPUT_PROMPT = \"Every effort moves\"\n",
        "BASE_CONFIG = {\n",
        "    \"vocab_size\": 50257,     # Vocabulary size\n",
        "    \"context_length\": 1024,  # Context length\n",
        "    \"drop_rate\": 0.0,        # Dropout rate\n",
        "    \"qkv_bias\": True         # Query-key-value bias\n",
        "}\n",
        "model_configs = {\n",
        "    \"gpt2-small (124M)\": {\"emb_dim\": 768, \"n_layers\": 12, \"n_heads\": 12},\n",
        "    \"gpt2-medium (355M)\": {\"emb_dim\": 1024, \"n_layers\": 24, \"n_heads\": 16},\n",
        "    \"gpt2-large (774M)\": {\"emb_dim\": 1280, \"n_layers\": 36, \"n_heads\": 20},\n",
        "    \"gpt2-xl (1558M)\": {\"emb_dim\": 1600, \"n_layers\": 48, \"n_heads\": 25},\n",
        "}\n",
        "BASE_CONFIG.update(model_configs[CHOOSE_MODEL])\n",
        "\n",
        "assert train_dataset.max_length <= BASE_CONFIG[\"context_length\"], (\n",
        "    f\"Dataset length {train_dataset.max_length} exceeds model's context \"\n",
        "    f\"length {BASE_CONFIG['context_length']}. Reinitialize data sets with \"\n",
        "    f\"`max_length={BASE_CONFIG['context_length']}`\"\n",
        ")"
      ],
      "metadata": {
        "id": "op94ZLXFwX1C"
      },
      "execution_count": 40,
      "outputs": []
    },
    {
      "cell_type": "code",
      "source": [
        "from gpt_download import download_and_load_gpt2\n",
        "\n",
        "model_size = CHOOSE_MODEL.split(\" \")[-1].lstrip(\"(\").rstrip(\")\")\n",
        "settings, params = download_and_load_gpt2(model_size=model_size, models_dir=\"gpt2\")\n",
        "\n",
        "model = GPTModel(BASE_CONFIG)\n",
        "load_weights_into_gpt(model, params)\n",
        "model.eval()"
      ],
      "metadata": {
        "id": "tFM1XF9WwYGQ",
        "colab": {
          "base_uri": "https://localhost:8080/"
        },
        "outputId": "eae2b4e3-9432-4560-b960-dbd238a651fe"
      },
      "execution_count": 41,
      "outputs": [
        {
          "output_type": "stream",
          "name": "stdout",
          "text": [
            "File already exists and is up-to-date: gpt2/124M/checkpoint\n",
            "File already exists and is up-to-date: gpt2/124M/encoder.json\n",
            "File already exists and is up-to-date: gpt2/124M/hparams.json\n",
            "File already exists and is up-to-date: gpt2/124M/model.ckpt.data-00000-of-00001\n",
            "File already exists and is up-to-date: gpt2/124M/model.ckpt.index\n",
            "File already exists and is up-to-date: gpt2/124M/model.ckpt.meta\n",
            "File already exists and is up-to-date: gpt2/124M/vocab.bpe\n"
          ]
        },
        {
          "output_type": "execute_result",
          "data": {
            "text/plain": [
              "GPTModel(\n",
              "  (token_embedding): Embedding(50257, 768)\n",
              "  (positional_embedding): Embedding(1024, 768)\n",
              "  (drop_embedding): Dropout(p=0.0, inplace=False)\n",
              "  (trf_blocks): Sequential(\n",
              "    (0): TransformerBlock(\n",
              "      (attention): MultiHeadAttention(\n",
              "        (W_query): Linear(in_features=768, out_features=768, bias=True)\n",
              "        (W_key): Linear(in_features=768, out_features=768, bias=True)\n",
              "        (W_value): Linear(in_features=768, out_features=768, bias=True)\n",
              "        (out_proj): Linear(in_features=768, out_features=768, bias=True)\n",
              "        (dropout): Dropout(p=0.0, inplace=False)\n",
              "      )\n",
              "      (ff): FeedForward(\n",
              "        (layers): Sequential(\n",
              "          (0): Linear(in_features=768, out_features=3072, bias=True)\n",
              "          (1): GELU()\n",
              "          (2): Linear(in_features=3072, out_features=768, bias=True)\n",
              "        )\n",
              "      )\n",
              "      (norm1): LayerNorm()\n",
              "      (norm2): LayerNorm()\n",
              "      (drop_shortcut): Dropout(p=0.0, inplace=False)\n",
              "    )\n",
              "    (1): TransformerBlock(\n",
              "      (attention): MultiHeadAttention(\n",
              "        (W_query): Linear(in_features=768, out_features=768, bias=True)\n",
              "        (W_key): Linear(in_features=768, out_features=768, bias=True)\n",
              "        (W_value): Linear(in_features=768, out_features=768, bias=True)\n",
              "        (out_proj): Linear(in_features=768, out_features=768, bias=True)\n",
              "        (dropout): Dropout(p=0.0, inplace=False)\n",
              "      )\n",
              "      (ff): FeedForward(\n",
              "        (layers): Sequential(\n",
              "          (0): Linear(in_features=768, out_features=3072, bias=True)\n",
              "          (1): GELU()\n",
              "          (2): Linear(in_features=3072, out_features=768, bias=True)\n",
              "        )\n",
              "      )\n",
              "      (norm1): LayerNorm()\n",
              "      (norm2): LayerNorm()\n",
              "      (drop_shortcut): Dropout(p=0.0, inplace=False)\n",
              "    )\n",
              "    (2): TransformerBlock(\n",
              "      (attention): MultiHeadAttention(\n",
              "        (W_query): Linear(in_features=768, out_features=768, bias=True)\n",
              "        (W_key): Linear(in_features=768, out_features=768, bias=True)\n",
              "        (W_value): Linear(in_features=768, out_features=768, bias=True)\n",
              "        (out_proj): Linear(in_features=768, out_features=768, bias=True)\n",
              "        (dropout): Dropout(p=0.0, inplace=False)\n",
              "      )\n",
              "      (ff): FeedForward(\n",
              "        (layers): Sequential(\n",
              "          (0): Linear(in_features=768, out_features=3072, bias=True)\n",
              "          (1): GELU()\n",
              "          (2): Linear(in_features=3072, out_features=768, bias=True)\n",
              "        )\n",
              "      )\n",
              "      (norm1): LayerNorm()\n",
              "      (norm2): LayerNorm()\n",
              "      (drop_shortcut): Dropout(p=0.0, inplace=False)\n",
              "    )\n",
              "    (3): TransformerBlock(\n",
              "      (attention): MultiHeadAttention(\n",
              "        (W_query): Linear(in_features=768, out_features=768, bias=True)\n",
              "        (W_key): Linear(in_features=768, out_features=768, bias=True)\n",
              "        (W_value): Linear(in_features=768, out_features=768, bias=True)\n",
              "        (out_proj): Linear(in_features=768, out_features=768, bias=True)\n",
              "        (dropout): Dropout(p=0.0, inplace=False)\n",
              "      )\n",
              "      (ff): FeedForward(\n",
              "        (layers): Sequential(\n",
              "          (0): Linear(in_features=768, out_features=3072, bias=True)\n",
              "          (1): GELU()\n",
              "          (2): Linear(in_features=3072, out_features=768, bias=True)\n",
              "        )\n",
              "      )\n",
              "      (norm1): LayerNorm()\n",
              "      (norm2): LayerNorm()\n",
              "      (drop_shortcut): Dropout(p=0.0, inplace=False)\n",
              "    )\n",
              "    (4): TransformerBlock(\n",
              "      (attention): MultiHeadAttention(\n",
              "        (W_query): Linear(in_features=768, out_features=768, bias=True)\n",
              "        (W_key): Linear(in_features=768, out_features=768, bias=True)\n",
              "        (W_value): Linear(in_features=768, out_features=768, bias=True)\n",
              "        (out_proj): Linear(in_features=768, out_features=768, bias=True)\n",
              "        (dropout): Dropout(p=0.0, inplace=False)\n",
              "      )\n",
              "      (ff): FeedForward(\n",
              "        (layers): Sequential(\n",
              "          (0): Linear(in_features=768, out_features=3072, bias=True)\n",
              "          (1): GELU()\n",
              "          (2): Linear(in_features=3072, out_features=768, bias=True)\n",
              "        )\n",
              "      )\n",
              "      (norm1): LayerNorm()\n",
              "      (norm2): LayerNorm()\n",
              "      (drop_shortcut): Dropout(p=0.0, inplace=False)\n",
              "    )\n",
              "    (5): TransformerBlock(\n",
              "      (attention): MultiHeadAttention(\n",
              "        (W_query): Linear(in_features=768, out_features=768, bias=True)\n",
              "        (W_key): Linear(in_features=768, out_features=768, bias=True)\n",
              "        (W_value): Linear(in_features=768, out_features=768, bias=True)\n",
              "        (out_proj): Linear(in_features=768, out_features=768, bias=True)\n",
              "        (dropout): Dropout(p=0.0, inplace=False)\n",
              "      )\n",
              "      (ff): FeedForward(\n",
              "        (layers): Sequential(\n",
              "          (0): Linear(in_features=768, out_features=3072, bias=True)\n",
              "          (1): GELU()\n",
              "          (2): Linear(in_features=3072, out_features=768, bias=True)\n",
              "        )\n",
              "      )\n",
              "      (norm1): LayerNorm()\n",
              "      (norm2): LayerNorm()\n",
              "      (drop_shortcut): Dropout(p=0.0, inplace=False)\n",
              "    )\n",
              "    (6): TransformerBlock(\n",
              "      (attention): MultiHeadAttention(\n",
              "        (W_query): Linear(in_features=768, out_features=768, bias=True)\n",
              "        (W_key): Linear(in_features=768, out_features=768, bias=True)\n",
              "        (W_value): Linear(in_features=768, out_features=768, bias=True)\n",
              "        (out_proj): Linear(in_features=768, out_features=768, bias=True)\n",
              "        (dropout): Dropout(p=0.0, inplace=False)\n",
              "      )\n",
              "      (ff): FeedForward(\n",
              "        (layers): Sequential(\n",
              "          (0): Linear(in_features=768, out_features=3072, bias=True)\n",
              "          (1): GELU()\n",
              "          (2): Linear(in_features=3072, out_features=768, bias=True)\n",
              "        )\n",
              "      )\n",
              "      (norm1): LayerNorm()\n",
              "      (norm2): LayerNorm()\n",
              "      (drop_shortcut): Dropout(p=0.0, inplace=False)\n",
              "    )\n",
              "    (7): TransformerBlock(\n",
              "      (attention): MultiHeadAttention(\n",
              "        (W_query): Linear(in_features=768, out_features=768, bias=True)\n",
              "        (W_key): Linear(in_features=768, out_features=768, bias=True)\n",
              "        (W_value): Linear(in_features=768, out_features=768, bias=True)\n",
              "        (out_proj): Linear(in_features=768, out_features=768, bias=True)\n",
              "        (dropout): Dropout(p=0.0, inplace=False)\n",
              "      )\n",
              "      (ff): FeedForward(\n",
              "        (layers): Sequential(\n",
              "          (0): Linear(in_features=768, out_features=3072, bias=True)\n",
              "          (1): GELU()\n",
              "          (2): Linear(in_features=3072, out_features=768, bias=True)\n",
              "        )\n",
              "      )\n",
              "      (norm1): LayerNorm()\n",
              "      (norm2): LayerNorm()\n",
              "      (drop_shortcut): Dropout(p=0.0, inplace=False)\n",
              "    )\n",
              "    (8): TransformerBlock(\n",
              "      (attention): MultiHeadAttention(\n",
              "        (W_query): Linear(in_features=768, out_features=768, bias=True)\n",
              "        (W_key): Linear(in_features=768, out_features=768, bias=True)\n",
              "        (W_value): Linear(in_features=768, out_features=768, bias=True)\n",
              "        (out_proj): Linear(in_features=768, out_features=768, bias=True)\n",
              "        (dropout): Dropout(p=0.0, inplace=False)\n",
              "      )\n",
              "      (ff): FeedForward(\n",
              "        (layers): Sequential(\n",
              "          (0): Linear(in_features=768, out_features=3072, bias=True)\n",
              "          (1): GELU()\n",
              "          (2): Linear(in_features=3072, out_features=768, bias=True)\n",
              "        )\n",
              "      )\n",
              "      (norm1): LayerNorm()\n",
              "      (norm2): LayerNorm()\n",
              "      (drop_shortcut): Dropout(p=0.0, inplace=False)\n",
              "    )\n",
              "    (9): TransformerBlock(\n",
              "      (attention): MultiHeadAttention(\n",
              "        (W_query): Linear(in_features=768, out_features=768, bias=True)\n",
              "        (W_key): Linear(in_features=768, out_features=768, bias=True)\n",
              "        (W_value): Linear(in_features=768, out_features=768, bias=True)\n",
              "        (out_proj): Linear(in_features=768, out_features=768, bias=True)\n",
              "        (dropout): Dropout(p=0.0, inplace=False)\n",
              "      )\n",
              "      (ff): FeedForward(\n",
              "        (layers): Sequential(\n",
              "          (0): Linear(in_features=768, out_features=3072, bias=True)\n",
              "          (1): GELU()\n",
              "          (2): Linear(in_features=3072, out_features=768, bias=True)\n",
              "        )\n",
              "      )\n",
              "      (norm1): LayerNorm()\n",
              "      (norm2): LayerNorm()\n",
              "      (drop_shortcut): Dropout(p=0.0, inplace=False)\n",
              "    )\n",
              "    (10): TransformerBlock(\n",
              "      (attention): MultiHeadAttention(\n",
              "        (W_query): Linear(in_features=768, out_features=768, bias=True)\n",
              "        (W_key): Linear(in_features=768, out_features=768, bias=True)\n",
              "        (W_value): Linear(in_features=768, out_features=768, bias=True)\n",
              "        (out_proj): Linear(in_features=768, out_features=768, bias=True)\n",
              "        (dropout): Dropout(p=0.0, inplace=False)\n",
              "      )\n",
              "      (ff): FeedForward(\n",
              "        (layers): Sequential(\n",
              "          (0): Linear(in_features=768, out_features=3072, bias=True)\n",
              "          (1): GELU()\n",
              "          (2): Linear(in_features=3072, out_features=768, bias=True)\n",
              "        )\n",
              "      )\n",
              "      (norm1): LayerNorm()\n",
              "      (norm2): LayerNorm()\n",
              "      (drop_shortcut): Dropout(p=0.0, inplace=False)\n",
              "    )\n",
              "    (11): TransformerBlock(\n",
              "      (attention): MultiHeadAttention(\n",
              "        (W_query): Linear(in_features=768, out_features=768, bias=True)\n",
              "        (W_key): Linear(in_features=768, out_features=768, bias=True)\n",
              "        (W_value): Linear(in_features=768, out_features=768, bias=True)\n",
              "        (out_proj): Linear(in_features=768, out_features=768, bias=True)\n",
              "        (dropout): Dropout(p=0.0, inplace=False)\n",
              "      )\n",
              "      (ff): FeedForward(\n",
              "        (layers): Sequential(\n",
              "          (0): Linear(in_features=768, out_features=3072, bias=True)\n",
              "          (1): GELU()\n",
              "          (2): Linear(in_features=3072, out_features=768, bias=True)\n",
              "        )\n",
              "      )\n",
              "      (norm1): LayerNorm()\n",
              "      (norm2): LayerNorm()\n",
              "      (drop_shortcut): Dropout(p=0.0, inplace=False)\n",
              "    )\n",
              "  )\n",
              "  (final_norm): LayerNorm()\n",
              "  (out_head): Linear(in_features=768, out_features=50257, bias=False)\n",
              ")"
            ]
          },
          "metadata": {},
          "execution_count": 41
        }
      ]
    },
    {
      "cell_type": "code",
      "source": [
        "text_1 = \"Every effort moves you\"\n",
        "token_ids = generate(\n",
        "    model=model,\n",
        "    idx=text_to_token_ids(text_1, tokenizer),\n",
        "    max_new_tokens=15,\n",
        "    context_size=BASE_CONFIG[\"context_length\"]\n",
        ")\n",
        "print(token_ids_to_text(token_ids, tokenizer))"
      ],
      "metadata": {
        "colab": {
          "base_uri": "https://localhost:8080/"
        },
        "id": "tg7-BntawZ2D",
        "outputId": "6b59b71c-5120-4879-86a8-10840c994a25"
      },
      "execution_count": 42,
      "outputs": [
        {
          "output_type": "stream",
          "name": "stdout",
          "text": [
            "Every effort moves you forward.\n",
            "\n",
            "The first step is to understand the importance of your work\n"
          ]
        }
      ]
    },
    {
      "cell_type": "code",
      "source": [
        "# Test if model can already classify a turksh news (without finetuning)\n",
        "text_2 = (\n",
        "    \"Aşağıdaki haber metninin kategorisi nedir? \"\n",
        "    \" Bundan yaklaşık 30 yıl önce yapay zekânın hayatımızın her alanına gireceğini, bağışıklık sistemi hücrelerinin kanser tedavisinde kilit yöntem olacağını, beyin hücresi atlası çıkarılacağını, gen tedavilerinin yaygınlaşacağını ve uzay turizmi gibi kavramlardan bahsedeceğimizi söyleseler bir bilimkurgu filminden bahsedildiğini düşünürdük. \"\n",
        ")\n",
        "token_ids = generate(\n",
        "    model=model,\n",
        "    idx=text_to_token_ids(text_2, tokenizer),\n",
        "    max_new_tokens=23,\n",
        "    context_size=BASE_CONFIG[\"context_length\"]\n",
        ")\n",
        "print(token_ids_to_text(token_ids, tokenizer))"
      ],
      "metadata": {
        "colab": {
          "base_uri": "https://localhost:8080/"
        },
        "id": "tNYHQWJywf8e",
        "outputId": "bdd13b53-8a3c-4f62-dc73-6fc968819707"
      },
      "execution_count": 43,
      "outputs": [
        {
          "output_type": "stream",
          "name": "stdout",
          "text": [
            "Aşağıdaki haber metninin kategorisi nedir?  Bundan yaklaşık 30 yıl önce yapay zekânın hayatımızın her alanına gireceğini, bağışıklık sistemi hücrelerinin kanser tedavisinde kilit yöntem olacağını, beyin hücresi atlası çıkarılacağını, gen tedavilerinin yaygınlaşacağını ve uzay turizmi gibi kavramlardan bahsedeceğimizi söyleseler bir bilimkurgu filminden bahsedildiğini düşünürdük. ışıkılıkılıkılıkılıkılı\n"
          ]
        }
      ]
    },
    {
      "cell_type": "markdown",
      "source": [
        "## 14. Implement a classification head"
      ],
      "metadata": {
        "id": "8mrquP2jz7Mh"
      }
    },
    {
      "cell_type": "code",
      "source": [
        "# Freeze all model layers first\n",
        "for param in model.parameters():\n",
        "  param.requires_grad = False"
      ],
      "metadata": {
        "id": "zSN1DuBD0Iiz"
      },
      "execution_count": 44,
      "outputs": []
    },
    {
      "cell_type": "code",
      "source": [
        "# Add a classification head\n",
        "torch.manual_seed(123)\n",
        "num_classes = 7\n",
        "model.out_head = torch.nn.Linear(\n",
        "    in_features=BASE_CONFIG[\"emb_dim\"], # 768\n",
        "    out_features=num_classes,           # 7\n",
        ")"
      ],
      "metadata": {
        "id": "wapUFqRXuTP1"
      },
      "execution_count": 45,
      "outputs": []
    },
    {
      "cell_type": "code",
      "source": [
        "num_classes"
      ],
      "metadata": {
        "colab": {
          "base_uri": "https://localhost:8080/"
        },
        "id": "n8PeSQVywOyo",
        "outputId": "edb9e917-1555-4552-f2d6-926389137b16"
      },
      "execution_count": 46,
      "outputs": [
        {
          "output_type": "execute_result",
          "data": {
            "text/plain": [
              "7"
            ]
          },
          "metadata": {},
          "execution_count": 46
        }
      ]
    },
    {
      "cell_type": "code",
      "source": [
        "# Make the final transformer block trainable\n",
        "for param in model.trf_blocks[-1].parameters():\n",
        "  param.requires_grad = True\n",
        "\n",
        "# Make the final LayerNorm trainable\n",
        "for param in model.final_norm.parameters():\n",
        "  param.requires_grad = True"
      ],
      "metadata": {
        "id": "NpU1TpLQtbXG"
      },
      "execution_count": 47,
      "outputs": []
    },
    {
      "cell_type": "code",
      "source": [
        "# Test out the classification head!\n",
        "inputs = tokenizer.encode(\"Do you have time\")\n",
        "inputs = torch.tensor(inputs).unsqueeze(0)\n",
        "\n",
        "with torch.no_grad():\n",
        "  outputs = model(inputs)\n",
        "\n",
        "print(f\"Outputs:\\n {outputs}\")\n",
        "print(f\"Outputs dimensions: {outputs.shape}\")\n",
        "\n"
      ],
      "metadata": {
        "colab": {
          "base_uri": "https://localhost:8080/"
        },
        "id": "f7_kS61Ftsuv",
        "outputId": "640cc9e2-ddc1-4246-d1e2-58fe06e79ed6"
      },
      "execution_count": 48,
      "outputs": [
        {
          "output_type": "stream",
          "name": "stdout",
          "text": [
            "Outputs:\n",
            " tensor([[[-1.6074,  1.0019, -0.0112, -0.3821, -0.1330, -0.9867,  2.2737],\n",
            "         [-3.7455,  7.4664,  2.1972,  0.0751,  2.2227, -3.3227,  6.0291],\n",
            "         [-2.2881,  6.6165,  2.7453, -0.7302,  2.2822, -3.3142,  5.6626],\n",
            "         [-3.6204,  4.0018,  2.2423, -1.2131,  0.0501, -4.7189,  5.8334]]])\n",
            "Outputs dimensions: torch.Size([1, 4, 7])\n"
          ]
        }
      ]
    },
    {
      "cell_type": "code",
      "source": [
        "# Get the classification prediction, which is the last token in the output\n",
        "print(f\"Last output token: {outputs[:, -1, :]}\")"
      ],
      "metadata": {
        "colab": {
          "base_uri": "https://localhost:8080/"
        },
        "id": "V-DDI1QswCg6",
        "outputId": "60f1757a-6848-4623-e4c0-2197ab3ad186"
      },
      "execution_count": 49,
      "outputs": [
        {
          "output_type": "stream",
          "name": "stdout",
          "text": [
            "Last output token: tensor([[-3.6204,  4.0018,  2.2423, -1.2131,  0.0501, -4.7189,  5.8334]])\n"
          ]
        }
      ]
    },
    {
      "cell_type": "code",
      "source": [
        "target_batch"
      ],
      "metadata": {
        "colab": {
          "base_uri": "https://localhost:8080/"
        },
        "id": "NfeJwlo5wFmI",
        "outputId": "44619dd1-2994-4f97-b297-7e8cd66b59d0"
      },
      "execution_count": 50,
      "outputs": [
        {
          "output_type": "execute_result",
          "data": {
            "text/plain": [
              "tensor([4, 2, 4, 5, 4, 6, 0, 6])"
            ]
          },
          "metadata": {},
          "execution_count": 50
        }
      ]
    },
    {
      "cell_type": "markdown",
      "source": [
        "## 15. Implement loss functions"
      ],
      "metadata": {
        "id": "vNPPivyWwM7-"
      }
    },
    {
      "cell_type": "code",
      "source": [
        "def calculate_loss_batch(input_batch, target_batch, model, device):\n",
        "  input_batch, target_batch = input_batch.to(device), target_batch.to(device)\n",
        "  logits = model(input_batch)[:, -1, :] # Grab logits of last output token only!\n",
        "  loss = torch.nn.functional.cross_entropy(logits, target_batch)\n",
        "  return loss"
      ],
      "metadata": {
        "id": "KVmguArI1pan"
      },
      "execution_count": 51,
      "outputs": []
    },
    {
      "cell_type": "code",
      "source": [
        "def calculate_loss_loader(data_loader, model, device, num_batches=None):\n",
        "  total_loss = 0\n",
        "  if len(data_loader) == 0:\n",
        "    return float(\"nan\")\n",
        "  elif num_batches is None:\n",
        "    num_batches = len(data_loader)\n",
        "  else:\n",
        "    num_batches = min(num_batches, len(data_loader))\n",
        "\n",
        "  # Loop through data loader and calculate loss\n",
        "  for index, (input_batch, target_batch) in enumerate(data_loader):\n",
        "    if index < num_batches:\n",
        "      loss = calculate_loss_batch(input_batch, target_batch, model, device)\n",
        "      total_loss += loss.item()\n",
        "    else:\n",
        "      break\n",
        "  return total_loss / num_batches\n"
      ],
      "metadata": {
        "id": "BlMCww7H1-14"
      },
      "execution_count": 52,
      "outputs": []
    },
    {
      "cell_type": "code",
      "source": [
        "import os\n",
        "os.environ['CUDA_LAUNCH_BLOCKING'] = '1'\n"
      ],
      "metadata": {
        "id": "pR2P0Lg1tGvZ"
      },
      "execution_count": 53,
      "outputs": []
    },
    {
      "cell_type": "code",
      "source": [
        "device = torch.device(\"cuda\" if torch.cuda.is_available() else \"cpu\")\n",
        "model.to(device)\n",
        "\n",
        "# Calculate loss of each loader\n",
        "with torch.no_grad():\n",
        "  train_loss = calculate_loss_loader(train_loader, model, device, num_batches=5)\n",
        "  val_loss = calculate_loss_loader(val_loader, model, device, num_batches=5)\n",
        "  test_loss = calculate_loss_loader(test_loader, model, device, num_batches=5)\n"
      ],
      "metadata": {
        "id": "Jyxz0IUh2mu_"
      },
      "execution_count": 54,
      "outputs": []
    },
    {
      "cell_type": "code",
      "source": [
        "print(f\"Training loss: {train_loss:.3f}\")\n",
        "print(f\"Validation loss: {val_loss:.3f}\")\n",
        "print(f\"Test loss: {test_loss:.3f}\")"
      ],
      "metadata": {
        "colab": {
          "base_uri": "https://localhost:8080/"
        },
        "id": "foQT_Y5122dp",
        "outputId": "d886c3d3-7953-4df2-d97b-646ef35b9246"
      },
      "execution_count": 55,
      "outputs": [
        {
          "output_type": "stream",
          "name": "stdout",
          "text": [
            "Training loss: 6.694\n",
            "Validation loss: 5.884\n",
            "Test loss: 5.958\n"
          ]
        }
      ]
    },
    {
      "cell_type": "markdown",
      "source": [
        "## 16. Implement evaluation functions"
      ],
      "metadata": {
        "id": "qJ--5ap64e1s"
      }
    },
    {
      "cell_type": "code",
      "source": [
        "def evaluate_model(model, train_loader, val_loader, device, eval_iter):\n",
        "  # Put model in evaluation mode\n",
        "  model.eval()\n",
        "  with torch.no_grad():\n",
        "    train_loss = calculate_loss_loader(train_loader, model, device, num_batches=eval_iter)\n",
        "    val_loss = calculate_loss_loader(val_loader, model, device, num_batches=eval_iter)\n",
        "\n",
        "  # Put model back in training mode\n",
        "  model.train()\n",
        "  return train_loss, val_loss"
      ],
      "metadata": {
        "id": "ly4FS8vq4ioU"
      },
      "execution_count": 56,
      "outputs": []
    },
    {
      "cell_type": "code",
      "source": [
        "def calculate_accuracy_loader(data_loader, model, device, num_batches=None):\n",
        "  # Put model in evaluation mode\n",
        "  model.eval()\n",
        "  correct_predictions, num_examples = 0, 0\n",
        "\n",
        "  if num_batches is None:\n",
        "    num_batches = len(data_loader)\n",
        "  else:\n",
        "    num_batches = min(num_batches, len(data_loader))\n",
        "\n",
        "  for index, (input_batch, target_batch) in enumerate(data_loader):\n",
        "    if index < num_batches:\n",
        "      input_batch, target_batch = input_batch.to(device), target_batch.to(device)\n",
        "\n",
        "      with torch.no_grad():\n",
        "        logits = model(input_batch)[:, -1, :] # Last output token only\n",
        "      predicted_labels = torch.argmax(logits, dim=-1)\n",
        "\n",
        "      num_examples += predicted_labels.shape[0]\n",
        "      correct_predictions += (predicted_labels == target_batch).sum().item()\n",
        "\n",
        "  return correct_predictions / num_examples\n"
      ],
      "metadata": {
        "id": "k8fBoz7T4vpU"
      },
      "execution_count": 57,
      "outputs": []
    },
    {
      "cell_type": "markdown",
      "source": [
        "## 17. Implement finetuning function"
      ],
      "metadata": {
        "id": "jTVPwYFE2-1Z"
      }
    },
    {
      "cell_type": "code",
      "source": [
        "def train_classifier(\n",
        "    model,\n",
        "    train_loader,\n",
        "    val_loader,\n",
        "    optimizer,\n",
        "    device,\n",
        "    num_epochs,\n",
        "    eval_freq,\n",
        "    eval_iter,\n",
        "    tokenizer,\n",
        "  ):\n",
        "\n",
        "  # Initialize lists to track losses and examples seen\n",
        "  train_losses, val_losses, train_accs, val_accs = [], [], [], []\n",
        "  examples_seen, global_step = 0, -1\n",
        "\n",
        "  # Main training loop\n",
        "  for epoch in range(num_epochs):\n",
        "    model.train()\n",
        "\n",
        "    for input_batch, target_batch in train_loader:\n",
        "      optimizer.zero_grad()\n",
        "      loss = calculate_loss_batch(input_batch, target_batch, model, device)\n",
        "      loss.backward()\n",
        "      optimizer.step()\n",
        "      examples_seen += input_batch.shape[0]\n",
        "      global_step += 1\n",
        "\n",
        "      if global_step % eval_freq == 0:\n",
        "        train_loss, val_loss = evaluate_model(\n",
        "          model, train_loader, val_loader, device, eval_iter\n",
        "        )\n",
        "        train_losses.append(train_loss)\n",
        "        val_losses.append(val_loss)\n",
        "        print(f\"Ep {epoch+1} (Step {global_step:06d}): \"\n",
        "              f\"Train loss {train_loss:.3f}, Val loss {val_loss:.3f}\"\n",
        "              )\n",
        "    train_accuracy = calculate_accuracy_loader(\n",
        "        train_loader, model, device, num_batches=eval_iter\n",
        "    )\n",
        "\n",
        "    val_accuracy = calculate_accuracy_loader(\n",
        "        val_loader, model, device, num_batches=eval_iter\n",
        "    )\n",
        "\n",
        "    print(f\"Training accuracy: {train_accuracy*100:.2f}% | \", end=\"\")\n",
        "    print(f\"Validation accuracy: {val_accuracy*100:.2f}%\")\n",
        "\n",
        "    train_accs.append(train_accuracy)\n",
        "    val_accs.append(val_accuracy)\n",
        "  return train_losses, val_losses, train_accs, val_accs, examples_seen"
      ],
      "metadata": {
        "id": "ouoohbj13G02"
      },
      "execution_count": 58,
      "outputs": []
    },
    {
      "cell_type": "markdown",
      "source": [
        "## 18. Train the model!"
      ],
      "metadata": {
        "id": "LHLSokDU5Wsz"
      }
    },
    {
      "cell_type": "code",
      "source": [
        "import time\n",
        "\n",
        "start_time = time.time()\n",
        "torch.manual_seed(123)\n",
        "\n",
        "# Create optimizer\n",
        "optimizer = torch.optim.AdamW(model.parameters(), lr=5e-5, weight_decay=0.1)\n",
        "\n",
        "# Set training epochs\n",
        "num_epochs = 5\n",
        "\n",
        "# Train the model\n",
        "train_losses, val_losses, train_accs, val_accs, examples_seen = train_classifier(\n",
        "    model=model,\n",
        "    train_loader=train_loader,\n",
        "    val_loader=val_loader,\n",
        "    optimizer=optimizer,\n",
        "    device=device,\n",
        "    num_epochs=num_epochs,\n",
        "    eval_freq=50,\n",
        "    eval_iter=5,\n",
        "    tokenizer=tokenizer,\n",
        ")\n",
        "\n",
        "end_time = time.time()\n",
        "execution_time_minutes = (end_time - start_time) / 60\n",
        "print(f\"Training completed in {execution_time_minutes:.2f} minutes.\")"
      ],
      "metadata": {
        "colab": {
          "base_uri": "https://localhost:8080/"
        },
        "id": "5u2q87Jt5fUI",
        "outputId": "8756a44b-f818-4de8-e6f6-72a1ed574c36"
      },
      "execution_count": 59,
      "outputs": [
        {
          "output_type": "stream",
          "name": "stdout",
          "text": [
            "Ep 1 (Step 000000): Train loss 4.889, Val loss 5.657\n",
            "Ep 1 (Step 000050): Train loss 2.180, Val loss 2.246\n",
            "Ep 1 (Step 000100): Train loss 1.969, Val loss 2.056\n",
            "Ep 1 (Step 000150): Train loss 1.994, Val loss 1.955\n",
            "Ep 1 (Step 000200): Train loss 2.080, Val loss 1.964\n",
            "Ep 1 (Step 000250): Train loss 1.903, Val loss 1.958\n",
            "Ep 1 (Step 000300): Train loss 1.839, Val loss 1.902\n",
            "Ep 1 (Step 000350): Train loss 1.943, Val loss 1.878\n",
            "Ep 1 (Step 000400): Train loss 2.000, Val loss 1.887\n",
            "Training accuracy: 20.00% | Validation accuracy: 22.50%\n",
            "Ep 2 (Step 000450): Train loss 1.960, Val loss 1.854\n",
            "Ep 2 (Step 000500): Train loss 1.990, Val loss 1.867\n",
            "Ep 2 (Step 000550): Train loss 1.838, Val loss 1.871\n",
            "Ep 2 (Step 000600): Train loss 1.828, Val loss 1.842\n",
            "Ep 2 (Step 000650): Train loss 1.798, Val loss 1.856\n",
            "Ep 2 (Step 000700): Train loss 1.754, Val loss 1.849\n",
            "Ep 2 (Step 000750): Train loss 1.780, Val loss 1.846\n",
            "Ep 2 (Step 000800): Train loss 1.825, Val loss 1.836\n",
            "Ep 2 (Step 000850): Train loss 1.942, Val loss 1.803\n",
            "Training accuracy: 30.00% | Validation accuracy: 32.50%\n",
            "Ep 3 (Step 000900): Train loss 1.800, Val loss 1.809\n",
            "Ep 3 (Step 000950): Train loss 1.740, Val loss 1.828\n",
            "Ep 3 (Step 001000): Train loss 1.850, Val loss 1.824\n",
            "Ep 3 (Step 001050): Train loss 1.897, Val loss 1.761\n",
            "Ep 3 (Step 001100): Train loss 1.808, Val loss 1.711\n",
            "Ep 3 (Step 001150): Train loss 1.769, Val loss 1.696\n",
            "Ep 3 (Step 001200): Train loss 1.734, Val loss 1.672\n",
            "Ep 3 (Step 001250): Train loss 1.685, Val loss 1.582\n",
            "Training accuracy: 32.50% | Validation accuracy: 35.00%\n",
            "Ep 4 (Step 001300): Train loss 1.534, Val loss 1.621\n",
            "Ep 4 (Step 001350): Train loss 1.639, Val loss 1.609\n",
            "Ep 4 (Step 001400): Train loss 1.601, Val loss 1.568\n",
            "Ep 4 (Step 001450): Train loss 1.687, Val loss 1.564\n",
            "Ep 4 (Step 001500): Train loss 1.411, Val loss 1.596\n",
            "Ep 4 (Step 001550): Train loss 1.487, Val loss 1.581\n",
            "Ep 4 (Step 001600): Train loss 1.409, Val loss 1.635\n",
            "Ep 4 (Step 001650): Train loss 1.519, Val loss 1.566\n",
            "Ep 4 (Step 001700): Train loss 1.440, Val loss 1.551\n",
            "Training accuracy: 37.50% | Validation accuracy: 32.50%\n",
            "Ep 5 (Step 001750): Train loss 1.267, Val loss 1.529\n",
            "Ep 5 (Step 001800): Train loss 1.379, Val loss 1.576\n",
            "Ep 5 (Step 001850): Train loss 1.418, Val loss 1.592\n",
            "Ep 5 (Step 001900): Train loss 1.514, Val loss 1.600\n",
            "Ep 5 (Step 001950): Train loss 1.480, Val loss 1.770\n",
            "Ep 5 (Step 002000): Train loss 1.518, Val loss 1.587\n",
            "Ep 5 (Step 002050): Train loss 1.376, Val loss 1.605\n",
            "Ep 5 (Step 002100): Train loss 1.501, Val loss 1.557\n",
            "Training accuracy: 45.00% | Validation accuracy: 40.00%\n",
            "Training completed in 8.92 minutes.\n"
          ]
        }
      ]
    },
    {
      "cell_type": "markdown",
      "source": [
        "## 19. Visualize the training loss"
      ],
      "metadata": {
        "id": "kqiDBV_353fU"
      }
    },
    {
      "cell_type": "code",
      "source": [
        "import matplotlib.pyplot as plt\n",
        "\n",
        "def plot_values(epochs_seen, examples_seen, train_values, val_values, label=\"loss\"):\n",
        "    fig, ax1 = plt.subplots(figsize=(5, 3))\n",
        "\n",
        "\n",
        "    ax1.plot(epochs_seen, train_values, label=f\"Training {label}\")\n",
        "    ax1.plot(epochs_seen, val_values, linestyle=\"-.\", label=f\"Validation {label}\")\n",
        "    ax1.set_xlabel(\"Epochs\")\n",
        "    ax1.set_ylabel(label.capitalize())\n",
        "    ax1.legend()\n",
        "\n",
        "\n",
        "    ax2 = ax1.twiny()\n",
        "    ax2.plot(examples_seen, train_values, alpha=0)  # Invisible plot for aligning ticks\n",
        "    ax2.set_xlabel(\"Examples seen\")\n",
        "\n",
        "    fig.tight_layout()\n",
        "    plt.savefig(f\"{label}-plot.pdf\")\n",
        "    plt.show()"
      ],
      "metadata": {
        "id": "32EdGk3N6CFP"
      },
      "execution_count": 60,
      "outputs": []
    },
    {
      "cell_type": "code",
      "source": [
        "epochs_tensor = torch.linspace(0, num_epochs, len(train_losses))\n",
        "examples_seen_tensor = torch.linspace(0, examples_seen, len(train_losses))\n",
        "\n",
        "plot_values(epochs_tensor, examples_seen_tensor, train_losses, val_losses)"
      ],
      "metadata": {
        "colab": {
          "base_uri": "https://localhost:8080/",
          "height": 307
        },
        "id": "AjisOL8a6Cgh",
        "outputId": "aacd0332-2664-47b3-9500-c8c2625fa969"
      },
      "execution_count": 61,
      "outputs": [
        {
          "output_type": "display_data",
          "data": {
            "text/plain": [
              "<Figure size 500x300 with 2 Axes>"
            ],
            "image/png": "[encoded data removed]"
          },
          "metadata": {}
        }
      ]
    },
    {
      "cell_type": "code",
      "source": [
        "epochs_tensor = torch.linspace(0, num_epochs, len(train_accs))\n",
        "examples_seen_tensor = torch.linspace(0, examples_seen, len(train_accs))\n",
        "\n",
        "plot_values(epochs_tensor, examples_seen_tensor, train_accs, val_accs, label=\"accuracy\")"
      ],
      "metadata": {
        "colab": {
          "base_uri": "https://localhost:8080/",
          "height": 307
        },
        "id": "si8az1s96EC8",
        "outputId": "40fcc3cd-f9d0-4ef6-cb04-173ad990653e"
      },
      "execution_count": 62,
      "outputs": [
        {
          "output_type": "display_data",
          "data": {
            "text/plain": [
              "<Figure size 500x300 with 2 Axes>"
            ],
            "image/png": "[encoded data removed]"
          },
          "metadata": {}
        }
      ]
    },
    {
      "cell_type": "code",
      "source": [
        "train_accuracy = calculate_accuracy_loader(train_loader, model, device)\n",
        "val_accuracy = calculate_accuracy_loader(val_loader, model, device)\n",
        "test_accuracy = calculate_accuracy_loader(test_loader, model, device)\n",
        "\n",
        "print(f\"Training accuracy: {train_accuracy*100:.2f}%\")\n",
        "print(f\"Validation accuracy: {val_accuracy*100:.2f}%\")\n",
        "print(f\"Test accuracy: {test_accuracy*100:.2f}%\")"
      ],
      "metadata": {
        "colab": {
          "base_uri": "https://localhost:8080/"
        },
        "id": "gF6wgOqN6F3-",
        "outputId": "18a31a3e-343c-4cb7-d98f-f347308cbf00"
      },
      "execution_count": 63,
      "outputs": [
        {
          "output_type": "stream",
          "name": "stdout",
          "text": [
            "Training accuracy: 42.20%\n",
            "Validation accuracy: 33.47%\n",
            "Test accuracy: 35.00%\n"
          ]
        }
      ]
    },
    {
      "cell_type": "markdown",
      "source": [
        "## 20. Use the fintuned model"
      ],
      "metadata": {
        "id": "yA0DiSHv6IQv"
      }
    },
    {
      "cell_type": "code",
      "source": [
        "def classify(text, model, tokenizer, device, max_length=None, pad_token_id=50256):\n",
        "    model.eval()\n",
        "\n",
        "    input_ids = tokenizer.encode(text)\n",
        "    supported_context_length = model.positional_embedding.weight.shape[1]\n",
        "\n",
        "    input_ids = input_ids[:min(max_length, supported_context_length)]\n",
        "\n",
        "    input_ids += [pad_token_id] * (max_length - len(input_ids))\n",
        "    input_tensor = torch.tensor(input_ids, device=device).unsqueeze(0)\n",
        "\n",
        "\n",
        "    with torch.no_grad():\n",
        "        logits = model(input_tensor)[:, -1, :]\n",
        "    predicted_label = torch.argmax(logits, dim=-1).item()\n",
        "\n",
        "    predicted_category = id_to_category[predicted_label]\n",
        "\n",
        "    return predicted_category"
      ],
      "metadata": {
        "id": "NG-rb_La6TcQ"
      },
      "execution_count": 64,
      "outputs": []
    },
    {
      "cell_type": "code",
      "source": [
        "small_test_data = [\n",
        " {\"text\":\"\"\"Son yıllarda internetin en fazla konuşulan kişilerinden olan Bryan Johnson, kendini ölümsüz kılmak amacıyla oluşturduğu akıl almaz\n",
        " beslenme ve sağlık rutiniyle gündemden düşmüyor. Kendi bedeni üzerinde yapabileceği deneylerin sonuna gelen Johnson, programını daha fazla kişiye açtı\n",
        " ve çok kısa sürede büyük ilgi gördü. Peki bilim insanları ve doktorların eleştiri ve uyarılarına konu olan bu programda ne var?\n",
        " Neden tüm uyarılara rağmen Johnson'ın protokolünü bu kadar popüler oldu?\"\"\",\n",
        " \"category\":\"dunya\"},\n",
        " {\"text\":\"\"\"Ağız ve diş sağlığının bozulması sonucunda meydana gelen diş kayıpları, konuşma ve kelimeleri telaffuz etmede zorluk yaşattığı gibi sindirim\n",
        " sisteminde sorunlara da neden oluyor. Ama hepsi bu değil. Uzmanlara göre dişte oluşan problemler başta kalp rahatsızlıkları olmak üzere akciğer hastalıkları,\n",
        "  diyabet hatta son araştırmalara göre Alzheimer’ın oluşmasında etkili. Peki dişlerin bu hastalıklarla ilgisi ne? Ağız hijyeni bu sorunların önüne geçmede\n",
        "  ne kadar etkili?\n",
        " Uzmanlarla mercek altına aldık.\"\"\",\n",
        "  \"category\":\"saglik\"},\n",
        " {\"text\":\"\"\"Bundan yaklaşık 30 yıl önce yapay zekânın hayatımızın her alanına gireceğini, bağışıklık sistemi hücrelerinin kanser tedavisinde\n",
        " kilit yöntem olacağını, beyin hücresi atlası çıkarılacağını, gen tedavilerinin yaygınlaşacağını ve uzay turizmi gibi kavramlardan bahsedeceğimizi söyleseler\n",
        "  bir bilimkurgu filminden bahsedildiğini düşünürdük. Yaşadığımız aşırı doğa olaylarına ve iklim krizine bakarsak da bunun distopik bir film olacağını\n",
        "  zannederdik. 2023 yılı özellikle sağlık alanındaki bilimsel gelişmeler yönünden verimli ancak doğaya verdiğimiz tahribat açısından umutsuz geçti.\n",
        " Peki, 2024’te ve sonraki dönemde bizi neler bekliyor? Bilim insanlarına sorduk.\"\"\" ,\n",
        " \"category\":\"teknoloji\"},\n",
        " {\"text\":\"\"\"Trendyol Süper Lig'in 21. haftasında deplasmanda Trabzonspor ile karşılaşacak olan Galatasaray'da kafile açıklandı. Mauro Icardi kadroda yer aldı.\n",
        "Süper Lig'in 21. haftasında yarın deplasmanda Trabzonspor ile karşı karşıya gelecek olan Galatasaray'da kafile kadrosu belli oldu. İki gündür takımla çalışan Mauro Icardi kadroda yer aldı.\"\"\",\n",
        "  \"category\":\"spor\"},\n",
        " {\"text\": \"\"\"Milyonlarca memur ve emekli maaş zammının yüzde 49.25 olarak belirlenmesinin ardından maaş farklarını beklemeye başladı.\n",
        " Memur ve memur emeklileri,\n",
        "  zamlı maaşlarını ve enflasyon farkları 15 Ocak'tan itibaren alacak.\n",
        "  \"\"\",\n",
        "  \"category\":\"ekonomi\"}\n",
        "\n",
        "]"
      ],
      "metadata": {
        "id": "NCl2L0y9kH4t"
      },
      "execution_count": 65,
      "outputs": []
    },
    {
      "cell_type": "code",
      "source": [
        "for row in small_test_data:\n",
        "  print(f\"Text: {row['text']}\")\n",
        "  print(f\"Classification: {classify(row['text'], model, tokenizer, device, max_length=train_dataset.max_length)}\")\n",
        "  print()"
      ],
      "metadata": {
        "colab": {
          "base_uri": "https://localhost:8080/"
        },
        "id": "5jvUiQgv6UJ3",
        "outputId": "aff1ad8e-3e52-44e7-ed96-a2dc5520b5be"
      },
      "execution_count": 67,
      "outputs": [
        {
          "output_type": "stream",
          "name": "stdout",
          "text": [
            "Text: Son yıllarda internetin en fazla konuşulan kişilerinden olan Bryan Johnson, kendini ölümsüz kılmak amacıyla oluşturduğu akıl almaz\n",
            " beslenme ve sağlık rutiniyle gündemden düşmüyor. Kendi bedeni üzerinde yapabileceği deneylerin sonuna gelen Johnson, programını daha fazla kişiye açtı\n",
            " ve çok kısa sürede büyük ilgi gördü. Peki bilim insanları ve doktorların eleştiri ve uyarılarına konu olan bu programda ne var?\n",
            " Neden tüm uyarılara rağmen Johnson'ın protokolünü bu kadar popüler oldu?\n",
            "Classification: dunya\n",
            "\n",
            "Text: Ağız ve diş sağlığının bozulması sonucunda meydana gelen diş kayıpları, konuşma ve kelimeleri telaffuz etmede zorluk yaşattığı gibi sindirim\n",
            " sisteminde sorunlara da neden oluyor. Ama hepsi bu değil. Uzmanlara göre dişte oluşan problemler başta kalp rahatsızlıkları olmak üzere akciğer hastalıkları,\n",
            "  diyabet hatta son araştırmalara göre Alzheimer’ın oluşmasında etkili. Peki dişlerin bu hastalıklarla ilgisi ne? Ağız hijyeni bu sorunların önüne geçmede\n",
            "  ne kadar etkili?\n",
            " Uzmanlarla mercek altına aldık.\n",
            "Classification: dunya\n",
            "\n",
            "Text: Bundan yaklaşık 30 yıl önce yapay zekânın hayatımızın her alanına gireceğini, bağışıklık sistemi hücrelerinin kanser tedavisinde\n",
            " kilit yöntem olacağını, beyin hücresi atlası çıkarılacağını, gen tedavilerinin yaygınlaşacağını ve uzay turizmi gibi kavramlardan bahsedeceğimizi söyleseler\n",
            "  bir bilimkurgu filminden bahsedildiğini düşünürdük. Yaşadığımız aşırı doğa olaylarına ve iklim krizine bakarsak da bunun distopik bir film olacağını\n",
            "  zannederdik. 2023 yılı özellikle sağlık alanındaki bilimsel gelişmeler yönünden verimli ancak doğaya verdiğimiz tahribat açısından umutsuz geçti.\n",
            " Peki, 2024’te ve sonraki dönemde bizi neler bekliyor? Bilim insanlarına sorduk.\n",
            "Classification: kultur\n",
            "\n",
            "Text: Trendyol Süper Lig'in 21. haftasında deplasmanda Trabzonspor ile karşılaşacak olan Galatasaray'da kafile açıklandı. Mauro Icardi kadroda yer aldı.\n",
            "Süper Lig'in 21. haftasında yarın deplasmanda Trabzonspor ile karşı karşıya gelecek olan Galatasaray'da kafile kadrosu belli oldu. İki gündür takımla çalışan Mauro Icardi kadroda yer aldı.\n",
            "Classification: spor\n",
            "\n",
            "Text: Milyonlarca memur ve emekli maaş zammının yüzde 49.25 olarak belirlenmesinin ardından maaş farklarını beklemeye başladı.\n",
            " Memur ve memur emeklileri,\n",
            "  zamlı maaşlarını ve enflasyon farkları 15 Ocak'tan itibaren alacak.\n",
            "  \n",
            "Classification: spor\n",
            "\n"
          ]
        }
      ]
    },
    {
      "cell_type": "code",
      "source": [],
      "metadata": {
        "id": "r6CmP-_y78Xv"
      },
      "execution_count": null,
      "outputs": []
    }
  ]
}