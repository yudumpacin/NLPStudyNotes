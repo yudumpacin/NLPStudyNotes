{
  "nbformat": 4,
  "nbformat_minor": 0,
  "metadata": {
    "colab": {
      "provenance": [],
      "authorship_tag": "ABX9TyPv7tHqi67DASihczOQNSZ6",
      "include_colab_link": true
    },
    "kernelspec": {
      "name": "python3",
      "display_name": "Python 3"
    },
    "language_info": {
      "name": "python"
    }
  },
  "cells": [
    {
      "cell_type": "markdown",
      "metadata": {
        "id": "view-in-github",
        "colab_type": "text"
      },
      "source": [
        "<a href=\"https://colab.research.google.com/github/yudumpacin/NLPStudyNotes/blob/main/TextClassification_Nltk.ipynb\" target=\"_parent\"><img src=\"https://colab.research.google.com/assets/colab-badge.svg\" alt=\"Open In Colab\"/></a>"
      ]
    },
    {
      "cell_type": "markdown",
      "source": [
        "# Restaurant Review Classification"
      ],
      "metadata": {
        "id": "52dAgJjQHGN_"
      }
    },
    {
      "cell_type": "markdown",
      "source": [
        "# 1) Data Preprocessing"
      ],
      "metadata": {
        "id": "U3TTd1p8HPqN"
      }
    },
    {
      "cell_type": "code",
      "source": [
        "import numpy as np\n",
        "import pandas as pd\n",
        "import matplotlib.pyplot as plt"
      ],
      "metadata": {
        "id": "WbXVZf0tHDz4"
      },
      "execution_count": 1,
      "outputs": []
    },
    {
      "cell_type": "code",
      "source": [
        "data = pd.read_csv(\"Restaurant_Reviews.tsv\", sep=\"\\t\")"
      ],
      "metadata": {
        "id": "Do_gdQOoMNud"
      },
      "execution_count": 3,
      "outputs": []
    },
    {
      "cell_type": "code",
      "source": [
        "data.head()"
      ],
      "metadata": {
        "colab": {
          "base_uri": "https://localhost:8080/",
          "height": 206
        },
        "id": "cWhLimB4HTsD",
        "outputId": "fd7e4564-50c2-4334-f742-e27872f7656f"
      },
      "execution_count": 4,
      "outputs": [
        {
          "output_type": "execute_result",
          "data": {
            "text/plain": [
              "                                              Review  Liked\n",
              "0                           Wow... Loved this place.      1\n",
              "1                                 Crust is not good.      0\n",
              "2          Not tasty and the texture was just nasty.      0\n",
              "3  Stopped by during the late May bank holiday of...      1\n",
              "4  The selection on the menu was great and so wer...      1"
            ],
            "text/html": [
              "\n",
              "  <div id=\"df-90be8991-0f64-44ce-a316-2be7eee175f6\" class=\"colab-df-container\">\n",
              "    <div>\n",
              "<style scoped>\n",
              "    .dataframe tbody tr th:only-of-type {\n",
              "        vertical-align: middle;\n",
              "    }\n",
              "\n",
              "    .dataframe tbody tr th {\n",
              "        vertical-align: top;\n",
              "    }\n",
              "\n",
              "    .dataframe thead th {\n",
              "        text-align: right;\n",
              "    }\n",
              "</style>\n",
              "<table border=\"1\" class=\"dataframe\">\n",
              "  <thead>\n",
              "    <tr style=\"text-align: right;\">\n",
              "      <th></th>\n",
              "      <th>Review</th>\n",
              "      <th>Liked</th>\n",
              "    </tr>\n",
              "  </thead>\n",
              "  <tbody>\n",
              "    <tr>\n",
              "      <th>0</th>\n",
              "      <td>Wow... Loved this place.</td>\n",
              "      <td>1</td>\n",
              "    </tr>\n",
              "    <tr>\n",
              "      <th>1</th>\n",
              "      <td>Crust is not good.</td>\n",
              "      <td>0</td>\n",
              "    </tr>\n",
              "    <tr>\n",
              "      <th>2</th>\n",
              "      <td>Not tasty and the texture was just nasty.</td>\n",
              "      <td>0</td>\n",
              "    </tr>\n",
              "    <tr>\n",
              "      <th>3</th>\n",
              "      <td>Stopped by during the late May bank holiday of...</td>\n",
              "      <td>1</td>\n",
              "    </tr>\n",
              "    <tr>\n",
              "      <th>4</th>\n",
              "      <td>The selection on the menu was great and so wer...</td>\n",
              "      <td>1</td>\n",
              "    </tr>\n",
              "  </tbody>\n",
              "</table>\n",
              "</div>\n",
              "    <div class=\"colab-df-buttons\">\n",
              "\n",
              "  <div class=\"colab-df-container\">\n",
              "    <button class=\"colab-df-convert\" onclick=\"convertToInteractive('df-90be8991-0f64-44ce-a316-2be7eee175f6')\"\n",
              "            title=\"Convert this dataframe to an interactive table.\"\n",
              "            style=\"display:none;\">\n",
              "\n",
              "  <svg xmlns=\"http://www.w3.org/2000/svg\" height=\"24px\" viewBox=\"0 -960 960 960\">\n",
              "    <path d=\"M120-120v-720h720v720H120Zm60-500h600v-160H180v160Zm220 220h160v-160H400v160Zm0 220h160v-160H400v160ZM180-400h160v-160H180v160Zm440 0h160v-160H620v160ZM180-180h160v-160H180v160Zm440 0h160v-160H620v160Z\"/>\n",
              "  </svg>\n",
              "    </button>\n",
              "\n",
              "  <style>\n",
              "    .colab-df-container {\n",
              "      display:flex;\n",
              "      gap: 12px;\n",
              "    }\n",
              "\n",
              "    .colab-df-convert {\n",
              "      background-color: #E8F0FE;\n",
              "      border: none;\n",
              "      border-radius: 50%;\n",
              "      cursor: pointer;\n",
              "      display: none;\n",
              "      fill: #1967D2;\n",
              "      height: 32px;\n",
              "      padding: 0 0 0 0;\n",
              "      width: 32px;\n",
              "    }\n",
              "\n",
              "    .colab-df-convert:hover {\n",
              "      background-color: #E2EBFA;\n",
              "      box-shadow: 0px 1px 2px rgba(60, 64, 67, 0.3), 0px 1px 3px 1px rgba(60, 64, 67, 0.15);\n",
              "      fill: #174EA6;\n",
              "    }\n",
              "\n",
              "    .colab-df-buttons div {\n",
              "      margin-bottom: 4px;\n",
              "    }\n",
              "\n",
              "    [theme=dark] .colab-df-convert {\n",
              "      background-color: #3B4455;\n",
              "      fill: #D2E3FC;\n",
              "    }\n",
              "\n",
              "    [theme=dark] .colab-df-convert:hover {\n",
              "      background-color: #434B5C;\n",
              "      box-shadow: 0px 1px 3px 1px rgba(0, 0, 0, 0.15);\n",
              "      filter: drop-shadow(0px 1px 2px rgba(0, 0, 0, 0.3));\n",
              "      fill: #FFFFFF;\n",
              "    }\n",
              "  </style>\n",
              "\n",
              "    <script>\n",
              "      const buttonEl =\n",
              "        document.querySelector('#df-90be8991-0f64-44ce-a316-2be7eee175f6 button.colab-df-convert');\n",
              "      buttonEl.style.display =\n",
              "        google.colab.kernel.accessAllowed ? 'block' : 'none';\n",
              "\n",
              "      async function convertToInteractive(key) {\n",
              "        const element = document.querySelector('#df-90be8991-0f64-44ce-a316-2be7eee175f6');\n",
              "        const dataTable =\n",
              "          await google.colab.kernel.invokeFunction('convertToInteractive',\n",
              "                                                    [key], {});\n",
              "        if (!dataTable) return;\n",
              "\n",
              "        const docLinkHtml = 'Like what you see? Visit the ' +\n",
              "          '<a target=\"_blank\" href=https://colab.research.google.com/notebooks/data_table.ipynb>data table notebook</a>'\n",
              "          + ' to learn more about interactive tables.';\n",
              "        element.innerHTML = '';\n",
              "        dataTable['output_type'] = 'display_data';\n",
              "        await google.colab.output.renderOutput(dataTable, element);\n",
              "        const docLink = document.createElement('div');\n",
              "        docLink.innerHTML = docLinkHtml;\n",
              "        element.appendChild(docLink);\n",
              "      }\n",
              "    </script>\n",
              "  </div>\n",
              "\n",
              "\n",
              "<div id=\"df-d3856778-c58d-49a3-91c4-30fadb6877f2\">\n",
              "  <button class=\"colab-df-quickchart\" onclick=\"quickchart('df-d3856778-c58d-49a3-91c4-30fadb6877f2')\"\n",
              "            title=\"Suggest charts\"\n",
              "            style=\"display:none;\">\n",
              "\n",
              "<svg xmlns=\"http://www.w3.org/2000/svg\" height=\"24px\"viewBox=\"0 0 24 24\"\n",
              "     width=\"24px\">\n",
              "    <g>\n",
              "        <path d=\"M19 3H5c-1.1 0-2 .9-2 2v14c0 1.1.9 2 2 2h14c1.1 0 2-.9 2-2V5c0-1.1-.9-2-2-2zM9 17H7v-7h2v7zm4 0h-2V7h2v10zm4 0h-2v-4h2v4z\"/>\n",
              "    </g>\n",
              "</svg>\n",
              "  </button>\n",
              "\n",
              "<style>\n",
              "  .colab-df-quickchart {\n",
              "      --bg-color: #E8F0FE;\n",
              "      --fill-color: #1967D2;\n",
              "      --hover-bg-color: #E2EBFA;\n",
              "      --hover-fill-color: #174EA6;\n",
              "      --disabled-fill-color: #AAA;\n",
              "      --disabled-bg-color: #DDD;\n",
              "  }\n",
              "\n",
              "  [theme=dark] .colab-df-quickchart {\n",
              "      --bg-color: #3B4455;\n",
              "      --fill-color: #D2E3FC;\n",
              "      --hover-bg-color: #434B5C;\n",
              "      --hover-fill-color: #FFFFFF;\n",
              "      --disabled-bg-color: #3B4455;\n",
              "      --disabled-fill-color: #666;\n",
              "  }\n",
              "\n",
              "  .colab-df-quickchart {\n",
              "    background-color: var(--bg-color);\n",
              "    border: none;\n",
              "    border-radius: 50%;\n",
              "    cursor: pointer;\n",
              "    display: none;\n",
              "    fill: var(--fill-color);\n",
              "    height: 32px;\n",
              "    padding: 0;\n",
              "    width: 32px;\n",
              "  }\n",
              "\n",
              "  .colab-df-quickchart:hover {\n",
              "    background-color: var(--hover-bg-color);\n",
              "    box-shadow: 0 1px 2px rgba(60, 64, 67, 0.3), 0 1px 3px 1px rgba(60, 64, 67, 0.15);\n",
              "    fill: var(--button-hover-fill-color);\n",
              "  }\n",
              "\n",
              "  .colab-df-quickchart-complete:disabled,\n",
              "  .colab-df-quickchart-complete:disabled:hover {\n",
              "    background-color: var(--disabled-bg-color);\n",
              "    fill: var(--disabled-fill-color);\n",
              "    box-shadow: none;\n",
              "  }\n",
              "\n",
              "  .colab-df-spinner {\n",
              "    border: 2px solid var(--fill-color);\n",
              "    border-color: transparent;\n",
              "    border-bottom-color: var(--fill-color);\n",
              "    animation:\n",
              "      spin 1s steps(1) infinite;\n",
              "  }\n",
              "\n",
              "  @keyframes spin {\n",
              "    0% {\n",
              "      border-color: transparent;\n",
              "      border-bottom-color: var(--fill-color);\n",
              "      border-left-color: var(--fill-color);\n",
              "    }\n",
              "    20% {\n",
              "      border-color: transparent;\n",
              "      border-left-color: var(--fill-color);\n",
              "      border-top-color: var(--fill-color);\n",
              "    }\n",
              "    30% {\n",
              "      border-color: transparent;\n",
              "      border-left-color: var(--fill-color);\n",
              "      border-top-color: var(--fill-color);\n",
              "      border-right-color: var(--fill-color);\n",
              "    }\n",
              "    40% {\n",
              "      border-color: transparent;\n",
              "      border-right-color: var(--fill-color);\n",
              "      border-top-color: var(--fill-color);\n",
              "    }\n",
              "    60% {\n",
              "      border-color: transparent;\n",
              "      border-right-color: var(--fill-color);\n",
              "    }\n",
              "    80% {\n",
              "      border-color: transparent;\n",
              "      border-right-color: var(--fill-color);\n",
              "      border-bottom-color: var(--fill-color);\n",
              "    }\n",
              "    90% {\n",
              "      border-color: transparent;\n",
              "      border-bottom-color: var(--fill-color);\n",
              "    }\n",
              "  }\n",
              "</style>\n",
              "\n",
              "  <script>\n",
              "    async function quickchart(key) {\n",
              "      const quickchartButtonEl =\n",
              "        document.querySelector('#' + key + ' button');\n",
              "      quickchartButtonEl.disabled = true;  // To prevent multiple clicks.\n",
              "      quickchartButtonEl.classList.add('colab-df-spinner');\n",
              "      try {\n",
              "        const charts = await google.colab.kernel.invokeFunction(\n",
              "            'suggestCharts', [key], {});\n",
              "      } catch (error) {\n",
              "        console.error('Error during call to suggestCharts:', error);\n",
              "      }\n",
              "      quickchartButtonEl.classList.remove('colab-df-spinner');\n",
              "      quickchartButtonEl.classList.add('colab-df-quickchart-complete');\n",
              "    }\n",
              "    (() => {\n",
              "      let quickchartButtonEl =\n",
              "        document.querySelector('#df-d3856778-c58d-49a3-91c4-30fadb6877f2 button');\n",
              "      quickchartButtonEl.style.display =\n",
              "        google.colab.kernel.accessAllowed ? 'block' : 'none';\n",
              "    })();\n",
              "  </script>\n",
              "</div>\n",
              "\n",
              "    </div>\n",
              "  </div>\n"
            ]
          },
          "metadata": {},
          "execution_count": 4
        }
      ]
    },
    {
      "cell_type": "code",
      "source": [
        "data[\"Liked\"].value_counts()"
      ],
      "metadata": {
        "colab": {
          "base_uri": "https://localhost:8080/"
        },
        "id": "GW4Djmw_HTw2",
        "outputId": "12d83117-d856-4914-f2b5-29a2fe90d0cf"
      },
      "execution_count": 5,
      "outputs": [
        {
          "output_type": "execute_result",
          "data": {
            "text/plain": [
              "1    500\n",
              "0    500\n",
              "Name: Liked, dtype: int64"
            ]
          },
          "metadata": {},
          "execution_count": 5
        }
      ]
    },
    {
      "cell_type": "markdown",
      "source": [
        "# 2) Data Cleaning"
      ],
      "metadata": {
        "id": "eWBM9fuUWPzB"
      }
    },
    {
      "cell_type": "code",
      "source": [
        "import nltk\n",
        "from nltk import PorterStemmer, SnowballStemmer, WordNetLemmatizer\n",
        "from nltk.corpus import stopwords\n",
        "import re"
      ],
      "metadata": {
        "id": "VcYAPTxhWU8A"
      },
      "execution_count": 77,
      "outputs": []
    },
    {
      "cell_type": "code",
      "source": [
        "nltk.download(\"stopwords\")"
      ],
      "metadata": {
        "id": "9hm7xr61Y1Xo"
      },
      "execution_count": null,
      "outputs": []
    },
    {
      "cell_type": "code",
      "source": [
        "nltk.download('wordnet')"
      ],
      "metadata": {
        "colab": {
          "base_uri": "https://localhost:8080/"
        },
        "id": "VWoczXKrdEIh",
        "outputId": "b896304b-b95f-4343-8818-e52efd68e8bf"
      },
      "execution_count": 83,
      "outputs": [
        {
          "output_type": "stream",
          "name": "stderr",
          "text": [
            "[nltk_data] Downloading package wordnet to /root/nltk_data...\n"
          ]
        },
        {
          "output_type": "execute_result",
          "data": {
            "text/plain": [
              "True"
            ]
          },
          "metadata": {},
          "execution_count": 83
        }
      ]
    },
    {
      "cell_type": "code",
      "source": [
        "stop_words = stopwords.words(\"english\")"
      ],
      "metadata": {
        "id": "xK_RKzDXY4zo"
      },
      "execution_count": 61,
      "outputs": []
    },
    {
      "cell_type": "code",
      "source": [
        "neg = [\"no\",\"not\",\"doesn't\",\"don't\"]"
      ],
      "metadata": {
        "id": "AtZW9Swnbfzh"
      },
      "execution_count": 71,
      "outputs": []
    },
    {
      "cell_type": "code",
      "source": [
        "stop_words_pre = [c for c in stop_words if c not in neg]"
      ],
      "metadata": {
        "id": "g4-PvOc1bEa5"
      },
      "execution_count": 73,
      "outputs": []
    },
    {
      "cell_type": "code",
      "source": [
        "stemmer =  SnowballStemmer(\"english\")"
      ],
      "metadata": {
        "id": "5giwlCkkYgeN"
      },
      "execution_count": 35,
      "outputs": []
    },
    {
      "cell_type": "code",
      "source": [
        "def preprocess_with_stemming(review):\n",
        "  review = review.lower()\n",
        "  review = re.sub(\"[^a-z0-9 ]\",\"\",review)\n",
        "  review = \" \".join([stemmer.stem(word) for word in review.split() if word not in stop_words_pre])\n",
        "  return review"
      ],
      "metadata": {
        "id": "4Bct_TsZdNsg"
      },
      "execution_count": 91,
      "outputs": []
    },
    {
      "cell_type": "code",
      "source": [
        "lemmatizer = WordNetLemmatizer()"
      ],
      "metadata": {
        "id": "W7EAGWWYcz63"
      },
      "execution_count": 78,
      "outputs": []
    },
    {
      "cell_type": "code",
      "source": [
        "def preprocess_with_lemmatize(review):\n",
        "  review = review.lower()\n",
        "  review = re.sub(\"[^a-z0-9 ]\",\"\",review)\n",
        "  review = \" \".join([lemmatizer.lemmatize(word) for word in review.split() if word not in stop_words_pre])\n",
        "  return review\n"
      ],
      "metadata": {
        "id": "woZaFQK8YVYb"
      },
      "execution_count": 94,
      "outputs": []
    },
    {
      "cell_type": "code",
      "source": [
        "data[\"Review\"].apply(preprocess_with_stemming)"
      ],
      "metadata": {
        "colab": {
          "base_uri": "https://localhost:8080/"
        },
        "id": "XRUv8EjAYQHC",
        "outputId": "f40a2dcb-39db-445b-89b1-7bd5a7612160"
      },
      "execution_count": 92,
      "outputs": [
        {
          "output_type": "execute_result",
          "data": {
            "text/plain": [
              "0                                         wow love place\n",
              "1                                         crust not good\n",
              "2                                 not tasti textur nasti\n",
              "3      stop late may bank holiday rick steve recommen...\n",
              "4                                select menu great price\n",
              "                             ...                        \n",
              "995                        think food flavor textur lack\n",
              "996                                 appetit instant gone\n",
              "997                 overal not impress would not go back\n",
              "998    whole experi underwhelm think well go ninja su...\n",
              "999    hadnt wast enough life pour salt wound draw ti...\n",
              "Name: Review, Length: 1000, dtype: object"
            ]
          },
          "metadata": {},
          "execution_count": 92
        }
      ]
    },
    {
      "cell_type": "code",
      "source": [
        "data[\"Review\"].apply(preprocess_with_lemmatize)"
      ],
      "metadata": {
        "colab": {
          "base_uri": "https://localhost:8080/"
        },
        "id": "MCp-WGaRaXk3",
        "outputId": "ae9226b4-be63-4b9e-c56d-1d078842a141"
      },
      "execution_count": 95,
      "outputs": [
        {
          "output_type": "execute_result",
          "data": {
            "text/plain": [
              "0                                        wow loved place\n",
              "1                                         crust not good\n",
              "2                                not tasty texture nasty\n",
              "3      stopped late may bank holiday rick steve recom...\n",
              "4                             selection menu great price\n",
              "                             ...                        \n",
              "995                    think food flavor texture lacking\n",
              "996                              appetite instantly gone\n",
              "997              overall not impressed would not go back\n",
              "998    whole experience underwhelming think well go n...\n",
              "999    hadnt wasted enough life poured salt wound dra...\n",
              "Name: Review, Length: 1000, dtype: object"
            ]
          },
          "metadata": {},
          "execution_count": 95
        }
      ]
    },
    {
      "cell_type": "code",
      "source": [
        "data[\"Review_Cleaned\"] = data[\"Review\"].apply(preprocess_with_lemmatize)"
      ],
      "metadata": {
        "id": "mA73hqhVdrw7"
      },
      "execution_count": 96,
      "outputs": []
    },
    {
      "cell_type": "markdown",
      "source": [
        "# 3) Bag of Words"
      ],
      "metadata": {
        "id": "dfu2aWpQdy1-"
      }
    },
    {
      "cell_type": "code",
      "source": [
        "from sklearn.feature_extraction.text import CountVectorizer"
      ],
      "metadata": {
        "id": "RN4b3dDKd2Mw"
      },
      "execution_count": 97,
      "outputs": []
    },
    {
      "cell_type": "code",
      "source": [
        "# Sample text data\n",
        "documents = [\n",
        "    \"The quick brown fox jumped over the lazy dog\",\n",
        "    \"The dog slept under the tree\",\n",
        "    \"Foxes are wild animals\"\n",
        "]\n",
        "\n",
        "# Initialize CountVectorizer\n",
        "vectorizer = CountVectorizer()\n",
        "\n",
        "# Fit and transform the documents\n",
        "bow_matrix = vectorizer.fit_transform(documents)\n",
        "\n",
        "# Convert to an array\n",
        "bow_array = bow_matrix.toarray()\n",
        "\n",
        "# Get feature names\n",
        "feature_names = vectorizer.get_feature_names_out()\n",
        "\n",
        "# Print the array and feature names\n",
        "print(bow_matrix)\n",
        "print(bow_array)\n",
        "print(feature_names)"
      ],
      "metadata": {
        "colab": {
          "base_uri": "https://localhost:8080/"
        },
        "id": "1yyVGWwqiVG7",
        "outputId": "481a0ade-ffaf-44da-dc5c-a53d661a77f5"
      },
      "execution_count": 115,
      "outputs": [
        {
          "output_type": "stream",
          "name": "stdout",
          "text": [
            "  (0, 11)\t2\n",
            "  (0, 9)\t1\n",
            "  (0, 2)\t1\n",
            "  (0, 4)\t1\n",
            "  (0, 6)\t1\n",
            "  (0, 8)\t1\n",
            "  (0, 7)\t1\n",
            "  (0, 3)\t1\n",
            "  (1, 11)\t2\n",
            "  (1, 3)\t1\n",
            "  (1, 10)\t1\n",
            "  (1, 13)\t1\n",
            "  (1, 12)\t1\n",
            "  (2, 5)\t1\n",
            "  (2, 1)\t1\n",
            "  (2, 14)\t1\n",
            "  (2, 0)\t1\n",
            "[[0 0 1 1 1 0 1 1 1 1 0 2 0 0 0]\n",
            " [0 0 0 1 0 0 0 0 0 0 1 2 1 1 0]\n",
            " [1 1 0 0 0 1 0 0 0 0 0 0 0 0 1]]\n",
            "['animals' 'are' 'brown' 'dog' 'fox' 'foxes' 'jumped' 'lazy' 'over'\n",
            " 'quick' 'slept' 'the' 'tree' 'under' 'wild']\n"
          ]
        }
      ]
    },
    {
      "cell_type": "code",
      "source": [
        "X = data[\"Review_Cleaned\"]\n",
        "y = data[\"Liked\"]"
      ],
      "metadata": {
        "id": "uiB_rYGed2Qa"
      },
      "execution_count": 98,
      "outputs": []
    },
    {
      "cell_type": "code",
      "source": [
        "from sklearn.model_selection import train_test_split"
      ],
      "metadata": {
        "id": "1zqkoRTUe8Tq"
      },
      "execution_count": 99,
      "outputs": []
    },
    {
      "cell_type": "code",
      "source": [
        "X_train,X_test,y_train,y_test = train_test_split(X,y,test_size=0.3,random_state=42)"
      ],
      "metadata": {
        "id": "b-mT_U0Ke8e1"
      },
      "execution_count": 100,
      "outputs": []
    },
    {
      "cell_type": "code",
      "source": [
        "from sklearn.pipeline import Pipeline\n",
        "from sklearn.naive_bayes import GaussianNB\n",
        "from sklearn.preprocessing import FunctionTransformer"
      ],
      "metadata": {
        "id": "4H2cuB6TfT04"
      },
      "execution_count": 110,
      "outputs": []
    },
    {
      "cell_type": "code",
      "source": [
        "def create_and_fit_pipeline(classifier, X_train, y_train):\n",
        "    pipeline = Pipeline([\n",
        "        (\"bag\", CountVectorizer()),\n",
        "        (\"to_dense\", FunctionTransformer(lambda x: x.toarray(), accept_sparse=True)),\n",
        "        (\"classifier\", classifier)\n",
        "    ])\n",
        "\n",
        "    pipeline.fit(X_train, y_train)\n",
        "    return pipeline"
      ],
      "metadata": {
        "id": "Smheq05IfUEl"
      },
      "execution_count": 125,
      "outputs": []
    },
    {
      "cell_type": "markdown",
      "source": [
        "# 3) Model Application"
      ],
      "metadata": {
        "id": "A9Ym07vohFoo"
      }
    },
    {
      "cell_type": "code",
      "source": [
        "from sklearn.metrics import f1_score,confusion_matrix,classification_report"
      ],
      "metadata": {
        "id": "jmdEIpHTiIWh"
      },
      "execution_count": 119,
      "outputs": []
    },
    {
      "cell_type": "code",
      "source": [
        "def evaluate_pipeline(pipeline, X_test, y_test):\n",
        "    predictions = pipeline.predict(X_test)\n",
        "    f1 = f1_score(y_test, predictions)\n",
        "    report = classification_report(y_test, predictions)\n",
        "    return  f1, report"
      ],
      "metadata": {
        "id": "wvATF-5Oi2jA"
      },
      "execution_count": 132,
      "outputs": []
    },
    {
      "cell_type": "code",
      "source": [
        "from sklearn.ensemble import RandomForestClassifier"
      ],
      "metadata": {
        "id": "UWewByztjFWn"
      },
      "execution_count": 122,
      "outputs": []
    },
    {
      "cell_type": "code",
      "source": [
        "from sklearn.ensemble import RandomForestClassifier\n",
        "from sklearn.naive_bayes import MultinomialNB\n",
        "from sklearn.naive_bayes import GaussianNB\n",
        "from sklearn.svm import SVC\n",
        "from sklearn.linear_model import LogisticRegression\n",
        "\n",
        "classifiers = [\n",
        "    RandomForestClassifier(),\n",
        "    MultinomialNB(),\n",
        "    GaussianNB(),\n",
        "    SVC(),\n",
        "    LogisticRegression()\n",
        "]\n",
        "\n",
        "for clf in classifiers:\n",
        "    pipeline = create_and_fit_pipeline(clf, X_train, y_train)\n",
        "    score, report = evaluate_pipeline(pipeline, X_test, y_test)\n",
        "    print(f\"Model: {clf.__class__.__name__}\")\n",
        "    print(f\"F1: {score}\")\n",
        "    print(f\"Classification Report:\\n{report}\\n\")\n"
      ],
      "metadata": {
        "colab": {
          "base_uri": "https://localhost:8080/"
        },
        "id": "gULr-gHmjL68",
        "outputId": "f9bbbd61-cd30-4f32-d8fd-83274d2e9b84"
      },
      "execution_count": 136,
      "outputs": [
        {
          "output_type": "stream",
          "name": "stdout",
          "text": [
            "Model: RandomForestClassifier\n",
            "F1: 0.7857142857142858\n",
            "Classification Report:\n",
            "              precision    recall  f1-score   support\n",
            "\n",
            "           0       0.77      0.86      0.81       152\n",
            "           1       0.83      0.74      0.79       148\n",
            "\n",
            "    accuracy                           0.80       300\n",
            "   macro avg       0.80      0.80      0.80       300\n",
            "weighted avg       0.80      0.80      0.80       300\n",
            "\n",
            "\n",
            "Model: MultinomialNB\n",
            "F1: 0.8013468013468014\n",
            "Classification Report:\n",
            "              precision    recall  f1-score   support\n",
            "\n",
            "           0       0.81      0.80      0.81       152\n",
            "           1       0.80      0.80      0.80       148\n",
            "\n",
            "    accuracy                           0.80       300\n",
            "   macro avg       0.80      0.80      0.80       300\n",
            "weighted avg       0.80      0.80      0.80       300\n",
            "\n",
            "\n",
            "Model: GaussianNB\n",
            "F1: 0.7331378299120234\n",
            "Classification Report:\n",
            "              precision    recall  f1-score   support\n",
            "\n",
            "           0       0.79      0.55      0.65       152\n",
            "           1       0.65      0.84      0.73       148\n",
            "\n",
            "    accuracy                           0.70       300\n",
            "   macro avg       0.72      0.70      0.69       300\n",
            "weighted avg       0.72      0.70      0.69       300\n",
            "\n",
            "\n",
            "Model: SVC\n",
            "F1: 0.8080808080808082\n",
            "Classification Report:\n",
            "              precision    recall  f1-score   support\n",
            "\n",
            "           0       0.81      0.81      0.81       152\n",
            "           1       0.81      0.81      0.81       148\n",
            "\n",
            "    accuracy                           0.81       300\n",
            "   macro avg       0.81      0.81      0.81       300\n",
            "weighted avg       0.81      0.81      0.81       300\n",
            "\n",
            "\n",
            "Model: LogisticRegression\n",
            "F1: 0.8\n",
            "Classification Report:\n",
            "              precision    recall  f1-score   support\n",
            "\n",
            "           0       0.81      0.79      0.80       152\n",
            "           1       0.79      0.81      0.80       148\n",
            "\n",
            "    accuracy                           0.80       300\n",
            "   macro avg       0.80      0.80      0.80       300\n",
            "weighted avg       0.80      0.80      0.80       300\n",
            "\n",
            "\n"
          ]
        }
      ]
    },
    {
      "cell_type": "code",
      "source": [],
      "metadata": {
        "id": "SSBerWKGjVO3"
      },
      "execution_count": null,
      "outputs": []
    }
  ]
}