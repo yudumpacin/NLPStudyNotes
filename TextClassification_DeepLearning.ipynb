{
  "cells": [
    {
      "cell_type": "markdown",
      "metadata": {
        "id": "view-in-github",
        "colab_type": "text"
      },
      "source": [
        "<a href=\"https://colab.research.google.com/github/yudumpacin/NLPStudyNotes/blob/main/TextClassification_DeepLearning.ipynb\" target=\"_parent\"><img src=\"https://colab.research.google.com/assets/colab-badge.svg\" alt=\"Open In Colab\"/></a>"
      ]
    },
    {
      "cell_type": "markdown",
      "metadata": {
        "id": "_9LPmByQgphN"
      },
      "source": [
        "# Turkish Text Classification with Deep Learning"
      ]
    },
    {
      "cell_type": "code",
      "execution_count": 51,
      "metadata": {
        "id": "kF1uKVhYgwrG"
      },
      "outputs": [],
      "source": [
        "import tensorflow as tf"
      ]
    },
    {
      "cell_type": "code",
      "execution_count": 52,
      "metadata": {
        "id": "8TmYr1_rgxOg"
      },
      "outputs": [],
      "source": [
        "import numpy as np\n",
        "import pandas as pd\n",
        "import matplotlib.pyplot as plt\n",
        "from sklearn.model_selection import train_test_split"
      ]
    },
    {
      "cell_type": "code",
      "execution_count": 53,
      "metadata": {
        "id": "M3D2SOMtvw02"
      },
      "outputs": [],
      "source": [
        "from tensorflow import keras"
      ]
    },
    {
      "cell_type": "code",
      "execution_count": 115,
      "metadata": {
        "id": "p699ag76gxSG"
      },
      "outputs": [],
      "source": [
        "from keras.preprocessing.text import Tokenizer\n",
        "from keras.preprocessing.sequence import pad_sequences\n",
        "from keras.layers import (\n",
        "    Dense,Input,MaxPooling1D,Conv1D, GlobalMaxPool1D, GlobalMaxPooling1D,GlobalAveragePooling1D ,Embedding,Dense, Input\n",
        ")\n",
        "from keras.models import Model\n",
        "from keras.layers import Flatten\n",
        "from keras.layers import  GRU\n",
        "from keras.layers import LSTM, Bidirectional\n",
        "from keras.layers import Dropout"
      ]
    },
    {
      "cell_type": "markdown",
      "metadata": {
        "id": "84sgFmTtGS0X"
      },
      "source": [
        "# Getting the Kaggle Data"
      ]
    },
    {
      "cell_type": "markdown",
      "metadata": {
        "id": "GHIzQBCqGmb7"
      },
      "source": [
        "Data source is A Benchmark Data for Turkish Text Categorization on Kaggle https://www.kaggle.com/datasets/savasy/ttc4900"
      ]
    },
    {
      "cell_type": "code",
      "execution_count": 55,
      "metadata": {
        "id": "x0AlpL18gxVm"
      },
      "outputs": [],
      "source": [
        "!pip install -q kaggle"
      ]
    },
    {
      "cell_type": "code",
      "execution_count": 56,
      "metadata": {
        "id": "EEMybVPoYPQg"
      },
      "outputs": [],
      "source": [
        "!mkdir -p ~/.kaggle"
      ]
    },
    {
      "cell_type": "code",
      "execution_count": 57,
      "metadata": {
        "id": "PTtxb7puYPTx"
      },
      "outputs": [],
      "source": [
        "!cp kaggle.json ~/.kaggle"
      ]
    },
    {
      "cell_type": "code",
      "execution_count": 58,
      "metadata": {
        "id": "1Vi8_G9MYPWm"
      },
      "outputs": [],
      "source": [
        "!chmod 600 /root/.kaggle/kaggle.json"
      ]
    },
    {
      "cell_type": "code",
      "execution_count": 59,
      "metadata": {
        "colab": {
          "base_uri": "https://localhost:8080/"
        },
        "id": "b227yLmUYPZE",
        "outputId": "22b8323f-0a37-4a53-cf83-20ec5078ddd9"
      },
      "outputs": [
        {
          "output_type": "stream",
          "name": "stdout",
          "text": [
            "ttc4900.zip: Skipping, found more recently modified local copy (use --force to force download)\n"
          ]
        }
      ],
      "source": [
        "!kaggle datasets download -d savasy/ttc4900"
      ]
    },
    {
      "cell_type": "code",
      "execution_count": 60,
      "metadata": {
        "colab": {
          "base_uri": "https://localhost:8080/"
        },
        "id": "F7-y6UneYPcC",
        "outputId": "8b8b8443-0598-459d-fe47-e31832bcf721"
      },
      "outputs": [
        {
          "output_type": "stream",
          "name": "stdout",
          "text": [
            "Archive:  /content/ttc4900.zip\n",
            "replace 7allV03.csv? [y]es, [n]o, [A]ll, [N]one, [r]ename: n\n"
          ]
        }
      ],
      "source": [
        "!unzip /content/ttc4900"
      ]
    },
    {
      "cell_type": "code",
      "execution_count": 61,
      "metadata": {
        "id": "NR3K_gcQYPfi"
      },
      "outputs": [],
      "source": [
        "df = pd.read_csv(\"/content/7allV03.csv\")"
      ]
    },
    {
      "cell_type": "code",
      "execution_count": 62,
      "metadata": {
        "colab": {
          "base_uri": "https://localhost:8080/",
          "height": 206
        },
        "id": "D86IrN4pgxYk",
        "outputId": "bde8c348-51e7-45e9-b1e0-de2fdde26503"
      },
      "outputs": [
        {
          "output_type": "execute_result",
          "data": {
            "text/plain": [
              "   category                                               text\n",
              "0  siyaset    3 milyon ile ön seçim vaadi mhp nin 10 olağan...\n",
              "1  siyaset    mesut_yılmaz yüce_divan da ceza alabilirdi pr...\n",
              "2  siyaset    disko lar kaldırılıyor başbakan_yardımcısı ar...\n",
              "3  siyaset    sarıgül anayasa_mahkemesi ne gidiyor mustafa_...\n",
              "4  siyaset    erdoğan idamın bir haklılık sebebi var demek ..."
            ],
            "text/html": [
              "\n",
              "  <div id=\"df-22f25909-7855-4684-a85f-2992a9e75572\" class=\"colab-df-container\">\n",
              "    <div>\n",
              "<style scoped>\n",
              "    .dataframe tbody tr th:only-of-type {\n",
              "        vertical-align: middle;\n",
              "    }\n",
              "\n",
              "    .dataframe tbody tr th {\n",
              "        vertical-align: top;\n",
              "    }\n",
              "\n",
              "    .dataframe thead th {\n",
              "        text-align: right;\n",
              "    }\n",
              "</style>\n",
              "<table border=\"1\" class=\"dataframe\">\n",
              "  <thead>\n",
              "    <tr style=\"text-align: right;\">\n",
              "      <th></th>\n",
              "      <th>category</th>\n",
              "      <th>text</th>\n",
              "    </tr>\n",
              "  </thead>\n",
              "  <tbody>\n",
              "    <tr>\n",
              "      <th>0</th>\n",
              "      <td>siyaset</td>\n",
              "      <td>3 milyon ile ön seçim vaadi mhp nin 10 olağan...</td>\n",
              "    </tr>\n",
              "    <tr>\n",
              "      <th>1</th>\n",
              "      <td>siyaset</td>\n",
              "      <td>mesut_yılmaz yüce_divan da ceza alabilirdi pr...</td>\n",
              "    </tr>\n",
              "    <tr>\n",
              "      <th>2</th>\n",
              "      <td>siyaset</td>\n",
              "      <td>disko lar kaldırılıyor başbakan_yardımcısı ar...</td>\n",
              "    </tr>\n",
              "    <tr>\n",
              "      <th>3</th>\n",
              "      <td>siyaset</td>\n",
              "      <td>sarıgül anayasa_mahkemesi ne gidiyor mustafa_...</td>\n",
              "    </tr>\n",
              "    <tr>\n",
              "      <th>4</th>\n",
              "      <td>siyaset</td>\n",
              "      <td>erdoğan idamın bir haklılık sebebi var demek ...</td>\n",
              "    </tr>\n",
              "  </tbody>\n",
              "</table>\n",
              "</div>\n",
              "    <div class=\"colab-df-buttons\">\n",
              "\n",
              "  <div class=\"colab-df-container\">\n",
              "    <button class=\"colab-df-convert\" onclick=\"convertToInteractive('df-22f25909-7855-4684-a85f-2992a9e75572')\"\n",
              "            title=\"Convert this dataframe to an interactive table.\"\n",
              "            style=\"display:none;\">\n",
              "\n",
              "  <svg xmlns=\"http://www.w3.org/2000/svg\" height=\"24px\" viewBox=\"0 -960 960 960\">\n",
              "    <path d=\"M120-120v-720h720v720H120Zm60-500h600v-160H180v160Zm220 220h160v-160H400v160Zm0 220h160v-160H400v160ZM180-400h160v-160H180v160Zm440 0h160v-160H620v160ZM180-180h160v-160H180v160Zm440 0h160v-160H620v160Z\"/>\n",
              "  </svg>\n",
              "    </button>\n",
              "\n",
              "  <style>\n",
              "    .colab-df-container {\n",
              "      display:flex;\n",
              "      gap: 12px;\n",
              "    }\n",
              "\n",
              "    .colab-df-convert {\n",
              "      background-color: #E8F0FE;\n",
              "      border: none;\n",
              "      border-radius: 50%;\n",
              "      cursor: pointer;\n",
              "      display: none;\n",
              "      fill: #1967D2;\n",
              "      height: 32px;\n",
              "      padding: 0 0 0 0;\n",
              "      width: 32px;\n",
              "    }\n",
              "\n",
              "    .colab-df-convert:hover {\n",
              "      background-color: #E2EBFA;\n",
              "      box-shadow: 0px 1px 2px rgba(60, 64, 67, 0.3), 0px 1px 3px 1px rgba(60, 64, 67, 0.15);\n",
              "      fill: #174EA6;\n",
              "    }\n",
              "\n",
              "    .colab-df-buttons div {\n",
              "      margin-bottom: 4px;\n",
              "    }\n",
              "\n",
              "    [theme=dark] .colab-df-convert {\n",
              "      background-color: #3B4455;\n",
              "      fill: #D2E3FC;\n",
              "    }\n",
              "\n",
              "    [theme=dark] .colab-df-convert:hover {\n",
              "      background-color: #434B5C;\n",
              "      box-shadow: 0px 1px 3px 1px rgba(0, 0, 0, 0.15);\n",
              "      filter: drop-shadow(0px 1px 2px rgba(0, 0, 0, 0.3));\n",
              "      fill: #FFFFFF;\n",
              "    }\n",
              "  </style>\n",
              "\n",
              "    <script>\n",
              "      const buttonEl =\n",
              "        document.querySelector('#df-22f25909-7855-4684-a85f-2992a9e75572 button.colab-df-convert');\n",
              "      buttonEl.style.display =\n",
              "        google.colab.kernel.accessAllowed ? 'block' : 'none';\n",
              "\n",
              "      async function convertToInteractive(key) {\n",
              "        const element = document.querySelector('#df-22f25909-7855-4684-a85f-2992a9e75572');\n",
              "        const dataTable =\n",
              "          await google.colab.kernel.invokeFunction('convertToInteractive',\n",
              "                                                    [key], {});\n",
              "        if (!dataTable) return;\n",
              "\n",
              "        const docLinkHtml = 'Like what you see? Visit the ' +\n",
              "          '<a target=\"_blank\" href=https://colab.research.google.com/notebooks/data_table.ipynb>data table notebook</a>'\n",
              "          + ' to learn more about interactive tables.';\n",
              "        element.innerHTML = '';\n",
              "        dataTable['output_type'] = 'display_data';\n",
              "        await google.colab.output.renderOutput(dataTable, element);\n",
              "        const docLink = document.createElement('div');\n",
              "        docLink.innerHTML = docLinkHtml;\n",
              "        element.appendChild(docLink);\n",
              "      }\n",
              "    </script>\n",
              "  </div>\n",
              "\n",
              "\n",
              "<div id=\"df-9b97bfb9-cce1-475c-ae1a-66c15bf65b53\">\n",
              "  <button class=\"colab-df-quickchart\" onclick=\"quickchart('df-9b97bfb9-cce1-475c-ae1a-66c15bf65b53')\"\n",
              "            title=\"Suggest charts\"\n",
              "            style=\"display:none;\">\n",
              "\n",
              "<svg xmlns=\"http://www.w3.org/2000/svg\" height=\"24px\"viewBox=\"0 0 24 24\"\n",
              "     width=\"24px\">\n",
              "    <g>\n",
              "        <path d=\"M19 3H5c-1.1 0-2 .9-2 2v14c0 1.1.9 2 2 2h14c1.1 0 2-.9 2-2V5c0-1.1-.9-2-2-2zM9 17H7v-7h2v7zm4 0h-2V7h2v10zm4 0h-2v-4h2v4z\"/>\n",
              "    </g>\n",
              "</svg>\n",
              "  </button>\n",
              "\n",
              "<style>\n",
              "  .colab-df-quickchart {\n",
              "      --bg-color: #E8F0FE;\n",
              "      --fill-color: #1967D2;\n",
              "      --hover-bg-color: #E2EBFA;\n",
              "      --hover-fill-color: #174EA6;\n",
              "      --disabled-fill-color: #AAA;\n",
              "      --disabled-bg-color: #DDD;\n",
              "  }\n",
              "\n",
              "  [theme=dark] .colab-df-quickchart {\n",
              "      --bg-color: #3B4455;\n",
              "      --fill-color: #D2E3FC;\n",
              "      --hover-bg-color: #434B5C;\n",
              "      --hover-fill-color: #FFFFFF;\n",
              "      --disabled-bg-color: #3B4455;\n",
              "      --disabled-fill-color: #666;\n",
              "  }\n",
              "\n",
              "  .colab-df-quickchart {\n",
              "    background-color: var(--bg-color);\n",
              "    border: none;\n",
              "    border-radius: 50%;\n",
              "    cursor: pointer;\n",
              "    display: none;\n",
              "    fill: var(--fill-color);\n",
              "    height: 32px;\n",
              "    padding: 0;\n",
              "    width: 32px;\n",
              "  }\n",
              "\n",
              "  .colab-df-quickchart:hover {\n",
              "    background-color: var(--hover-bg-color);\n",
              "    box-shadow: 0 1px 2px rgba(60, 64, 67, 0.3), 0 1px 3px 1px rgba(60, 64, 67, 0.15);\n",
              "    fill: var(--button-hover-fill-color);\n",
              "  }\n",
              "\n",
              "  .colab-df-quickchart-complete:disabled,\n",
              "  .colab-df-quickchart-complete:disabled:hover {\n",
              "    background-color: var(--disabled-bg-color);\n",
              "    fill: var(--disabled-fill-color);\n",
              "    box-shadow: none;\n",
              "  }\n",
              "\n",
              "  .colab-df-spinner {\n",
              "    border: 2px solid var(--fill-color);\n",
              "    border-color: transparent;\n",
              "    border-bottom-color: var(--fill-color);\n",
              "    animation:\n",
              "      spin 1s steps(1) infinite;\n",
              "  }\n",
              "\n",
              "  @keyframes spin {\n",
              "    0% {\n",
              "      border-color: transparent;\n",
              "      border-bottom-color: var(--fill-color);\n",
              "      border-left-color: var(--fill-color);\n",
              "    }\n",
              "    20% {\n",
              "      border-color: transparent;\n",
              "      border-left-color: var(--fill-color);\n",
              "      border-top-color: var(--fill-color);\n",
              "    }\n",
              "    30% {\n",
              "      border-color: transparent;\n",
              "      border-left-color: var(--fill-color);\n",
              "      border-top-color: var(--fill-color);\n",
              "      border-right-color: var(--fill-color);\n",
              "    }\n",
              "    40% {\n",
              "      border-color: transparent;\n",
              "      border-right-color: var(--fill-color);\n",
              "      border-top-color: var(--fill-color);\n",
              "    }\n",
              "    60% {\n",
              "      border-color: transparent;\n",
              "      border-right-color: var(--fill-color);\n",
              "    }\n",
              "    80% {\n",
              "      border-color: transparent;\n",
              "      border-right-color: var(--fill-color);\n",
              "      border-bottom-color: var(--fill-color);\n",
              "    }\n",
              "    90% {\n",
              "      border-color: transparent;\n",
              "      border-bottom-color: var(--fill-color);\n",
              "    }\n",
              "  }\n",
              "</style>\n",
              "\n",
              "  <script>\n",
              "    async function quickchart(key) {\n",
              "      const quickchartButtonEl =\n",
              "        document.querySelector('#' + key + ' button');\n",
              "      quickchartButtonEl.disabled = true;  // To prevent multiple clicks.\n",
              "      quickchartButtonEl.classList.add('colab-df-spinner');\n",
              "      try {\n",
              "        const charts = await google.colab.kernel.invokeFunction(\n",
              "            'suggestCharts', [key], {});\n",
              "      } catch (error) {\n",
              "        console.error('Error during call to suggestCharts:', error);\n",
              "      }\n",
              "      quickchartButtonEl.classList.remove('colab-df-spinner');\n",
              "      quickchartButtonEl.classList.add('colab-df-quickchart-complete');\n",
              "    }\n",
              "    (() => {\n",
              "      let quickchartButtonEl =\n",
              "        document.querySelector('#df-9b97bfb9-cce1-475c-ae1a-66c15bf65b53 button');\n",
              "      quickchartButtonEl.style.display =\n",
              "        google.colab.kernel.accessAllowed ? 'block' : 'none';\n",
              "    })();\n",
              "  </script>\n",
              "</div>\n",
              "\n",
              "    </div>\n",
              "  </div>\n"
            ]
          },
          "metadata": {},
          "execution_count": 62
        }
      ],
      "source": [
        "df.head()"
      ]
    },
    {
      "cell_type": "code",
      "execution_count": 63,
      "metadata": {
        "colab": {
          "base_uri": "https://localhost:8080/"
        },
        "id": "HP4YvvrQIVJG",
        "outputId": "67967391-d51f-4373-fc27-66ff2fbc8bd5"
      },
      "outputs": [
        {
          "output_type": "execute_result",
          "data": {
            "text/plain": [
              "(4900, 2)"
            ]
          },
          "metadata": {},
          "execution_count": 63
        }
      ],
      "source": [
        "df.shape"
      ]
    },
    {
      "cell_type": "code",
      "execution_count": 64,
      "metadata": {
        "colab": {
          "base_uri": "https://localhost:8080/"
        },
        "id": "d0xdbO5GK6fV",
        "outputId": "6902f06c-7127-41d9-f5fe-34da1ff6f62f"
      },
      "outputs": [
        {
          "output_type": "execute_result",
          "data": {
            "text/plain": [
              "siyaset       700\n",
              "dunya         700\n",
              "ekonomi       700\n",
              "kultur        700\n",
              "saglik        700\n",
              "spor          700\n",
              "teknoloji     700\n",
              "Name: category, dtype: int64"
            ]
          },
          "metadata": {},
          "execution_count": 64
        }
      ],
      "source": [
        "df.category.value_counts()"
      ]
    },
    {
      "cell_type": "code",
      "execution_count": 65,
      "metadata": {
        "id": "QyJJ3qdUbHdM"
      },
      "outputs": [],
      "source": [
        "len_of_labels = len(np.unique(df.category))"
      ]
    },
    {
      "cell_type": "code",
      "execution_count": 66,
      "metadata": {
        "colab": {
          "base_uri": "https://localhost:8080/"
        },
        "id": "ZLubjrvxbOEk",
        "outputId": "106c8704-f215-498a-a660-3fc9602ff64d"
      },
      "outputs": [
        {
          "output_type": "execute_result",
          "data": {
            "text/plain": [
              "7"
            ]
          },
          "metadata": {},
          "execution_count": 66
        }
      ],
      "source": [
        "len_of_labels"
      ]
    },
    {
      "cell_type": "code",
      "execution_count": 67,
      "metadata": {
        "colab": {
          "base_uri": "https://localhost:8080/"
        },
        "id": "ypdD24NWN9pi",
        "outputId": "8f0a4209-ebcd-4b84-b210-020cf623862e"
      },
      "outputs": [
        {
          "output_type": "stream",
          "name": "stderr",
          "text": [
            "[nltk_data] Downloading package stopwords to /root/nltk_data...\n",
            "[nltk_data]   Package stopwords is already up-to-date!\n"
          ]
        }
      ],
      "source": [
        "import nltk\n",
        "nltk.download('stopwords')\n",
        "from nltk.corpus import stopwords\n",
        "import re\n",
        "\n",
        "stop_words = set(stopwords.words('turkish'))"
      ]
    },
    {
      "cell_type": "code",
      "execution_count": 68,
      "metadata": {
        "id": "-yIW8rtXCvxE"
      },
      "outputs": [],
      "source": [
        "def preprocess_for_training(text_data):\n",
        "  text_data = re.sub(\"[^a-zA-ZğüşöçıİĞÜŞÖÇ0-9.,;:!?'\\\" ]\",\" \",text_data)\n",
        "  text_data = ' '.join([word for word in text_data.split() if word not in stop_words])\n",
        "  return text_data"
      ]
    },
    {
      "cell_type": "code",
      "execution_count": 69,
      "metadata": {
        "id": "hWvyt7xQDTvI"
      },
      "outputs": [],
      "source": [
        "df[\"text\"]= df[\"text\"].apply(preprocess_for_training)"
      ]
    },
    {
      "cell_type": "code",
      "execution_count": 70,
      "metadata": {
        "id": "KtPYgHUGNtdl"
      },
      "outputs": [],
      "source": [
        "def preprocess_for_analysis(text):\n",
        "    text = text.lower()\n",
        "    text = re.sub(r'[^\\w\\s]', '', text)\n",
        "    text = ' '.join([word for word in text.split() if len(word)>1])\n",
        "    return text"
      ]
    },
    {
      "cell_type": "code",
      "execution_count": 71,
      "metadata": {
        "id": "hwipcYK6NvIz"
      },
      "outputs": [],
      "source": [
        "df[\"preprocessed\"]= df[\"text\"].apply(preprocess_for_analysis)"
      ]
    },
    {
      "cell_type": "code",
      "execution_count": 72,
      "metadata": {
        "colab": {
          "base_uri": "https://localhost:8080/"
        },
        "id": "BuNQ9G-PZUO_",
        "outputId": "421cce59-b364-443b-deba-e6585b421540"
      },
      "outputs": [
        {
          "output_type": "stream",
          "name": "stdout",
          "text": [
            "siyaset \n",
            "dunya \n",
            "ekonomi \n",
            "kultur \n",
            "saglik \n",
            "spor \n",
            "teknoloji \n"
          ]
        }
      ],
      "source": [
        "for i in df.category.value_counts().index:\n",
        "  print(i)"
      ]
    },
    {
      "cell_type": "code",
      "execution_count": 73,
      "metadata": {
        "colab": {
          "base_uri": "https://localhost:8080/"
        },
        "id": "5KEk2wcsLcds",
        "outputId": "1cff3162-d41a-4c6c-cd77-f6390ba8e1b9"
      },
      "outputs": [
        {
          "output_type": "stream",
          "name": "stdout",
          "text": [
            "Most common words in siyaset   : [('bir', 4613), ('türkiye', 1491), ('nin', 1357), ('ın', 1108), ('başbakan', 1082), ('erdoğan', 963), ('olarak', 944), ('chp', 920), ('dedi', 907), ('genel', 783)]\n",
            "Most common words in dunya   : [('bir', 1913), ('nin', 1010), ('israil', 795), ('türkiye', 694), ('suriye', 665), ('ın', 649), ('in', 605), ('nın', 574), ('olarak', 469), ('abd', 415)]\n",
            "Most common words in ekonomi   : [('bir', 2845), ('türkiye', 1716), ('yüzde', 1622), ('milyon', 1096), ('nin', 1073), ('olarak', 929), ('bin', 861), ('milyar', 764), ('göre', 639), ('olan', 634)]\n",
            "Most common words in kultur   : [('bir', 3189), ('in', 744), ('ın', 696), ('olan', 662), ('film', 642), ('nin', 624), ('olarak', 622), ('istanbul', 613), ('ilk', 556), ('türkiye', 549)]\n",
            "Most common words in saglik   : [('bir', 3378), ('dr', 1152), ('olarak', 1005), ('olan', 836), ('olduğunu', 820), ('sağlık', 667), ('kalp', 593), ('tedavi', 570), ('önemli', 533), ('dedi', 480)]\n",
            "Most common words in spor   : [('bir', 1904), ('ilk', 561), ('ın', 551), ('iyi', 470), ('galatasaray', 467), ('son', 456), ('türkiye', 443), ('takım', 413), ('spor', 411), ('in', 408)]\n",
            "Most common words in teknoloji   : [('bir', 2663), ('olarak', 689), ('yeni', 662), ('türkiye', 617), ('olan', 577), ('internet', 550), ('ın', 461), ('nin', 458), ('ilk', 401), ('google', 400)]\n"
          ]
        }
      ],
      "source": [
        "from collections import Counter\n",
        "for i in df.category.value_counts().index:\n",
        "  data = df[df.category==i][\"preprocessed\"]\n",
        "  word_count = Counter(\" \".join(data).split())\n",
        "  most_common= word_count.most_common(10)\n",
        "  print(\"Most common words in\",i,\" :\", most_common)\n"
      ]
    },
    {
      "cell_type": "code",
      "execution_count": 74,
      "metadata": {
        "id": "6XdaivW1doR_"
      },
      "outputs": [],
      "source": [
        "target = pd.get_dummies(df.category)"
      ]
    },
    {
      "cell_type": "code",
      "execution_count": 75,
      "metadata": {
        "colab": {
          "base_uri": "https://localhost:8080/",
          "height": 423
        },
        "id": "y_0qFDw5dh1l",
        "outputId": "b9d96e72-191c-4deb-9a94-3a5ac7eff61f"
      },
      "outputs": [
        {
          "output_type": "execute_result",
          "data": {
            "text/plain": [
              "      dunya   ekonomi   kultur   saglik   siyaset   spor   teknoloji \n",
              "0          0         0        0        0         1      0           0\n",
              "1          0         0        0        0         1      0           0\n",
              "2          0         0        0        0         1      0           0\n",
              "3          0         0        0        0         1      0           0\n",
              "4          0         0        0        0         1      0           0\n",
              "...      ...       ...      ...      ...       ...    ...         ...\n",
              "4895       0         0        0        0         0      0           1\n",
              "4896       0         0        0        0         0      0           1\n",
              "4897       0         0        0        0         0      0           1\n",
              "4898       0         0        0        0         0      0           1\n",
              "4899       0         0        0        0         0      0           1\n",
              "\n",
              "[4900 rows x 7 columns]"
            ],
            "text/html": [
              "\n",
              "  <div id=\"df-7706c090-9dc9-47b7-8ee7-cae292674786\" class=\"colab-df-container\">\n",
              "    <div>\n",
              "<style scoped>\n",
              "    .dataframe tbody tr th:only-of-type {\n",
              "        vertical-align: middle;\n",
              "    }\n",
              "\n",
              "    .dataframe tbody tr th {\n",
              "        vertical-align: top;\n",
              "    }\n",
              "\n",
              "    .dataframe thead th {\n",
              "        text-align: right;\n",
              "    }\n",
              "</style>\n",
              "<table border=\"1\" class=\"dataframe\">\n",
              "  <thead>\n",
              "    <tr style=\"text-align: right;\">\n",
              "      <th></th>\n",
              "      <th>dunya</th>\n",
              "      <th>ekonomi</th>\n",
              "      <th>kultur</th>\n",
              "      <th>saglik</th>\n",
              "      <th>siyaset</th>\n",
              "      <th>spor</th>\n",
              "      <th>teknoloji</th>\n",
              "    </tr>\n",
              "  </thead>\n",
              "  <tbody>\n",
              "    <tr>\n",
              "      <th>0</th>\n",
              "      <td>0</td>\n",
              "      <td>0</td>\n",
              "      <td>0</td>\n",
              "      <td>0</td>\n",
              "      <td>1</td>\n",
              "      <td>0</td>\n",
              "      <td>0</td>\n",
              "    </tr>\n",
              "    <tr>\n",
              "      <th>1</th>\n",
              "      <td>0</td>\n",
              "      <td>0</td>\n",
              "      <td>0</td>\n",
              "      <td>0</td>\n",
              "      <td>1</td>\n",
              "      <td>0</td>\n",
              "      <td>0</td>\n",
              "    </tr>\n",
              "    <tr>\n",
              "      <th>2</th>\n",
              "      <td>0</td>\n",
              "      <td>0</td>\n",
              "      <td>0</td>\n",
              "      <td>0</td>\n",
              "      <td>1</td>\n",
              "      <td>0</td>\n",
              "      <td>0</td>\n",
              "    </tr>\n",
              "    <tr>\n",
              "      <th>3</th>\n",
              "      <td>0</td>\n",
              "      <td>0</td>\n",
              "      <td>0</td>\n",
              "      <td>0</td>\n",
              "      <td>1</td>\n",
              "      <td>0</td>\n",
              "      <td>0</td>\n",
              "    </tr>\n",
              "    <tr>\n",
              "      <th>4</th>\n",
              "      <td>0</td>\n",
              "      <td>0</td>\n",
              "      <td>0</td>\n",
              "      <td>0</td>\n",
              "      <td>1</td>\n",
              "      <td>0</td>\n",
              "      <td>0</td>\n",
              "    </tr>\n",
              "    <tr>\n",
              "      <th>...</th>\n",
              "      <td>...</td>\n",
              "      <td>...</td>\n",
              "      <td>...</td>\n",
              "      <td>...</td>\n",
              "      <td>...</td>\n",
              "      <td>...</td>\n",
              "      <td>...</td>\n",
              "    </tr>\n",
              "    <tr>\n",
              "      <th>4895</th>\n",
              "      <td>0</td>\n",
              "      <td>0</td>\n",
              "      <td>0</td>\n",
              "      <td>0</td>\n",
              "      <td>0</td>\n",
              "      <td>0</td>\n",
              "      <td>1</td>\n",
              "    </tr>\n",
              "    <tr>\n",
              "      <th>4896</th>\n",
              "      <td>0</td>\n",
              "      <td>0</td>\n",
              "      <td>0</td>\n",
              "      <td>0</td>\n",
              "      <td>0</td>\n",
              "      <td>0</td>\n",
              "      <td>1</td>\n",
              "    </tr>\n",
              "    <tr>\n",
              "      <th>4897</th>\n",
              "      <td>0</td>\n",
              "      <td>0</td>\n",
              "      <td>0</td>\n",
              "      <td>0</td>\n",
              "      <td>0</td>\n",
              "      <td>0</td>\n",
              "      <td>1</td>\n",
              "    </tr>\n",
              "    <tr>\n",
              "      <th>4898</th>\n",
              "      <td>0</td>\n",
              "      <td>0</td>\n",
              "      <td>0</td>\n",
              "      <td>0</td>\n",
              "      <td>0</td>\n",
              "      <td>0</td>\n",
              "      <td>1</td>\n",
              "    </tr>\n",
              "    <tr>\n",
              "      <th>4899</th>\n",
              "      <td>0</td>\n",
              "      <td>0</td>\n",
              "      <td>0</td>\n",
              "      <td>0</td>\n",
              "      <td>0</td>\n",
              "      <td>0</td>\n",
              "      <td>1</td>\n",
              "    </tr>\n",
              "  </tbody>\n",
              "</table>\n",
              "<p>4900 rows × 7 columns</p>\n",
              "</div>\n",
              "    <div class=\"colab-df-buttons\">\n",
              "\n",
              "  <div class=\"colab-df-container\">\n",
              "    <button class=\"colab-df-convert\" onclick=\"convertToInteractive('df-7706c090-9dc9-47b7-8ee7-cae292674786')\"\n",
              "            title=\"Convert this dataframe to an interactive table.\"\n",
              "            style=\"display:none;\">\n",
              "\n",
              "  <svg xmlns=\"http://www.w3.org/2000/svg\" height=\"24px\" viewBox=\"0 -960 960 960\">\n",
              "    <path d=\"M120-120v-720h720v720H120Zm60-500h600v-160H180v160Zm220 220h160v-160H400v160Zm0 220h160v-160H400v160ZM180-400h160v-160H180v160Zm440 0h160v-160H620v160ZM180-180h160v-160H180v160Zm440 0h160v-160H620v160Z\"/>\n",
              "  </svg>\n",
              "    </button>\n",
              "\n",
              "  <style>\n",
              "    .colab-df-container {\n",
              "      display:flex;\n",
              "      gap: 12px;\n",
              "    }\n",
              "\n",
              "    .colab-df-convert {\n",
              "      background-color: #E8F0FE;\n",
              "      border: none;\n",
              "      border-radius: 50%;\n",
              "      cursor: pointer;\n",
              "      display: none;\n",
              "      fill: #1967D2;\n",
              "      height: 32px;\n",
              "      padding: 0 0 0 0;\n",
              "      width: 32px;\n",
              "    }\n",
              "\n",
              "    .colab-df-convert:hover {\n",
              "      background-color: #E2EBFA;\n",
              "      box-shadow: 0px 1px 2px rgba(60, 64, 67, 0.3), 0px 1px 3px 1px rgba(60, 64, 67, 0.15);\n",
              "      fill: #174EA6;\n",
              "    }\n",
              "\n",
              "    .colab-df-buttons div {\n",
              "      margin-bottom: 4px;\n",
              "    }\n",
              "\n",
              "    [theme=dark] .colab-df-convert {\n",
              "      background-color: #3B4455;\n",
              "      fill: #D2E3FC;\n",
              "    }\n",
              "\n",
              "    [theme=dark] .colab-df-convert:hover {\n",
              "      background-color: #434B5C;\n",
              "      box-shadow: 0px 1px 3px 1px rgba(0, 0, 0, 0.15);\n",
              "      filter: drop-shadow(0px 1px 2px rgba(0, 0, 0, 0.3));\n",
              "      fill: #FFFFFF;\n",
              "    }\n",
              "  </style>\n",
              "\n",
              "    <script>\n",
              "      const buttonEl =\n",
              "        document.querySelector('#df-7706c090-9dc9-47b7-8ee7-cae292674786 button.colab-df-convert');\n",
              "      buttonEl.style.display =\n",
              "        google.colab.kernel.accessAllowed ? 'block' : 'none';\n",
              "\n",
              "      async function convertToInteractive(key) {\n",
              "        const element = document.querySelector('#df-7706c090-9dc9-47b7-8ee7-cae292674786');\n",
              "        const dataTable =\n",
              "          await google.colab.kernel.invokeFunction('convertToInteractive',\n",
              "                                                    [key], {});\n",
              "        if (!dataTable) return;\n",
              "\n",
              "        const docLinkHtml = 'Like what you see? Visit the ' +\n",
              "          '<a target=\"_blank\" href=https://colab.research.google.com/notebooks/data_table.ipynb>data table notebook</a>'\n",
              "          + ' to learn more about interactive tables.';\n",
              "        element.innerHTML = '';\n",
              "        dataTable['output_type'] = 'display_data';\n",
              "        await google.colab.output.renderOutput(dataTable, element);\n",
              "        const docLink = document.createElement('div');\n",
              "        docLink.innerHTML = docLinkHtml;\n",
              "        element.appendChild(docLink);\n",
              "      }\n",
              "    </script>\n",
              "  </div>\n",
              "\n",
              "\n",
              "<div id=\"df-d194db2d-4be2-45bf-8401-04bc0b4b1626\">\n",
              "  <button class=\"colab-df-quickchart\" onclick=\"quickchart('df-d194db2d-4be2-45bf-8401-04bc0b4b1626')\"\n",
              "            title=\"Suggest charts\"\n",
              "            style=\"display:none;\">\n",
              "\n",
              "<svg xmlns=\"http://www.w3.org/2000/svg\" height=\"24px\"viewBox=\"0 0 24 24\"\n",
              "     width=\"24px\">\n",
              "    <g>\n",
              "        <path d=\"M19 3H5c-1.1 0-2 .9-2 2v14c0 1.1.9 2 2 2h14c1.1 0 2-.9 2-2V5c0-1.1-.9-2-2-2zM9 17H7v-7h2v7zm4 0h-2V7h2v10zm4 0h-2v-4h2v4z\"/>\n",
              "    </g>\n",
              "</svg>\n",
              "  </button>\n",
              "\n",
              "<style>\n",
              "  .colab-df-quickchart {\n",
              "      --bg-color: #E8F0FE;\n",
              "      --fill-color: #1967D2;\n",
              "      --hover-bg-color: #E2EBFA;\n",
              "      --hover-fill-color: #174EA6;\n",
              "      --disabled-fill-color: #AAA;\n",
              "      --disabled-bg-color: #DDD;\n",
              "  }\n",
              "\n",
              "  [theme=dark] .colab-df-quickchart {\n",
              "      --bg-color: #3B4455;\n",
              "      --fill-color: #D2E3FC;\n",
              "      --hover-bg-color: #434B5C;\n",
              "      --hover-fill-color: #FFFFFF;\n",
              "      --disabled-bg-color: #3B4455;\n",
              "      --disabled-fill-color: #666;\n",
              "  }\n",
              "\n",
              "  .colab-df-quickchart {\n",
              "    background-color: var(--bg-color);\n",
              "    border: none;\n",
              "    border-radius: 50%;\n",
              "    cursor: pointer;\n",
              "    display: none;\n",
              "    fill: var(--fill-color);\n",
              "    height: 32px;\n",
              "    padding: 0;\n",
              "    width: 32px;\n",
              "  }\n",
              "\n",
              "  .colab-df-quickchart:hover {\n",
              "    background-color: var(--hover-bg-color);\n",
              "    box-shadow: 0 1px 2px rgba(60, 64, 67, 0.3), 0 1px 3px 1px rgba(60, 64, 67, 0.15);\n",
              "    fill: var(--button-hover-fill-color);\n",
              "  }\n",
              "\n",
              "  .colab-df-quickchart-complete:disabled,\n",
              "  .colab-df-quickchart-complete:disabled:hover {\n",
              "    background-color: var(--disabled-bg-color);\n",
              "    fill: var(--disabled-fill-color);\n",
              "    box-shadow: none;\n",
              "  }\n",
              "\n",
              "  .colab-df-spinner {\n",
              "    border: 2px solid var(--fill-color);\n",
              "    border-color: transparent;\n",
              "    border-bottom-color: var(--fill-color);\n",
              "    animation:\n",
              "      spin 1s steps(1) infinite;\n",
              "  }\n",
              "\n",
              "  @keyframes spin {\n",
              "    0% {\n",
              "      border-color: transparent;\n",
              "      border-bottom-color: var(--fill-color);\n",
              "      border-left-color: var(--fill-color);\n",
              "    }\n",
              "    20% {\n",
              "      border-color: transparent;\n",
              "      border-left-color: var(--fill-color);\n",
              "      border-top-color: var(--fill-color);\n",
              "    }\n",
              "    30% {\n",
              "      border-color: transparent;\n",
              "      border-left-color: var(--fill-color);\n",
              "      border-top-color: var(--fill-color);\n",
              "      border-right-color: var(--fill-color);\n",
              "    }\n",
              "    40% {\n",
              "      border-color: transparent;\n",
              "      border-right-color: var(--fill-color);\n",
              "      border-top-color: var(--fill-color);\n",
              "    }\n",
              "    60% {\n",
              "      border-color: transparent;\n",
              "      border-right-color: var(--fill-color);\n",
              "    }\n",
              "    80% {\n",
              "      border-color: transparent;\n",
              "      border-right-color: var(--fill-color);\n",
              "      border-bottom-color: var(--fill-color);\n",
              "    }\n",
              "    90% {\n",
              "      border-color: transparent;\n",
              "      border-bottom-color: var(--fill-color);\n",
              "    }\n",
              "  }\n",
              "</style>\n",
              "\n",
              "  <script>\n",
              "    async function quickchart(key) {\n",
              "      const quickchartButtonEl =\n",
              "        document.querySelector('#' + key + ' button');\n",
              "      quickchartButtonEl.disabled = true;  // To prevent multiple clicks.\n",
              "      quickchartButtonEl.classList.add('colab-df-spinner');\n",
              "      try {\n",
              "        const charts = await google.colab.kernel.invokeFunction(\n",
              "            'suggestCharts', [key], {});\n",
              "      } catch (error) {\n",
              "        console.error('Error during call to suggestCharts:', error);\n",
              "      }\n",
              "      quickchartButtonEl.classList.remove('colab-df-spinner');\n",
              "      quickchartButtonEl.classList.add('colab-df-quickchart-complete');\n",
              "    }\n",
              "    (() => {\n",
              "      let quickchartButtonEl =\n",
              "        document.querySelector('#df-d194db2d-4be2-45bf-8401-04bc0b4b1626 button');\n",
              "      quickchartButtonEl.style.display =\n",
              "        google.colab.kernel.accessAllowed ? 'block' : 'none';\n",
              "    })();\n",
              "  </script>\n",
              "</div>\n",
              "\n",
              "  <div id=\"id_745928b0-2b4a-4c87-9965-a2d9ac48e434\">\n",
              "    <style>\n",
              "      .colab-df-generate {\n",
              "        background-color: #E8F0FE;\n",
              "        border: none;\n",
              "        border-radius: 50%;\n",
              "        cursor: pointer;\n",
              "        display: none;\n",
              "        fill: #1967D2;\n",
              "        height: 32px;\n",
              "        padding: 0 0 0 0;\n",
              "        width: 32px;\n",
              "      }\n",
              "\n",
              "      .colab-df-generate:hover {\n",
              "        background-color: #E2EBFA;\n",
              "        box-shadow: 0px 1px 2px rgba(60, 64, 67, 0.3), 0px 1px 3px 1px rgba(60, 64, 67, 0.15);\n",
              "        fill: #174EA6;\n",
              "      }\n",
              "\n",
              "      [theme=dark] .colab-df-generate {\n",
              "        background-color: #3B4455;\n",
              "        fill: #D2E3FC;\n",
              "      }\n",
              "\n",
              "      [theme=dark] .colab-df-generate:hover {\n",
              "        background-color: #434B5C;\n",
              "        box-shadow: 0px 1px 3px 1px rgba(0, 0, 0, 0.15);\n",
              "        filter: drop-shadow(0px 1px 2px rgba(0, 0, 0, 0.3));\n",
              "        fill: #FFFFFF;\n",
              "      }\n",
              "    </style>\n",
              "    <button class=\"colab-df-generate\" onclick=\"generateWithVariable('target')\"\n",
              "            title=\"Generate code using this dataframe.\"\n",
              "            style=\"display:none;\">\n",
              "\n",
              "  <svg xmlns=\"http://www.w3.org/2000/svg\" height=\"24px\"viewBox=\"0 0 24 24\"\n",
              "       width=\"24px\">\n",
              "    <path d=\"M7,19H8.4L18.45,9,17,7.55,7,17.6ZM5,21V16.75L18.45,3.32a2,2,0,0,1,2.83,0l1.4,1.43a1.91,1.91,0,0,1,.58,1.4,1.91,1.91,0,0,1-.58,1.4L9.25,21ZM18.45,9,17,7.55Zm-12,3A5.31,5.31,0,0,0,4.9,8.1,5.31,5.31,0,0,0,1,6.5,5.31,5.31,0,0,0,4.9,4.9,5.31,5.31,0,0,0,6.5,1,5.31,5.31,0,0,0,8.1,4.9,5.31,5.31,0,0,0,12,6.5,5.46,5.46,0,0,0,6.5,12Z\"/>\n",
              "  </svg>\n",
              "    </button>\n",
              "    <script>\n",
              "      (() => {\n",
              "      const buttonEl =\n",
              "        document.querySelector('#id_745928b0-2b4a-4c87-9965-a2d9ac48e434 button.colab-df-generate');\n",
              "      buttonEl.style.display =\n",
              "        google.colab.kernel.accessAllowed ? 'block' : 'none';\n",
              "\n",
              "      buttonEl.onclick = () => {\n",
              "        google.colab.notebook.generateWithVariable('target');\n",
              "      }\n",
              "      })();\n",
              "    </script>\n",
              "  </div>\n",
              "\n",
              "    </div>\n",
              "  </div>\n"
            ]
          },
          "metadata": {},
          "execution_count": 75
        }
      ],
      "source": [
        "target"
      ]
    },
    {
      "cell_type": "code",
      "execution_count": 76,
      "metadata": {
        "colab": {
          "base_uri": "https://localhost:8080/"
        },
        "id": "TpCQoYkCiLUV",
        "outputId": "860c127b-9c20-4cf5-ad0c-2881adacfd05"
      },
      "outputs": [
        {
          "output_type": "execute_result",
          "data": {
            "text/plain": [
              "(4900, 7)"
            ]
          },
          "metadata": {},
          "execution_count": 76
        }
      ],
      "source": [
        "target.shape"
      ]
    },
    {
      "cell_type": "code",
      "execution_count": 77,
      "metadata": {
        "id": "1qDAoI289XOb"
      },
      "outputs": [],
      "source": [
        "X_train,X_test,y_train,y_test = train_test_split(df[\"text\"],target, random_state=0,test_size=0.3)"
      ]
    },
    {
      "cell_type": "code",
      "execution_count": 78,
      "metadata": {
        "colab": {
          "base_uri": "https://localhost:8080/"
        },
        "id": "Ehy2ZGEGiPle",
        "outputId": "cde9ccc3-1dd5-45b6-94fd-6bab3c047e92"
      },
      "outputs": [
        {
          "output_type": "execute_result",
          "data": {
            "text/plain": [
              "(3430,)"
            ]
          },
          "metadata": {},
          "execution_count": 78
        }
      ],
      "source": [
        "X_train.shape"
      ]
    },
    {
      "cell_type": "code",
      "execution_count": 79,
      "metadata": {
        "colab": {
          "base_uri": "https://localhost:8080/"
        },
        "id": "6zb4a_E_iRyd",
        "outputId": "48a8bd92-e453-48ca-aa74-af96d27a6952"
      },
      "outputs": [
        {
          "output_type": "execute_result",
          "data": {
            "text/plain": [
              "(3430, 7)"
            ]
          },
          "metadata": {},
          "execution_count": 79
        }
      ],
      "source": [
        "y_train.shape"
      ]
    },
    {
      "cell_type": "code",
      "execution_count": 80,
      "metadata": {
        "colab": {
          "base_uri": "https://localhost:8080/"
        },
        "id": "_HYGUwmB9qNL",
        "outputId": "435e7aec-be85-45a2-93c4-83653bd653a7"
      },
      "outputs": [
        {
          "output_type": "execute_result",
          "data": {
            "text/plain": [
              "2241"
            ]
          },
          "metadata": {},
          "execution_count": 80
        }
      ],
      "source": [
        "max_num_words = max([len(x.split()) for x in df[\"text\"]])\n",
        "max_num_words"
      ]
    },
    {
      "cell_type": "code",
      "execution_count": 81,
      "metadata": {
        "id": "acegBNjP96HK"
      },
      "outputs": [],
      "source": [
        "max_vocab_size = 20000\n",
        "tokenizer = Tokenizer(num_words=max_vocab_size)\n",
        "tokenizer.fit_on_texts(X_train)\n",
        "sequences_train = tokenizer.texts_to_sequences(X_train)\n",
        "sequences_test = tokenizer.texts_to_sequences(X_test)"
      ]
    },
    {
      "cell_type": "code",
      "execution_count": 82,
      "metadata": {
        "colab": {
          "base_uri": "https://localhost:8080/",
          "height": 36
        },
        "id": "sYo_WMVu-upG",
        "outputId": "e27aa7a9-4d4e-4d49-b1ef-0339c0d4e28f"
      },
      "outputs": [
        {
          "output_type": "execute_result",
          "data": {
            "text/plain": [
              "'3 milyon ön seçim va'"
            ],
            "application/vnd.google.colaboratory.intrinsic+json": {
              "type": "string"
            }
          },
          "metadata": {},
          "execution_count": 82
        }
      ],
      "source": [
        "X_train[0][0:20]"
      ]
    },
    {
      "cell_type": "code",
      "execution_count": 83,
      "metadata": {
        "colab": {
          "base_uri": "https://localhost:8080/"
        },
        "id": "b9bRZzVl-rsk",
        "outputId": "78cff03c-4f97-43e5-f0f7-6a34e772ff90"
      },
      "outputs": [
        {
          "output_type": "execute_result",
          "data": {
            "text/plain": [
              "[1145,\n",
              " 4375,\n",
              " 1201,\n",
              " 8257,\n",
              " 1145,\n",
              " 5,\n",
              " 1202,\n",
              " 8258,\n",
              " 11975,\n",
              " 4859,\n",
              " 11976,\n",
              " 10121,\n",
              " 4375,\n",
              " 1201,\n",
              " 2397,\n",
              " 5734,\n",
              " 1346,\n",
              " 4376,\n",
              " 1145,\n",
              " 133]"
            ]
          },
          "metadata": {},
          "execution_count": 83
        }
      ],
      "source": [
        "sequences_train[0][0:20]"
      ]
    },
    {
      "cell_type": "code",
      "execution_count": 84,
      "metadata": {
        "colab": {
          "base_uri": "https://localhost:8080/"
        },
        "id": "7WeUmRIv-0R9",
        "outputId": "6b40b11c-23b4-421d-df96-0b13a3254f51"
      },
      "outputs": [
        {
          "output_type": "stream",
          "name": "stdout",
          "text": [
            "Total number of unique tokens 89963\n"
          ]
        }
      ],
      "source": [
        "word2idx = tokenizer.word_index\n",
        "V = len(word2idx)\n",
        "print(\"Total number of unique tokens %s\" % V)"
      ]
    },
    {
      "cell_type": "code",
      "execution_count": 85,
      "metadata": {
        "colab": {
          "base_uri": "https://localhost:8080/"
        },
        "id": "BCN7DMYE_UKz",
        "outputId": "2d7a84c7-04fa-431d-90dd-fe36290b0a42"
      },
      "outputs": [
        {
          "output_type": "stream",
          "name": "stdout",
          "text": [
            "(3430, 1620)\n"
          ]
        }
      ],
      "source": [
        "data_train = pad_sequences(sequences_train)\n",
        "print(data_train.shape)"
      ]
    },
    {
      "cell_type": "code",
      "execution_count": 86,
      "metadata": {
        "colab": {
          "base_uri": "https://localhost:8080/"
        },
        "id": "BKWpQAiC_UOS",
        "outputId": "1f3e0446-cdda-49f9-bce1-a678100a26f8"
      },
      "outputs": [
        {
          "output_type": "execute_result",
          "data": {
            "text/plain": [
              "array([  0,   0,   0, ..., 116, 325, 554], dtype=int32)"
            ]
          },
          "metadata": {},
          "execution_count": 86
        }
      ],
      "source": [
        "data_train[0]"
      ]
    },
    {
      "cell_type": "code",
      "execution_count": 87,
      "metadata": {
        "id": "px3N4SGh_yb3"
      },
      "outputs": [],
      "source": [
        "data_test = pad_sequences(sequences_test, maxlen=data_train.shape[1])"
      ]
    },
    {
      "cell_type": "markdown",
      "metadata": {
        "id": "Yoz6qDlsB6l2"
      },
      "source": [
        "# CNN"
      ]
    },
    {
      "cell_type": "code",
      "execution_count": 88,
      "metadata": {
        "id": "B8Wky0RPqk0h"
      },
      "outputs": [],
      "source": [
        "D=32#embedding vector dimension constant"
      ]
    },
    {
      "cell_type": "code",
      "execution_count": 117,
      "metadata": {
        "id": "1o-JPxu-B9Rm"
      },
      "outputs": [],
      "source": [
        "\n",
        "i = Input(shape=(data_train.shape[1],))\n",
        "\n",
        "x = Embedding(V + 1, D)(i)\n",
        "\n",
        "x = Conv1D(32, 4, activation='relu')(x)\n",
        "x = MaxPooling1D(4)(x)\n",
        "\n",
        "x = Conv1D(64, 4, activation='relu')(x)\n",
        "x = MaxPooling1D(4)(x)\n",
        "\n",
        "x = Conv1D(128, 4, activation='relu')(x)\n",
        "x = MaxPooling1D(4)(x)\n",
        "\n",
        "x = Flatten()(x)\n",
        "x = Dense(y_train.shape[1], activation='softmax')(x)\n",
        "\n",
        "model_cnn = Model(inputs=i, outputs=x)\n",
        "\n",
        "model_cnn.compile(optimizer='adam', loss='categorical_crossentropy', metrics=['accuracy'])\n"
      ]
    },
    {
      "cell_type": "code",
      "execution_count": 90,
      "metadata": {
        "colab": {
          "base_uri": "https://localhost:8080/"
        },
        "id": "LwhuLROBB9Xp",
        "outputId": "3b9a2826-a10d-405e-9894-c87cceb2640f"
      },
      "outputs": [
        {
          "output_type": "stream",
          "name": "stdout",
          "text": [
            "Epoch 1/10\n",
            "108/108 [==============================] - 20s 174ms/step - loss: 1.8869 - accuracy: 0.2064 - val_loss: 1.7431 - val_accuracy: 0.2524\n",
            "Epoch 2/10\n",
            "108/108 [==============================] - 16s 152ms/step - loss: 1.4185 - accuracy: 0.4239 - val_loss: 1.2891 - val_accuracy: 0.4578\n",
            "Epoch 3/10\n",
            "108/108 [==============================] - 16s 152ms/step - loss: 0.8659 - accuracy: 0.6332 - val_loss: 1.4884 - val_accuracy: 0.5088\n",
            "Epoch 4/10\n",
            "108/108 [==============================] - 16s 150ms/step - loss: 0.4792 - accuracy: 0.8222 - val_loss: 1.7669 - val_accuracy: 0.5524\n",
            "Epoch 5/10\n",
            "108/108 [==============================] - 16s 151ms/step - loss: 0.3431 - accuracy: 0.8834 - val_loss: 2.0869 - val_accuracy: 0.5673\n",
            "Epoch 6/10\n",
            "108/108 [==============================] - 18s 167ms/step - loss: 0.2022 - accuracy: 0.9347 - val_loss: 2.3425 - val_accuracy: 0.5830\n",
            "Epoch 7/10\n",
            "108/108 [==============================] - 16s 152ms/step - loss: 0.1386 - accuracy: 0.9633 - val_loss: 2.6978 - val_accuracy: 0.5850\n",
            "Epoch 8/10\n",
            "108/108 [==============================] - 16s 152ms/step - loss: 0.0901 - accuracy: 0.9764 - val_loss: 3.0031 - val_accuracy: 0.5980\n",
            "Epoch 9/10\n",
            "108/108 [==============================] - 16s 150ms/step - loss: 0.0624 - accuracy: 0.9831 - val_loss: 3.2253 - val_accuracy: 0.5986\n",
            "Epoch 10/10\n",
            "108/108 [==============================] - 16s 153ms/step - loss: 0.0453 - accuracy: 0.9901 - val_loss: 3.5201 - val_accuracy: 0.5986\n"
          ]
        }
      ],
      "source": [
        "history_cnn = model_cnn.fit(x=data_train,y=y_train,epochs=10,validation_data=(data_test,y_test))"
      ]
    },
    {
      "cell_type": "code",
      "execution_count": 91,
      "metadata": {
        "id": "qAKFz1vdB9an"
      },
      "outputs": [],
      "source": [
        "def plot_results(r):\n",
        "\n",
        "  plt.plot(r.history['loss'],label='Loss')\n",
        "  plt.plot(r.history['val_loss'], label='Validation Loss')\n",
        "  plt.legend()\n",
        "  plt.show()\n",
        "\n",
        "  plt.plot(r.history['accuracy'],label='Accuracy')\n",
        "  plt.plot(r.history['val_accuracy'], label='Val Accuracy Loss')\n",
        "  plt.legend()\n",
        "  plt.show()"
      ]
    },
    {
      "cell_type": "code",
      "execution_count": 92,
      "metadata": {
        "colab": {
          "base_uri": "https://localhost:8080/",
          "height": 843
        },
        "id": "NUinbQaLB9dh",
        "outputId": "d193c107-20d6-4fcd-d483-3fed35a334b4"
      },
      "outputs": [
        {
          "output_type": "display_data",
          "data": {
            "text/plain": [
              "<Figure size 640x480 with 1 Axes>"
            ],
            "image/png": "[encoded data removed]"
          },
          "metadata": {}
        },
        {
          "output_type": "display_data",
          "data": {
            "text/plain": [
              "<Figure size 640x480 with 1 Axes>"
            ],
            "image/png": "[encoded data removed]"
          },
          "metadata": {}
        }
      ],
      "source": [
        "plot_results(history_cnn)"
      ]
    },
    {
      "cell_type": "markdown",
      "source": [
        "## CNN with Dropout to prevent overfitting"
      ],
      "metadata": {
        "id": "VlQQjygcIudH"
      }
    },
    {
      "cell_type": "code",
      "source": [
        "\n",
        "i = Input(shape=(data_train.shape[1],))\n",
        "\n",
        "x = Embedding(V + 1, D)(i)\n",
        "x = Conv1D(64, 4, activation='relu')(x)\n",
        "x = MaxPooling1D(3)(x)\n",
        "\n",
        "x = Conv1D(128, 4, activation='relu')(x)\n",
        "x = MaxPooling1D(3)(x)\n",
        "\n",
        "x = Conv1D(256, 4, activation='relu')(x)\n",
        "x = MaxPooling1D(3)(x)\n",
        "x = Dropout(0.2)(x)\n",
        "\n",
        "x = GlobalAveragePooling1D()(x)\n",
        "x = Dense(y_train.shape[1], activation='softmax')(x)\n",
        "\n",
        "model_cnn_dropout = Model(inputs=i, outputs=x)\n",
        "\n",
        "model_cnn_dropout.compile(optimizer='adam', loss='categorical_crossentropy', metrics=['accuracy'])\n",
        "history_cnn_dropout = model_cnn_dropout.fit(x=data_train,y=y_train,epochs=10,validation_data=(data_test,y_test))"
      ],
      "metadata": {
        "id": "k_hr-y8RHwbp"
      },
      "execution_count": null,
      "outputs": []
    },
    {
      "cell_type": "markdown",
      "source": [
        "The second CNN model's loss is increasing, so i stopped the training.\n",
        "\n",
        "\n",
        "\n",
        "```\n",
        "Epoch 1/10\n",
        "108/108 [==============================] - 156s 490ms/step - loss: 1.8025 - accuracy: 0.2268 - val_loss: 1.5552 - val_accuracy: 0.3340\n",
        "Epoch 2/10\n",
        "108/108 [==============================] - 45s 414ms/step - loss: 1.3806 - accuracy: 0.3997 - val_loss: 1.3674 - val_accuracy: 0.4265\n",
        "Epoch 3/10\n",
        "108/108 [==============================] - 40s 374ms/step - loss: 1.0547 - accuracy: 0.5332 - val_loss: 1.3171 - val_accuracy: 0.5034\n",
        "Epoch 4/10\n",
        "108/108 [==============================] - 46s 429ms/step - loss: 0.7775 - accuracy: 0.6767 - val_loss: 1.4920 - val_accuracy: 0.5020\n",
        "Epoch 5/10\n",
        "108/108 [==============================] - 40s 374ms/step - loss: 0.5750 - accuracy: 0.7659 - val_loss: 1.7025 - val_accuracy: 0.5585\n",
        "Epoch 6/10\n",
        " 33/108 [========>.....................] - ETA: 27s - loss: 0.4388 - accuracy: 0.8352\n",
        "```\n",
        "\n"
      ],
      "metadata": {
        "id": "YoOh-h8abjuj"
      }
    },
    {
      "cell_type": "markdown",
      "metadata": {
        "id": "kSATlc0GB9ml"
      },
      "source": [
        "# LSTM"
      ]
    },
    {
      "cell_type": "code",
      "execution_count": 95,
      "metadata": {
        "id": "JhhlokZeCKJ8"
      },
      "outputs": [],
      "source": [
        "i = Input(shape = (data_train.shape[1],))\n",
        "x = Embedding(V+1,D)(i)\n",
        "\n",
        "x = LSTM(15, return_sequences=True)(x)\n",
        "x= GlobalMaxPool1D()(x)\n",
        "\n",
        "\n",
        "x= Dense(y_train.shape[1],activation='softmax')(x)\n",
        "\n",
        "model_lstm = Model(i,x)"
      ]
    },
    {
      "cell_type": "code",
      "execution_count": 96,
      "metadata": {
        "id": "ws0SIHDeCKNR"
      },
      "outputs": [],
      "source": [
        "model_lstm.compile(optimizer='adam',loss='categorical_crossentropy', metrics=['accuracy'])"
      ]
    },
    {
      "cell_type": "code",
      "execution_count": 97,
      "metadata": {
        "colab": {
          "base_uri": "https://localhost:8080/"
        },
        "id": "LG1zSF_xCKQI",
        "outputId": "5f64ab55-bde9-4041-9fe5-c31ed798cdf6"
      },
      "outputs": [
        {
          "output_type": "stream",
          "name": "stdout",
          "text": [
            "Epoch 1/10\n",
            "108/108 [==============================] - 116s 1s/step - loss: 1.8908 - accuracy: 0.3085 - val_loss: 1.7366 - val_accuracy: 0.3367\n",
            "Epoch 2/10\n",
            "108/108 [==============================] - 123s 1s/step - loss: 1.4969 - accuracy: 0.4478 - val_loss: 1.3309 - val_accuracy: 0.5449\n",
            "Epoch 3/10\n",
            "108/108 [==============================] - 113s 1s/step - loss: 1.0810 - accuracy: 0.7222 - val_loss: 1.0608 - val_accuracy: 0.7456\n",
            "Epoch 4/10\n",
            "108/108 [==============================] - 98s 905ms/step - loss: 0.7981 - accuracy: 0.8475 - val_loss: 0.8730 - val_accuracy: 0.7946\n",
            "Epoch 5/10\n",
            "108/108 [==============================] - 96s 886ms/step - loss: 0.5946 - accuracy: 0.8985 - val_loss: 0.7270 - val_accuracy: 0.8299\n",
            "Epoch 6/10\n",
            "108/108 [==============================] - 96s 890ms/step - loss: 0.4407 - accuracy: 0.9417 - val_loss: 0.6592 - val_accuracy: 0.8367\n",
            "Epoch 7/10\n",
            "108/108 [==============================] - 96s 891ms/step - loss: 0.3431 - accuracy: 0.9571 - val_loss: 0.5807 - val_accuracy: 0.8565\n",
            "Epoch 8/10\n",
            "108/108 [==============================] - 96s 893ms/step - loss: 0.2736 - accuracy: 0.9688 - val_loss: 0.5695 - val_accuracy: 0.8476\n",
            "Epoch 9/10\n",
            "108/108 [==============================] - 97s 903ms/step - loss: 0.1988 - accuracy: 0.9796 - val_loss: 0.5362 - val_accuracy: 0.8605\n",
            "Epoch 10/10\n",
            "108/108 [==============================] - 96s 895ms/step - loss: 0.1496 - accuracy: 0.9886 - val_loss: 0.5276 - val_accuracy: 0.8599\n"
          ]
        }
      ],
      "source": [
        "history_lstm = model_lstm.fit(x=data_train,y=y_train,epochs=10,validation_data=(data_test,y_test))"
      ]
    },
    {
      "cell_type": "code",
      "execution_count": 98,
      "metadata": {
        "colab": {
          "base_uri": "https://localhost:8080/",
          "height": 843
        },
        "id": "-bZGN3rOCKTE",
        "outputId": "bf02efcf-c00f-4aaa-9224-6c9b2b317695"
      },
      "outputs": [
        {
          "output_type": "display_data",
          "data": {
            "text/plain": [
              "<Figure size 640x480 with 1 Axes>"
            ],
            "image/png": "[encoded data removed]"
          },
          "metadata": {}
        },
        {
          "output_type": "display_data",
          "data": {
            "text/plain": [
              "<Figure size 640x480 with 1 Axes>"
            ],
            "image/png": "[encoded data removed]"
          },
          "metadata": {}
        }
      ],
      "source": [
        "plot_results(history_lstm)"
      ]
    },
    {
      "cell_type": "markdown",
      "metadata": {
        "id": "6e727L0Rn_n3"
      },
      "source": [
        "#GRU"
      ]
    },
    {
      "cell_type": "code",
      "execution_count": 99,
      "metadata": {
        "id": "6P-kmb14oBod"
      },
      "outputs": [],
      "source": [
        "i = Input(shape = (data_train.shape[1],))\n",
        "x = Embedding(V+1,D)(i)\n",
        "\n",
        "x = GRU(15, return_sequences=True)(x)\n",
        "x= GlobalMaxPool1D()(x)\n",
        "\n",
        "\n",
        "x= Dense(y_train.shape[1],activation='softmax')(x)\n",
        "\n",
        "model_gru = Model(i,x)"
      ]
    },
    {
      "cell_type": "code",
      "execution_count": 100,
      "metadata": {
        "id": "-mvWhfVCoB1o"
      },
      "outputs": [],
      "source": [
        "model_gru.compile(optimizer='adam',loss='categorical_crossentropy', metrics=['accuracy'])"
      ]
    },
    {
      "cell_type": "code",
      "execution_count": 101,
      "metadata": {
        "colab": {
          "base_uri": "https://localhost:8080/"
        },
        "id": "WDOuPKevoB4x",
        "outputId": "32bd1c50-ba71-4a8d-af92-340f3e1a68b5"
      },
      "outputs": [
        {
          "output_type": "stream",
          "name": "stdout",
          "text": [
            "Epoch 1/10\n",
            "108/108 [==============================] - 107s 959ms/step - loss: 1.8978 - accuracy: 0.3883 - val_loss: 1.7962 - val_accuracy: 0.5476\n",
            "Epoch 2/10\n",
            "108/108 [==============================] - 105s 970ms/step - loss: 1.4739 - accuracy: 0.6362 - val_loss: 1.2324 - val_accuracy: 0.6599\n",
            "Epoch 3/10\n",
            "108/108 [==============================] - 99s 921ms/step - loss: 0.9532 - accuracy: 0.7991 - val_loss: 0.9032 - val_accuracy: 0.7980\n",
            "Epoch 4/10\n",
            "108/108 [==============================] - 100s 926ms/step - loss: 0.6229 - accuracy: 0.9093 - val_loss: 0.7046 - val_accuracy: 0.8551\n",
            "Epoch 5/10\n",
            "108/108 [==============================] - 100s 924ms/step - loss: 0.4088 - accuracy: 0.9598 - val_loss: 0.6027 - val_accuracy: 0.8537\n",
            "Epoch 6/10\n",
            "108/108 [==============================] - 101s 935ms/step - loss: 0.2808 - accuracy: 0.9746 - val_loss: 0.5772 - val_accuracy: 0.8408\n",
            "Epoch 7/10\n",
            "108/108 [==============================] - 100s 929ms/step - loss: 0.1966 - accuracy: 0.9863 - val_loss: 0.5265 - val_accuracy: 0.8537\n",
            "Epoch 8/10\n",
            "108/108 [==============================] - 100s 929ms/step - loss: 0.1394 - accuracy: 0.9907 - val_loss: 0.5412 - val_accuracy: 0.8476\n",
            "Epoch 9/10\n",
            "108/108 [==============================] - 102s 945ms/step - loss: 0.0988 - accuracy: 0.9959 - val_loss: 0.5340 - val_accuracy: 0.8449\n",
            "Epoch 10/10\n",
            "108/108 [==============================] - 102s 949ms/step - loss: 0.0762 - accuracy: 0.9962 - val_loss: 0.5498 - val_accuracy: 0.8299\n"
          ]
        }
      ],
      "source": [
        "history_gru = model_gru.fit(x=data_train,y=y_train,epochs=10,validation_data=(data_test,y_test))"
      ]
    },
    {
      "cell_type": "code",
      "execution_count": 102,
      "metadata": {
        "colab": {
          "base_uri": "https://localhost:8080/",
          "height": 843
        },
        "id": "bp-ezPuSoB71",
        "outputId": "3d339c96-c0a5-4ba5-a209-78fe84b446ef"
      },
      "outputs": [
        {
          "output_type": "display_data",
          "data": {
            "text/plain": [
              "<Figure size 640x480 with 1 Axes>"
            ],
            "image/png": "[encoded data removed]"
          },
          "metadata": {}
        },
        {
          "output_type": "display_data",
          "data": {
            "text/plain": [
              "<Figure size 640x480 with 1 Axes>"
            ],
            "image/png": "[encoded data removed]"
          },
          "metadata": {}
        }
      ],
      "source": [
        "plot_results(history_gru)"
      ]
    },
    {
      "cell_type": "markdown",
      "metadata": {
        "id": "zzvosVlIJ5bT"
      },
      "source": [
        "#BILSTM"
      ]
    },
    {
      "cell_type": "code",
      "execution_count": 103,
      "metadata": {
        "id": "fgH-zZamJNuT"
      },
      "outputs": [],
      "source": [
        "i = Input(shape = (data_train.shape[1],))\n",
        "x = Embedding(V+1,D)(i)\n",
        "\n",
        "x = Bidirectional(LSTM(15, return_sequences=True))(x)\n",
        "x= GlobalMaxPool1D()(x)\n",
        "\n",
        "\n",
        "x= Dense(y_train.shape[1],activation='softmax')(x)\n",
        "\n",
        "model_bilstm = Model(i,x)\n"
      ]
    },
    {
      "cell_type": "code",
      "execution_count": 104,
      "metadata": {
        "colab": {
          "base_uri": "https://localhost:8080/"
        },
        "id": "LzKQkErU_zcH",
        "outputId": "49950032-e2d5-45e5-a2d3-038b5e1019c0"
      },
      "outputs": [
        {
          "output_type": "stream",
          "name": "stdout",
          "text": [
            "Epoch 1/10\n",
            "108/108 [==============================] - 186s 2s/step - loss: 1.8852 - accuracy: 0.3172 - val_loss: 1.6915 - val_accuracy: 0.3721\n",
            "Epoch 2/10\n",
            "108/108 [==============================] - 180s 2s/step - loss: 1.5594 - accuracy: 0.4886 - val_loss: 1.2621 - val_accuracy: 0.7000\n",
            "Epoch 3/10\n",
            "108/108 [==============================] - 180s 2s/step - loss: 0.9587 - accuracy: 0.8394 - val_loss: 0.8804 - val_accuracy: 0.7959\n",
            "Epoch 4/10\n",
            "108/108 [==============================] - 180s 2s/step - loss: 0.5676 - accuracy: 0.9023 - val_loss: 0.6920 - val_accuracy: 0.8150\n",
            "Epoch 5/10\n",
            "108/108 [==============================] - 181s 2s/step - loss: 0.3351 - accuracy: 0.9394 - val_loss: 0.7106 - val_accuracy: 0.7626\n",
            "Epoch 6/10\n",
            "108/108 [==============================] - 179s 2s/step - loss: 0.3166 - accuracy: 0.9373 - val_loss: 0.5050 - val_accuracy: 0.8497\n",
            "Epoch 7/10\n",
            "108/108 [==============================] - 179s 2s/step - loss: 0.1540 - accuracy: 0.9796 - val_loss: 0.5033 - val_accuracy: 0.8422\n",
            "Epoch 8/10\n",
            "108/108 [==============================] - 179s 2s/step - loss: 0.1087 - accuracy: 0.9857 - val_loss: 0.4978 - val_accuracy: 0.8415\n",
            "Epoch 9/10\n",
            "108/108 [==============================] - 179s 2s/step - loss: 0.0831 - accuracy: 0.9886 - val_loss: 0.5038 - val_accuracy: 0.8429\n",
            "Epoch 10/10\n",
            "108/108 [==============================] - 181s 2s/step - loss: 0.0614 - accuracy: 0.9921 - val_loss: 0.4844 - val_accuracy: 0.8531\n"
          ]
        }
      ],
      "source": [
        "model_bilstm.compile(optimizer='adam',loss='categorical_crossentropy', metrics=['accuracy'])\n",
        "\n",
        "history_bilstm = model_bilstm.fit(x=data_train,y=y_train,epochs=10,validation_data=(data_test,y_test))"
      ]
    },
    {
      "cell_type": "code",
      "source": [
        "plot_results(history_bilstm)"
      ],
      "metadata": {
        "colab": {
          "base_uri": "https://localhost:8080/",
          "height": 843
        },
        "id": "LQbG-bf1aGmt",
        "outputId": "99dd687e-ec79-481b-af25-fda91de60955"
      },
      "execution_count": 125,
      "outputs": [
        {
          "output_type": "display_data",
          "data": {
            "text/plain": [
              "<Figure size 640x480 with 1 Axes>"
            ],
            "image/png": "[encoded data removed]"
          },
          "metadata": {}
        },
        {
          "output_type": "display_data",
          "data": {
            "text/plain": [
              "<Figure size 640x480 with 1 Axes>"
            ],
            "image/png": "[encoded data removed]"
          },
          "metadata": {}
        }
      ]
    },
    {
      "cell_type": "code",
      "source": [
        "X_test.iloc[0]"
      ],
      "metadata": {
        "colab": {
          "base_uri": "https://localhost:8080/",
          "height": 140
        },
        "id": "VblS4xXRdQxt",
        "outputId": "8a0834d5-5c3a-40e3-8e64-f12354e79730"
      },
      "execution_count": 151,
      "outputs": [
        {
          "output_type": "execute_result",
          "data": {
            "text/plain": [
              "'kanseri önlemek yerine arttırıyorlar dna sarmalını keşfeden nobel ödüllü ünlü biyolog james watson antioksidan hapları ortaya çıkmasını engelledikleri kanserlerden fazla kansere yol açmış olabilir şeklinde açıklama yaptı watson önceki açıklamalarının aksine antioksidan içeren gıdaların haplarını tüketmenin kansere yol açtığını iddia etti ünlü biyolog radyasyon kemoterapi tedavilerinin kanser hücrelerini öldürerek vücutta oksijen açığa çıkarttığını söylüyor kanser tedavisi olan bir hastanın hapları alması terapilerin düzgün çalışmasını engelliyor hayatını kanser mücadeleye adayan watson son dönemde ortaya çıkan birçok araştırma ileri seviyede kanserlerin bir türlü tedavi edilememesinde vücuttaki antioksidan fazlalığının etkisini gösteriyor diyor açıklamaların ardından ingiltere kanser araştırma enstitüsü profesörü olan nick jones antioksidan özelliği bulunan içeriğin sağlıklı bireylerde kanseri önlemede etkisiz olduklarını hatta kişilerde kanser riskini olsa artırdığını belirterek watson a destek verdi'"
            ],
            "application/vnd.google.colaboratory.intrinsic+json": {
              "type": "string"
            }
          },
          "metadata": {},
          "execution_count": 151
        }
      ]
    },
    {
      "cell_type": "code",
      "source": [
        "y_test.head()"
      ],
      "metadata": {
        "colab": {
          "base_uri": "https://localhost:8080/",
          "height": 206
        },
        "id": "O33lld78cKtS",
        "outputId": "8cea0dde-0cd1-4584-bf3f-ee280ef9c785"
      },
      "execution_count": 133,
      "outputs": [
        {
          "output_type": "execute_result",
          "data": {
            "text/plain": [
              "      dunya   ekonomi   kultur   saglik   siyaset   spor   teknoloji \n",
              "3301       0         0        0        1         0      0           0\n",
              "1141       1         0        0        0         0      0           0\n",
              "4412       0         0        0        0         0      0           1\n",
              "3083       0         0        0        1         0      0           0\n",
              "2518       0         0        1        0         0      0           0"
            ],
            "text/html": [
              "\n",
              "  <div id=\"df-1c0ed317-c22e-4a22-a726-6cae2b70c20f\" class=\"colab-df-container\">\n",
              "    <div>\n",
              "<style scoped>\n",
              "    .dataframe tbody tr th:only-of-type {\n",
              "        vertical-align: middle;\n",
              "    }\n",
              "\n",
              "    .dataframe tbody tr th {\n",
              "        vertical-align: top;\n",
              "    }\n",
              "\n",
              "    .dataframe thead th {\n",
              "        text-align: right;\n",
              "    }\n",
              "</style>\n",
              "<table border=\"1\" class=\"dataframe\">\n",
              "  <thead>\n",
              "    <tr style=\"text-align: right;\">\n",
              "      <th></th>\n",
              "      <th>dunya</th>\n",
              "      <th>ekonomi</th>\n",
              "      <th>kultur</th>\n",
              "      <th>saglik</th>\n",
              "      <th>siyaset</th>\n",
              "      <th>spor</th>\n",
              "      <th>teknoloji</th>\n",
              "    </tr>\n",
              "  </thead>\n",
              "  <tbody>\n",
              "    <tr>\n",
              "      <th>3301</th>\n",
              "      <td>0</td>\n",
              "      <td>0</td>\n",
              "      <td>0</td>\n",
              "      <td>1</td>\n",
              "      <td>0</td>\n",
              "      <td>0</td>\n",
              "      <td>0</td>\n",
              "    </tr>\n",
              "    <tr>\n",
              "      <th>1141</th>\n",
              "      <td>1</td>\n",
              "      <td>0</td>\n",
              "      <td>0</td>\n",
              "      <td>0</td>\n",
              "      <td>0</td>\n",
              "      <td>0</td>\n",
              "      <td>0</td>\n",
              "    </tr>\n",
              "    <tr>\n",
              "      <th>4412</th>\n",
              "      <td>0</td>\n",
              "      <td>0</td>\n",
              "      <td>0</td>\n",
              "      <td>0</td>\n",
              "      <td>0</td>\n",
              "      <td>0</td>\n",
              "      <td>1</td>\n",
              "    </tr>\n",
              "    <tr>\n",
              "      <th>3083</th>\n",
              "      <td>0</td>\n",
              "      <td>0</td>\n",
              "      <td>0</td>\n",
              "      <td>1</td>\n",
              "      <td>0</td>\n",
              "      <td>0</td>\n",
              "      <td>0</td>\n",
              "    </tr>\n",
              "    <tr>\n",
              "      <th>2518</th>\n",
              "      <td>0</td>\n",
              "      <td>0</td>\n",
              "      <td>1</td>\n",
              "      <td>0</td>\n",
              "      <td>0</td>\n",
              "      <td>0</td>\n",
              "      <td>0</td>\n",
              "    </tr>\n",
              "  </tbody>\n",
              "</table>\n",
              "</div>\n",
              "    <div class=\"colab-df-buttons\">\n",
              "\n",
              "  <div class=\"colab-df-container\">\n",
              "    <button class=\"colab-df-convert\" onclick=\"convertToInteractive('df-1c0ed317-c22e-4a22-a726-6cae2b70c20f')\"\n",
              "            title=\"Convert this dataframe to an interactive table.\"\n",
              "            style=\"display:none;\">\n",
              "\n",
              "  <svg xmlns=\"http://www.w3.org/2000/svg\" height=\"24px\" viewBox=\"0 -960 960 960\">\n",
              "    <path d=\"M120-120v-720h720v720H120Zm60-500h600v-160H180v160Zm220 220h160v-160H400v160Zm0 220h160v-160H400v160ZM180-400h160v-160H180v160Zm440 0h160v-160H620v160ZM180-180h160v-160H180v160Zm440 0h160v-160H620v160Z\"/>\n",
              "  </svg>\n",
              "    </button>\n",
              "\n",
              "  <style>\n",
              "    .colab-df-container {\n",
              "      display:flex;\n",
              "      gap: 12px;\n",
              "    }\n",
              "\n",
              "    .colab-df-convert {\n",
              "      background-color: #E8F0FE;\n",
              "      border: none;\n",
              "      border-radius: 50%;\n",
              "      cursor: pointer;\n",
              "      display: none;\n",
              "      fill: #1967D2;\n",
              "      height: 32px;\n",
              "      padding: 0 0 0 0;\n",
              "      width: 32px;\n",
              "    }\n",
              "\n",
              "    .colab-df-convert:hover {\n",
              "      background-color: #E2EBFA;\n",
              "      box-shadow: 0px 1px 2px rgba(60, 64, 67, 0.3), 0px 1px 3px 1px rgba(60, 64, 67, 0.15);\n",
              "      fill: #174EA6;\n",
              "    }\n",
              "\n",
              "    .colab-df-buttons div {\n",
              "      margin-bottom: 4px;\n",
              "    }\n",
              "\n",
              "    [theme=dark] .colab-df-convert {\n",
              "      background-color: #3B4455;\n",
              "      fill: #D2E3FC;\n",
              "    }\n",
              "\n",
              "    [theme=dark] .colab-df-convert:hover {\n",
              "      background-color: #434B5C;\n",
              "      box-shadow: 0px 1px 3px 1px rgba(0, 0, 0, 0.15);\n",
              "      filter: drop-shadow(0px 1px 2px rgba(0, 0, 0, 0.3));\n",
              "      fill: #FFFFFF;\n",
              "    }\n",
              "  </style>\n",
              "\n",
              "    <script>\n",
              "      const buttonEl =\n",
              "        document.querySelector('#df-1c0ed317-c22e-4a22-a726-6cae2b70c20f button.colab-df-convert');\n",
              "      buttonEl.style.display =\n",
              "        google.colab.kernel.accessAllowed ? 'block' : 'none';\n",
              "\n",
              "      async function convertToInteractive(key) {\n",
              "        const element = document.querySelector('#df-1c0ed317-c22e-4a22-a726-6cae2b70c20f');\n",
              "        const dataTable =\n",
              "          await google.colab.kernel.invokeFunction('convertToInteractive',\n",
              "                                                    [key], {});\n",
              "        if (!dataTable) return;\n",
              "\n",
              "        const docLinkHtml = 'Like what you see? Visit the ' +\n",
              "          '<a target=\"_blank\" href=https://colab.research.google.com/notebooks/data_table.ipynb>data table notebook</a>'\n",
              "          + ' to learn more about interactive tables.';\n",
              "        element.innerHTML = '';\n",
              "        dataTable['output_type'] = 'display_data';\n",
              "        await google.colab.output.renderOutput(dataTable, element);\n",
              "        const docLink = document.createElement('div');\n",
              "        docLink.innerHTML = docLinkHtml;\n",
              "        element.appendChild(docLink);\n",
              "      }\n",
              "    </script>\n",
              "  </div>\n",
              "\n",
              "\n",
              "<div id=\"df-98e41ef4-cb83-4848-b202-b00c2505a0fe\">\n",
              "  <button class=\"colab-df-quickchart\" onclick=\"quickchart('df-98e41ef4-cb83-4848-b202-b00c2505a0fe')\"\n",
              "            title=\"Suggest charts\"\n",
              "            style=\"display:none;\">\n",
              "\n",
              "<svg xmlns=\"http://www.w3.org/2000/svg\" height=\"24px\"viewBox=\"0 0 24 24\"\n",
              "     width=\"24px\">\n",
              "    <g>\n",
              "        <path d=\"M19 3H5c-1.1 0-2 .9-2 2v14c0 1.1.9 2 2 2h14c1.1 0 2-.9 2-2V5c0-1.1-.9-2-2-2zM9 17H7v-7h2v7zm4 0h-2V7h2v10zm4 0h-2v-4h2v4z\"/>\n",
              "    </g>\n",
              "</svg>\n",
              "  </button>\n",
              "\n",
              "<style>\n",
              "  .colab-df-quickchart {\n",
              "      --bg-color: #E8F0FE;\n",
              "      --fill-color: #1967D2;\n",
              "      --hover-bg-color: #E2EBFA;\n",
              "      --hover-fill-color: #174EA6;\n",
              "      --disabled-fill-color: #AAA;\n",
              "      --disabled-bg-color: #DDD;\n",
              "  }\n",
              "\n",
              "  [theme=dark] .colab-df-quickchart {\n",
              "      --bg-color: #3B4455;\n",
              "      --fill-color: #D2E3FC;\n",
              "      --hover-bg-color: #434B5C;\n",
              "      --hover-fill-color: #FFFFFF;\n",
              "      --disabled-bg-color: #3B4455;\n",
              "      --disabled-fill-color: #666;\n",
              "  }\n",
              "\n",
              "  .colab-df-quickchart {\n",
              "    background-color: var(--bg-color);\n",
              "    border: none;\n",
              "    border-radius: 50%;\n",
              "    cursor: pointer;\n",
              "    display: none;\n",
              "    fill: var(--fill-color);\n",
              "    height: 32px;\n",
              "    padding: 0;\n",
              "    width: 32px;\n",
              "  }\n",
              "\n",
              "  .colab-df-quickchart:hover {\n",
              "    background-color: var(--hover-bg-color);\n",
              "    box-shadow: 0 1px 2px rgba(60, 64, 67, 0.3), 0 1px 3px 1px rgba(60, 64, 67, 0.15);\n",
              "    fill: var(--button-hover-fill-color);\n",
              "  }\n",
              "\n",
              "  .colab-df-quickchart-complete:disabled,\n",
              "  .colab-df-quickchart-complete:disabled:hover {\n",
              "    background-color: var(--disabled-bg-color);\n",
              "    fill: var(--disabled-fill-color);\n",
              "    box-shadow: none;\n",
              "  }\n",
              "\n",
              "  .colab-df-spinner {\n",
              "    border: 2px solid var(--fill-color);\n",
              "    border-color: transparent;\n",
              "    border-bottom-color: var(--fill-color);\n",
              "    animation:\n",
              "      spin 1s steps(1) infinite;\n",
              "  }\n",
              "\n",
              "  @keyframes spin {\n",
              "    0% {\n",
              "      border-color: transparent;\n",
              "      border-bottom-color: var(--fill-color);\n",
              "      border-left-color: var(--fill-color);\n",
              "    }\n",
              "    20% {\n",
              "      border-color: transparent;\n",
              "      border-left-color: var(--fill-color);\n",
              "      border-top-color: var(--fill-color);\n",
              "    }\n",
              "    30% {\n",
              "      border-color: transparent;\n",
              "      border-left-color: var(--fill-color);\n",
              "      border-top-color: var(--fill-color);\n",
              "      border-right-color: var(--fill-color);\n",
              "    }\n",
              "    40% {\n",
              "      border-color: transparent;\n",
              "      border-right-color: var(--fill-color);\n",
              "      border-top-color: var(--fill-color);\n",
              "    }\n",
              "    60% {\n",
              "      border-color: transparent;\n",
              "      border-right-color: var(--fill-color);\n",
              "    }\n",
              "    80% {\n",
              "      border-color: transparent;\n",
              "      border-right-color: var(--fill-color);\n",
              "      border-bottom-color: var(--fill-color);\n",
              "    }\n",
              "    90% {\n",
              "      border-color: transparent;\n",
              "      border-bottom-color: var(--fill-color);\n",
              "    }\n",
              "  }\n",
              "</style>\n",
              "\n",
              "  <script>\n",
              "    async function quickchart(key) {\n",
              "      const quickchartButtonEl =\n",
              "        document.querySelector('#' + key + ' button');\n",
              "      quickchartButtonEl.disabled = true;  // To prevent multiple clicks.\n",
              "      quickchartButtonEl.classList.add('colab-df-spinner');\n",
              "      try {\n",
              "        const charts = await google.colab.kernel.invokeFunction(\n",
              "            'suggestCharts', [key], {});\n",
              "      } catch (error) {\n",
              "        console.error('Error during call to suggestCharts:', error);\n",
              "      }\n",
              "      quickchartButtonEl.classList.remove('colab-df-spinner');\n",
              "      quickchartButtonEl.classList.add('colab-df-quickchart-complete');\n",
              "    }\n",
              "    (() => {\n",
              "      let quickchartButtonEl =\n",
              "        document.querySelector('#df-98e41ef4-cb83-4848-b202-b00c2505a0fe button');\n",
              "      quickchartButtonEl.style.display =\n",
              "        google.colab.kernel.accessAllowed ? 'block' : 'none';\n",
              "    })();\n",
              "  </script>\n",
              "</div>\n",
              "\n",
              "    </div>\n",
              "  </div>\n"
            ]
          },
          "metadata": {},
          "execution_count": 133
        }
      ]
    },
    {
      "cell_type": "markdown",
      "source": [
        "Get the inverse of get_dmmies"
      ],
      "metadata": {
        "id": "oAClBWvbcNfU"
      }
    },
    {
      "cell_type": "code",
      "source": [
        "pd.from_dummies(y_test).rename(columns={'': 'category'}).head()"
      ],
      "metadata": {
        "colab": {
          "base_uri": "https://localhost:8080/",
          "height": 206
        },
        "id": "NuEJOgDsa0h-",
        "outputId": "cf1cd8cf-8dcc-45f9-f3ce-d6bf0c1766da"
      },
      "execution_count": 132,
      "outputs": [
        {
          "output_type": "execute_result",
          "data": {
            "text/plain": [
              "     category\n",
              "0     saglik \n",
              "1      dunya \n",
              "2  teknoloji \n",
              "3     saglik \n",
              "4     kultur "
            ],
            "text/html": [
              "\n",
              "  <div id=\"df-30e9fb42-85a1-4839-8d38-d5b0c91ad89a\" class=\"colab-df-container\">\n",
              "    <div>\n",
              "<style scoped>\n",
              "    .dataframe tbody tr th:only-of-type {\n",
              "        vertical-align: middle;\n",
              "    }\n",
              "\n",
              "    .dataframe tbody tr th {\n",
              "        vertical-align: top;\n",
              "    }\n",
              "\n",
              "    .dataframe thead th {\n",
              "        text-align: right;\n",
              "    }\n",
              "</style>\n",
              "<table border=\"1\" class=\"dataframe\">\n",
              "  <thead>\n",
              "    <tr style=\"text-align: right;\">\n",
              "      <th></th>\n",
              "      <th>category</th>\n",
              "    </tr>\n",
              "  </thead>\n",
              "  <tbody>\n",
              "    <tr>\n",
              "      <th>0</th>\n",
              "      <td>saglik</td>\n",
              "    </tr>\n",
              "    <tr>\n",
              "      <th>1</th>\n",
              "      <td>dunya</td>\n",
              "    </tr>\n",
              "    <tr>\n",
              "      <th>2</th>\n",
              "      <td>teknoloji</td>\n",
              "    </tr>\n",
              "    <tr>\n",
              "      <th>3</th>\n",
              "      <td>saglik</td>\n",
              "    </tr>\n",
              "    <tr>\n",
              "      <th>4</th>\n",
              "      <td>kultur</td>\n",
              "    </tr>\n",
              "  </tbody>\n",
              "</table>\n",
              "</div>\n",
              "    <div class=\"colab-df-buttons\">\n",
              "\n",
              "  <div class=\"colab-df-container\">\n",
              "    <button class=\"colab-df-convert\" onclick=\"convertToInteractive('df-30e9fb42-85a1-4839-8d38-d5b0c91ad89a')\"\n",
              "            title=\"Convert this dataframe to an interactive table.\"\n",
              "            style=\"display:none;\">\n",
              "\n",
              "  <svg xmlns=\"http://www.w3.org/2000/svg\" height=\"24px\" viewBox=\"0 -960 960 960\">\n",
              "    <path d=\"M120-120v-720h720v720H120Zm60-500h600v-160H180v160Zm220 220h160v-160H400v160Zm0 220h160v-160H400v160ZM180-400h160v-160H180v160Zm440 0h160v-160H620v160ZM180-180h160v-160H180v160Zm440 0h160v-160H620v160Z\"/>\n",
              "  </svg>\n",
              "    </button>\n",
              "\n",
              "  <style>\n",
              "    .colab-df-container {\n",
              "      display:flex;\n",
              "      gap: 12px;\n",
              "    }\n",
              "\n",
              "    .colab-df-convert {\n",
              "      background-color: #E8F0FE;\n",
              "      border: none;\n",
              "      border-radius: 50%;\n",
              "      cursor: pointer;\n",
              "      display: none;\n",
              "      fill: #1967D2;\n",
              "      height: 32px;\n",
              "      padding: 0 0 0 0;\n",
              "      width: 32px;\n",
              "    }\n",
              "\n",
              "    .colab-df-convert:hover {\n",
              "      background-color: #E2EBFA;\n",
              "      box-shadow: 0px 1px 2px rgba(60, 64, 67, 0.3), 0px 1px 3px 1px rgba(60, 64, 67, 0.15);\n",
              "      fill: #174EA6;\n",
              "    }\n",
              "\n",
              "    .colab-df-buttons div {\n",
              "      margin-bottom: 4px;\n",
              "    }\n",
              "\n",
              "    [theme=dark] .colab-df-convert {\n",
              "      background-color: #3B4455;\n",
              "      fill: #D2E3FC;\n",
              "    }\n",
              "\n",
              "    [theme=dark] .colab-df-convert:hover {\n",
              "      background-color: #434B5C;\n",
              "      box-shadow: 0px 1px 3px 1px rgba(0, 0, 0, 0.15);\n",
              "      filter: drop-shadow(0px 1px 2px rgba(0, 0, 0, 0.3));\n",
              "      fill: #FFFFFF;\n",
              "    }\n",
              "  </style>\n",
              "\n",
              "    <script>\n",
              "      const buttonEl =\n",
              "        document.querySelector('#df-30e9fb42-85a1-4839-8d38-d5b0c91ad89a button.colab-df-convert');\n",
              "      buttonEl.style.display =\n",
              "        google.colab.kernel.accessAllowed ? 'block' : 'none';\n",
              "\n",
              "      async function convertToInteractive(key) {\n",
              "        const element = document.querySelector('#df-30e9fb42-85a1-4839-8d38-d5b0c91ad89a');\n",
              "        const dataTable =\n",
              "          await google.colab.kernel.invokeFunction('convertToInteractive',\n",
              "                                                    [key], {});\n",
              "        if (!dataTable) return;\n",
              "\n",
              "        const docLinkHtml = 'Like what you see? Visit the ' +\n",
              "          '<a target=\"_blank\" href=https://colab.research.google.com/notebooks/data_table.ipynb>data table notebook</a>'\n",
              "          + ' to learn more about interactive tables.';\n",
              "        element.innerHTML = '';\n",
              "        dataTable['output_type'] = 'display_data';\n",
              "        await google.colab.output.renderOutput(dataTable, element);\n",
              "        const docLink = document.createElement('div');\n",
              "        docLink.innerHTML = docLinkHtml;\n",
              "        element.appendChild(docLink);\n",
              "      }\n",
              "    </script>\n",
              "  </div>\n",
              "\n",
              "\n",
              "<div id=\"df-75578a1d-9a7b-4ac1-a235-b76ee1b81b2d\">\n",
              "  <button class=\"colab-df-quickchart\" onclick=\"quickchart('df-75578a1d-9a7b-4ac1-a235-b76ee1b81b2d')\"\n",
              "            title=\"Suggest charts\"\n",
              "            style=\"display:none;\">\n",
              "\n",
              "<svg xmlns=\"http://www.w3.org/2000/svg\" height=\"24px\"viewBox=\"0 0 24 24\"\n",
              "     width=\"24px\">\n",
              "    <g>\n",
              "        <path d=\"M19 3H5c-1.1 0-2 .9-2 2v14c0 1.1.9 2 2 2h14c1.1 0 2-.9 2-2V5c0-1.1-.9-2-2-2zM9 17H7v-7h2v7zm4 0h-2V7h2v10zm4 0h-2v-4h2v4z\"/>\n",
              "    </g>\n",
              "</svg>\n",
              "  </button>\n",
              "\n",
              "<style>\n",
              "  .colab-df-quickchart {\n",
              "      --bg-color: #E8F0FE;\n",
              "      --fill-color: #1967D2;\n",
              "      --hover-bg-color: #E2EBFA;\n",
              "      --hover-fill-color: #174EA6;\n",
              "      --disabled-fill-color: #AAA;\n",
              "      --disabled-bg-color: #DDD;\n",
              "  }\n",
              "\n",
              "  [theme=dark] .colab-df-quickchart {\n",
              "      --bg-color: #3B4455;\n",
              "      --fill-color: #D2E3FC;\n",
              "      --hover-bg-color: #434B5C;\n",
              "      --hover-fill-color: #FFFFFF;\n",
              "      --disabled-bg-color: #3B4455;\n",
              "      --disabled-fill-color: #666;\n",
              "  }\n",
              "\n",
              "  .colab-df-quickchart {\n",
              "    background-color: var(--bg-color);\n",
              "    border: none;\n",
              "    border-radius: 50%;\n",
              "    cursor: pointer;\n",
              "    display: none;\n",
              "    fill: var(--fill-color);\n",
              "    height: 32px;\n",
              "    padding: 0;\n",
              "    width: 32px;\n",
              "  }\n",
              "\n",
              "  .colab-df-quickchart:hover {\n",
              "    background-color: var(--hover-bg-color);\n",
              "    box-shadow: 0 1px 2px rgba(60, 64, 67, 0.3), 0 1px 3px 1px rgba(60, 64, 67, 0.15);\n",
              "    fill: var(--button-hover-fill-color);\n",
              "  }\n",
              "\n",
              "  .colab-df-quickchart-complete:disabled,\n",
              "  .colab-df-quickchart-complete:disabled:hover {\n",
              "    background-color: var(--disabled-bg-color);\n",
              "    fill: var(--disabled-fill-color);\n",
              "    box-shadow: none;\n",
              "  }\n",
              "\n",
              "  .colab-df-spinner {\n",
              "    border: 2px solid var(--fill-color);\n",
              "    border-color: transparent;\n",
              "    border-bottom-color: var(--fill-color);\n",
              "    animation:\n",
              "      spin 1s steps(1) infinite;\n",
              "  }\n",
              "\n",
              "  @keyframes spin {\n",
              "    0% {\n",
              "      border-color: transparent;\n",
              "      border-bottom-color: var(--fill-color);\n",
              "      border-left-color: var(--fill-color);\n",
              "    }\n",
              "    20% {\n",
              "      border-color: transparent;\n",
              "      border-left-color: var(--fill-color);\n",
              "      border-top-color: var(--fill-color);\n",
              "    }\n",
              "    30% {\n",
              "      border-color: transparent;\n",
              "      border-left-color: var(--fill-color);\n",
              "      border-top-color: var(--fill-color);\n",
              "      border-right-color: var(--fill-color);\n",
              "    }\n",
              "    40% {\n",
              "      border-color: transparent;\n",
              "      border-right-color: var(--fill-color);\n",
              "      border-top-color: var(--fill-color);\n",
              "    }\n",
              "    60% {\n",
              "      border-color: transparent;\n",
              "      border-right-color: var(--fill-color);\n",
              "    }\n",
              "    80% {\n",
              "      border-color: transparent;\n",
              "      border-right-color: var(--fill-color);\n",
              "      border-bottom-color: var(--fill-color);\n",
              "    }\n",
              "    90% {\n",
              "      border-color: transparent;\n",
              "      border-bottom-color: var(--fill-color);\n",
              "    }\n",
              "  }\n",
              "</style>\n",
              "\n",
              "  <script>\n",
              "    async function quickchart(key) {\n",
              "      const quickchartButtonEl =\n",
              "        document.querySelector('#' + key + ' button');\n",
              "      quickchartButtonEl.disabled = true;  // To prevent multiple clicks.\n",
              "      quickchartButtonEl.classList.add('colab-df-spinner');\n",
              "      try {\n",
              "        const charts = await google.colab.kernel.invokeFunction(\n",
              "            'suggestCharts', [key], {});\n",
              "      } catch (error) {\n",
              "        console.error('Error during call to suggestCharts:', error);\n",
              "      }\n",
              "      quickchartButtonEl.classList.remove('colab-df-spinner');\n",
              "      quickchartButtonEl.classList.add('colab-df-quickchart-complete');\n",
              "    }\n",
              "    (() => {\n",
              "      let quickchartButtonEl =\n",
              "        document.querySelector('#df-75578a1d-9a7b-4ac1-a235-b76ee1b81b2d button');\n",
              "      quickchartButtonEl.style.display =\n",
              "        google.colab.kernel.accessAllowed ? 'block' : 'none';\n",
              "    })();\n",
              "  </script>\n",
              "</div>\n",
              "\n",
              "    </div>\n",
              "  </div>\n"
            ]
          },
          "metadata": {},
          "execution_count": 132
        }
      ]
    },
    {
      "cell_type": "code",
      "source": [
        "cats = [\"dünya\",\"ekonomi\",\t\"kultur\"\t,\"saglik\"\t,\"siyaset\",\t\"spor\"\t,\"teknoloji\"]\n",
        "def model_predict(text, model):\n",
        "    text = preprocess_for_training(text)\n",
        "    sequences_test = tokenizer.texts_to_sequences([text])\n",
        "    data_test = pad_sequences(sequences_test, maxlen=data_train.shape[1])\n",
        "    predicted = model.predict(data_test)\n",
        "    predicted_category = predicted.argmax(axis=1)[0]\n",
        "    probability = predicted[0][predicted_category]\n",
        "    category = cats[predicted_category]\n",
        "    return category, probability\n",
        "\n"
      ],
      "metadata": {
        "id": "qZ5hqXadaDZk"
      },
      "execution_count": 172,
      "outputs": []
    },
    {
      "cell_type": "code",
      "execution_count": 159,
      "metadata": {
        "id": "InaqZ90MAzrq"
      },
      "outputs": [],
      "source": [
        "models = {\"CNN Model\": model_cnn,\"LSTM Model\": model_lstm,\"GRU Model\":model_gru,\"BILSTM Model\":model_bilstm}"
      ]
    },
    {
      "cell_type": "code",
      "execution_count": 173,
      "metadata": {
        "colab": {
          "base_uri": "https://localhost:8080/"
        },
        "id": "CZicX6aHBgxD",
        "outputId": "d142855b-876b-478c-f0d1-e6903b3c20f8"
      },
      "outputs": [
        {
          "output_type": "stream",
          "name": "stdout",
          "text": [
            "------------- CNN Model -------------------\n",
            "1/1 [==============================] - 0s 39ms/step\n",
            "teknoloji 0.14754708\n",
            "------------- LSTM Model -------------------\n",
            "1/1 [==============================] - 0s 169ms/step\n",
            "saglik 0.9221138\n",
            "------------- GRU Model -------------------\n",
            "1/1 [==============================] - 0s 174ms/step\n",
            "saglik 0.83459574\n",
            "------------- BILSTM Model -------------------\n",
            "1/1 [==============================] - 0s 210ms/step\n",
            "saglik 0.9694067\n"
          ]
        }
      ],
      "source": [
        "for name, model in models.items():\n",
        "  print(\"-------------\",name,\"-------------------\")\n",
        "  #This is a test data, category should be \"sağlık\"\n",
        "\n",
        "  text = \"\"\"kanseri önlemek yerine arttırıyorlar dna sarmalını keşfeden nobel ödüllü ünlü biyolog james watson antioksidan hapları ortaya çıkmasını engelledikleri kanserlerden fazla kansere yol açmış olabilir şeklinde açıklama yaptı watson önceki açıklamalarının aksine antioksidan içeren gıdaların haplarını tüketmenin kansere yol açtığını iddia etti ünlü biyolog radyasyon kemoterapi tedavilerinin kanser hücrelerini öldürerek vücutta oksijen açığa çıkarttığını söylüyor kanser tedavisi olan bir hastanın hapları alması terapilerin düzgün çalışmasını engelliyor hayatını kanser mücadeleye adayan watson son dönemde ortaya çıkan birçok araştırma ileri seviyede kanserlerin bir türlü tedavi edilememesinde vücuttaki antioksidan fazlalığının etkisini gösteriyor \"\"\"\n",
        "  pred,prob = model_predict(text,model)\n",
        "  print(pred, prob)"
      ]
    },
    {
      "cell_type": "code",
      "source": [
        "for name, model in models.items():\n",
        "  print(\"-------------\",name,\"-------------------\")\n",
        "  #This is a Turkish text from a news website in \"Ekonomi\" category\n",
        "  text = \"\"\"Milyonlarca memur ve emekli maaş zammının yüzde 49.25 olarak belirlenmesinin ardından maaş farklarını beklemeye başladı. Memur ve memur emeklileri,\n",
        "  zamlı maaşlarını ve enflasyon farkları 15 Ocak'tan itibaren alacak.\n",
        "  \"\"\"\n",
        "  pred = model_predict(text,model)\n",
        "  print(pred,prob)"
      ],
      "metadata": {
        "colab": {
          "base_uri": "https://localhost:8080/"
        },
        "id": "e1e815qjfFUT",
        "outputId": "492eba2a-dcc9-4e20-b4b1-aa51ffab8ed7"
      },
      "execution_count": 174,
      "outputs": [
        {
          "output_type": "stream",
          "name": "stdout",
          "text": [
            "------------- CNN Model -------------------\n",
            "1/1 [==============================] - 0s 50ms/step\n",
            "('teknoloji', 0.14731637) 0.9694067\n",
            "------------- LSTM Model -------------------\n",
            "1/1 [==============================] - 0s 156ms/step\n",
            "('ekonomi', 0.61638325) 0.9694067\n",
            "------------- GRU Model -------------------\n",
            "1/1 [==============================] - 0s 162ms/step\n",
            "('ekonomi', 0.5802297) 0.9694067\n",
            "------------- BILSTM Model -------------------\n",
            "1/1 [==============================] - 0s 242ms/step\n",
            "('siyaset', 0.3148235) 0.9694067\n"
          ]
        }
      ]
    },
    {
      "cell_type": "markdown",
      "source": [
        "LSTM(val_accuracy, 0.8299) and GRU (val_accuracy, 0.8599) Models have highest val accuracy for 10 epochs, increasing epochs can increase the accuracy higher for these models."
      ],
      "metadata": {
        "id": "ypAvm3M2frZE"
      }
    }
  ],
  "metadata": {
    "colab": {
      "provenance": [],
      "authorship_tag": "ABX9TyMWGqUC7UGQox3XShjsiIlZ",
      "include_colab_link": true
    },
    "kernelspec": {
      "display_name": "Python 3",
      "name": "python3"
    },
    "language_info": {
      "name": "python"
    }
  },
  "nbformat": 4,
  "nbformat_minor": 0
}